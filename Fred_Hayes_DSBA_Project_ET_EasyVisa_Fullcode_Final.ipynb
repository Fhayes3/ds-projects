{
  "cells": [
    {
      "cell_type": "markdown",
      "metadata": {
        "id": "view-in-github",
        "colab_type": "text"
      },
      "source": [
        "<a href=\"https://colab.research.google.com/github/Fhayes3/ds-projects/blob/main/Fred_Hayes_DSBA_Project_ET_EasyVisa_Fullcode_Final.ipynb\" target=\"_parent\"><img src=\"https://colab.research.google.com/assets/colab-badge.svg\" alt=\"Open In Colab\"/></a>"
      ]
    },
    {
      "cell_type": "markdown",
      "id": "AT5OogJVFbwu",
      "metadata": {
        "id": "AT5OogJVFbwu"
      },
      "source": [
        "# EasyVisa Project\n",
        "\n",
        "## Context:\n",
        "\n",
        "Business communities in the United States are facing high demand for human resources, but one of the constant challenges is identifying and attracting the right talent, which is perhaps the most important element in remaining competitive. Companies in the United States look for hard-working, talented, and qualified individuals both locally as well as abroad.\n",
        "\n",
        "The Immigration and Nationality Act (INA) of the US permits foreign workers to come to the United States to work on either a temporary or permanent basis. The act also protects US workers against adverse impacts on their wages or working conditions by ensuring US employers' compliance with statutory requirements when they hire foreign workers to fill workforce shortages. The immigration programs are administered by the Office of Foreign Labor Certification (OFLC).\n",
        "\n",
        "OFLC processes job certification applications for employers seeking to bring foreign workers into the United States and grants certifications in those cases where employers can demonstrate that there are not sufficient US workers available to perform the work at wages that meet or exceed the wage paid for the occupation in the area of intended employment.\n",
        "\n",
        "## Objective:\n",
        "\n",
        "In FY 2016, the OFLC processed 775,979 employer applications for 1,699,957 positions for temporary and permanent labor certifications. This was a nine percent increase in the overall number of processed applications from the previous year. The process of reviewing every case is becoming a tedious task as the number of applicants is increasing every year.\n",
        "\n",
        "The increasing number of applicants every year calls for a Machine Learning based solution that can help in shortlisting the candidates having higher chances of VISA approval. OFLC has hired your firm EasyVisa for data-driven solutions. You as a data scientist have to analyze the data provided and, with the help of a classification model:\n",
        "\n",
        "* Facilitate the process of visa approvals.\n",
        "* Recommend a suitable profile for the applicants for whom the visa should be certified or denied based on the drivers that significantly influence the case status. \n",
        "\n",
        "\n",
        "## Data Description\n",
        "\n",
        "The data contains the different attributes of the employee and the employer. The detailed data dictionary is given below.\n",
        "\n",
        "* case_id: ID of each visa application\n",
        "* continent: Information of continent the employee\n",
        "* education_of_employee: Information of education of the employee\n",
        "* has_job_experience: Does the employee has any job experience? Y= Yes; N = No\n",
        "* requires_job_training: Does the employee require any job training? Y = Yes; N = No \n",
        "* no_of_employees: Number of employees in the employer's company\n",
        "* yr_of_estab: Year in which the employer's company was established\n",
        "* region_of_employment: Information of foreign worker's intended region of employment in the US.\n",
        "* prevailing_wage:  Average wage paid to similarly employed workers in a specific occupation in the area of intended employment. The purpose of the prevailing wage is to ensure that the foreign worker is not underpaid compared to other workers offering the same or similar service in the same area of employment. \n",
        "* unit_of_wage: Unit of prevailing wage. Values include Hourly, Weekly, Monthly, and Yearly.\n",
        "* full_time_position: Is the position of work full-time? Y = Full Time Position; N = Part Time Position\n",
        "* case_status:  Flag indicating if the Visa was certified or denied"
      ]
    },
    {
      "cell_type": "markdown",
      "id": "dirty-island",
      "metadata": {
        "id": "dirty-island"
      },
      "source": [
        "## Importing necessary libraries and data"
      ]
    },
    {
      "cell_type": "code",
      "execution_count": null,
      "id": "statewide-still",
      "metadata": {
        "id": "statewide-still"
      },
      "outputs": [],
      "source": [
        "# Libraries to help with reading and manipulating data\n",
        "import numpy as np\n",
        "import pandas as pd\n",
        "\n",
        "# Library to split data\n",
        "from sklearn.model_selection import train_test_split\n",
        "\n",
        "# libaries to help with data visualization\n",
        "import matplotlib.pyplot as plt\n",
        "import seaborn as sns\n",
        "\n",
        "# Removes the limit for the number of displayed columns\n",
        "pd.set_option(\"display.max_columns\", None)\n",
        "# Sets the limit for the number of displayed rows\n",
        "pd.set_option(\"display.max_rows\", 100)\n",
        "\n",
        "\n",
        "# Libraries different ensemble classifiers\n",
        "from sklearn.ensemble import (\n",
        "    BaggingClassifier,\n",
        "    RandomForestClassifier,\n",
        "    AdaBoostClassifier,\n",
        "    GradientBoostingClassifier,\n",
        "    StackingClassifier,\n",
        ")\n",
        "\n",
        "from xgboost import XGBClassifier\n",
        "from sklearn.tree import DecisionTreeClassifier\n",
        "\n",
        "# Libraries to get different metric scores\n",
        "from sklearn import metrics\n",
        "from sklearn.metrics import (\n",
        "    confusion_matrix,\n",
        "    accuracy_score,\n",
        "    precision_score,\n",
        "    recall_score,\n",
        "    f1_score,\n",
        ")\n",
        "\n",
        "# To tune different models\n",
        "from sklearn.model_selection import GridSearchCV"
      ]
    },
    {
      "cell_type": "code",
      "source": [
        "#Loading dataset\n",
        "visa =pd.read_csv(\"EasyVisa.csv\")\n",
        "ds = visa.copy()"
      ],
      "metadata": {
        "id": "sy0nT6Qo4AKN"
      },
      "id": "sy0nT6Qo4AKN",
      "execution_count": null,
      "outputs": []
    },
    {
      "cell_type": "markdown",
      "id": "desperate-infection",
      "metadata": {
        "id": "desperate-infection"
      },
      "source": [
        "## Data Overview\n",
        "\n",
        "- Observations\n",
        "- Sanity checks"
      ]
    },
    {
      "cell_type": "markdown",
      "source": [
        "**Below are the first five and last five rows of the Data set.**"
      ],
      "metadata": {
        "id": "6sMybsWRP7Iv"
      },
      "id": "6sMybsWRP7Iv"
    },
    {
      "cell_type": "code",
      "execution_count": null,
      "id": "persistent-juice",
      "metadata": {
        "id": "persistent-juice",
        "colab": {
          "base_uri": "https://localhost:8080/",
          "height": 270
        },
        "outputId": "34b8c3a3-f729-4109-e02a-8fdd4ce3418f"
      },
      "outputs": [
        {
          "output_type": "execute_result",
          "data": {
            "text/plain": [
              "  case_id continent education_of_employee has_job_experience  \\\n",
              "0  EZYV01      Asia           High School                  N   \n",
              "1  EZYV02      Asia              Master's                  Y   \n",
              "2  EZYV03      Asia            Bachelor's                  N   \n",
              "3  EZYV04      Asia            Bachelor's                  N   \n",
              "4  EZYV05    Africa              Master's                  Y   \n",
              "\n",
              "  requires_job_training  no_of_employees  yr_of_estab region_of_employment  \\\n",
              "0                     N            14513         2007                 West   \n",
              "1                     N             2412         2002            Northeast   \n",
              "2                     Y            44444         2008                 West   \n",
              "3                     N               98         1897                 West   \n",
              "4                     N             1082         2005                South   \n",
              "\n",
              "   prevailing_wage unit_of_wage full_time_position case_status  \n",
              "0         592.2029         Hour                  Y      Denied  \n",
              "1       83425.6500         Year                  Y   Certified  \n",
              "2      122996.8600         Year                  Y      Denied  \n",
              "3       83434.0300         Year                  Y      Denied  \n",
              "4      149907.3900         Year                  Y   Certified  "
            ],
            "text/html": [
              "\n",
              "  <div id=\"df-b050dc98-895d-4e8f-b330-9f56403d2465\">\n",
              "    <div class=\"colab-df-container\">\n",
              "      <div>\n",
              "<style scoped>\n",
              "    .dataframe tbody tr th:only-of-type {\n",
              "        vertical-align: middle;\n",
              "    }\n",
              "\n",
              "    .dataframe tbody tr th {\n",
              "        vertical-align: top;\n",
              "    }\n",
              "\n",
              "    .dataframe thead th {\n",
              "        text-align: right;\n",
              "    }\n",
              "</style>\n",
              "<table border=\"1\" class=\"dataframe\">\n",
              "  <thead>\n",
              "    <tr style=\"text-align: right;\">\n",
              "      <th></th>\n",
              "      <th>case_id</th>\n",
              "      <th>continent</th>\n",
              "      <th>education_of_employee</th>\n",
              "      <th>has_job_experience</th>\n",
              "      <th>requires_job_training</th>\n",
              "      <th>no_of_employees</th>\n",
              "      <th>yr_of_estab</th>\n",
              "      <th>region_of_employment</th>\n",
              "      <th>prevailing_wage</th>\n",
              "      <th>unit_of_wage</th>\n",
              "      <th>full_time_position</th>\n",
              "      <th>case_status</th>\n",
              "    </tr>\n",
              "  </thead>\n",
              "  <tbody>\n",
              "    <tr>\n",
              "      <th>0</th>\n",
              "      <td>EZYV01</td>\n",
              "      <td>Asia</td>\n",
              "      <td>High School</td>\n",
              "      <td>N</td>\n",
              "      <td>N</td>\n",
              "      <td>14513</td>\n",
              "      <td>2007</td>\n",
              "      <td>West</td>\n",
              "      <td>592.2029</td>\n",
              "      <td>Hour</td>\n",
              "      <td>Y</td>\n",
              "      <td>Denied</td>\n",
              "    </tr>\n",
              "    <tr>\n",
              "      <th>1</th>\n",
              "      <td>EZYV02</td>\n",
              "      <td>Asia</td>\n",
              "      <td>Master's</td>\n",
              "      <td>Y</td>\n",
              "      <td>N</td>\n",
              "      <td>2412</td>\n",
              "      <td>2002</td>\n",
              "      <td>Northeast</td>\n",
              "      <td>83425.6500</td>\n",
              "      <td>Year</td>\n",
              "      <td>Y</td>\n",
              "      <td>Certified</td>\n",
              "    </tr>\n",
              "    <tr>\n",
              "      <th>2</th>\n",
              "      <td>EZYV03</td>\n",
              "      <td>Asia</td>\n",
              "      <td>Bachelor's</td>\n",
              "      <td>N</td>\n",
              "      <td>Y</td>\n",
              "      <td>44444</td>\n",
              "      <td>2008</td>\n",
              "      <td>West</td>\n",
              "      <td>122996.8600</td>\n",
              "      <td>Year</td>\n",
              "      <td>Y</td>\n",
              "      <td>Denied</td>\n",
              "    </tr>\n",
              "    <tr>\n",
              "      <th>3</th>\n",
              "      <td>EZYV04</td>\n",
              "      <td>Asia</td>\n",
              "      <td>Bachelor's</td>\n",
              "      <td>N</td>\n",
              "      <td>N</td>\n",
              "      <td>98</td>\n",
              "      <td>1897</td>\n",
              "      <td>West</td>\n",
              "      <td>83434.0300</td>\n",
              "      <td>Year</td>\n",
              "      <td>Y</td>\n",
              "      <td>Denied</td>\n",
              "    </tr>\n",
              "    <tr>\n",
              "      <th>4</th>\n",
              "      <td>EZYV05</td>\n",
              "      <td>Africa</td>\n",
              "      <td>Master's</td>\n",
              "      <td>Y</td>\n",
              "      <td>N</td>\n",
              "      <td>1082</td>\n",
              "      <td>2005</td>\n",
              "      <td>South</td>\n",
              "      <td>149907.3900</td>\n",
              "      <td>Year</td>\n",
              "      <td>Y</td>\n",
              "      <td>Certified</td>\n",
              "    </tr>\n",
              "  </tbody>\n",
              "</table>\n",
              "</div>\n",
              "      <button class=\"colab-df-convert\" onclick=\"convertToInteractive('df-b050dc98-895d-4e8f-b330-9f56403d2465')\"\n",
              "              title=\"Convert this dataframe to an interactive table.\"\n",
              "              style=\"display:none;\">\n",
              "        \n",
              "  <svg xmlns=\"http://www.w3.org/2000/svg\" height=\"24px\"viewBox=\"0 0 24 24\"\n",
              "       width=\"24px\">\n",
              "    <path d=\"M0 0h24v24H0V0z\" fill=\"none\"/>\n",
              "    <path d=\"M18.56 5.44l.94 2.06.94-2.06 2.06-.94-2.06-.94-.94-2.06-.94 2.06-2.06.94zm-11 1L8.5 8.5l.94-2.06 2.06-.94-2.06-.94L8.5 2.5l-.94 2.06-2.06.94zm10 10l.94 2.06.94-2.06 2.06-.94-2.06-.94-.94-2.06-.94 2.06-2.06.94z\"/><path d=\"M17.41 7.96l-1.37-1.37c-.4-.4-.92-.59-1.43-.59-.52 0-1.04.2-1.43.59L10.3 9.45l-7.72 7.72c-.78.78-.78 2.05 0 2.83L4 21.41c.39.39.9.59 1.41.59.51 0 1.02-.2 1.41-.59l7.78-7.78 2.81-2.81c.8-.78.8-2.07 0-2.86zM5.41 20L4 18.59l7.72-7.72 1.47 1.35L5.41 20z\"/>\n",
              "  </svg>\n",
              "      </button>\n",
              "      \n",
              "  <style>\n",
              "    .colab-df-container {\n",
              "      display:flex;\n",
              "      flex-wrap:wrap;\n",
              "      gap: 12px;\n",
              "    }\n",
              "\n",
              "    .colab-df-convert {\n",
              "      background-color: #E8F0FE;\n",
              "      border: none;\n",
              "      border-radius: 50%;\n",
              "      cursor: pointer;\n",
              "      display: none;\n",
              "      fill: #1967D2;\n",
              "      height: 32px;\n",
              "      padding: 0 0 0 0;\n",
              "      width: 32px;\n",
              "    }\n",
              "\n",
              "    .colab-df-convert:hover {\n",
              "      background-color: #E2EBFA;\n",
              "      box-shadow: 0px 1px 2px rgba(60, 64, 67, 0.3), 0px 1px 3px 1px rgba(60, 64, 67, 0.15);\n",
              "      fill: #174EA6;\n",
              "    }\n",
              "\n",
              "    [theme=dark] .colab-df-convert {\n",
              "      background-color: #3B4455;\n",
              "      fill: #D2E3FC;\n",
              "    }\n",
              "\n",
              "    [theme=dark] .colab-df-convert:hover {\n",
              "      background-color: #434B5C;\n",
              "      box-shadow: 0px 1px 3px 1px rgba(0, 0, 0, 0.15);\n",
              "      filter: drop-shadow(0px 1px 2px rgba(0, 0, 0, 0.3));\n",
              "      fill: #FFFFFF;\n",
              "    }\n",
              "  </style>\n",
              "\n",
              "      <script>\n",
              "        const buttonEl =\n",
              "          document.querySelector('#df-b050dc98-895d-4e8f-b330-9f56403d2465 button.colab-df-convert');\n",
              "        buttonEl.style.display =\n",
              "          google.colab.kernel.accessAllowed ? 'block' : 'none';\n",
              "\n",
              "        async function convertToInteractive(key) {\n",
              "          const element = document.querySelector('#df-b050dc98-895d-4e8f-b330-9f56403d2465');\n",
              "          const dataTable =\n",
              "            await google.colab.kernel.invokeFunction('convertToInteractive',\n",
              "                                                     [key], {});\n",
              "          if (!dataTable) return;\n",
              "\n",
              "          const docLinkHtml = 'Like what you see? Visit the ' +\n",
              "            '<a target=\"_blank\" href=https://colab.research.google.com/notebooks/data_table.ipynb>data table notebook</a>'\n",
              "            + ' to learn more about interactive tables.';\n",
              "          element.innerHTML = '';\n",
              "          dataTable['output_type'] = 'display_data';\n",
              "          await google.colab.output.renderOutput(dataTable, element);\n",
              "          const docLink = document.createElement('div');\n",
              "          docLink.innerHTML = docLinkHtml;\n",
              "          element.appendChild(docLink);\n",
              "        }\n",
              "      </script>\n",
              "    </div>\n",
              "  </div>\n",
              "  "
            ]
          },
          "metadata": {},
          "execution_count": 82
        }
      ],
      "source": [
        "ds.head()"
      ]
    },
    {
      "cell_type": "code",
      "source": [
        "ds.tail()"
      ],
      "metadata": {
        "colab": {
          "base_uri": "https://localhost:8080/",
          "height": 270
        },
        "id": "Dl_dVQ4tu8hJ",
        "outputId": "0dacc9e4-5c43-4255-98f6-96a2e8338e53"
      },
      "id": "Dl_dVQ4tu8hJ",
      "execution_count": null,
      "outputs": [
        {
          "output_type": "execute_result",
          "data": {
            "text/plain": [
              "         case_id continent education_of_employee has_job_experience  \\\n",
              "25475  EZYV25476      Asia            Bachelor's                  Y   \n",
              "25476  EZYV25477      Asia           High School                  Y   \n",
              "25477  EZYV25478      Asia              Master's                  Y   \n",
              "25478  EZYV25479      Asia              Master's                  Y   \n",
              "25479  EZYV25480      Asia            Bachelor's                  Y   \n",
              "\n",
              "      requires_job_training  no_of_employees  yr_of_estab  \\\n",
              "25475                     Y             2601         2008   \n",
              "25476                     N             3274         2006   \n",
              "25477                     N             1121         1910   \n",
              "25478                     Y             1918         1887   \n",
              "25479                     N             3195         1960   \n",
              "\n",
              "      region_of_employment  prevailing_wage unit_of_wage full_time_position  \\\n",
              "25475                South         77092.57         Year                  Y   \n",
              "25476            Northeast        279174.79         Year                  Y   \n",
              "25477                South        146298.85         Year                  N   \n",
              "25478                 West         86154.77         Year                  Y   \n",
              "25479              Midwest         70876.91         Year                  Y   \n",
              "\n",
              "      case_status  \n",
              "25475   Certified  \n",
              "25476   Certified  \n",
              "25477   Certified  \n",
              "25478   Certified  \n",
              "25479   Certified  "
            ],
            "text/html": [
              "\n",
              "  <div id=\"df-6d2726a3-f1ff-4dff-9c52-211fecc371b2\">\n",
              "    <div class=\"colab-df-container\">\n",
              "      <div>\n",
              "<style scoped>\n",
              "    .dataframe tbody tr th:only-of-type {\n",
              "        vertical-align: middle;\n",
              "    }\n",
              "\n",
              "    .dataframe tbody tr th {\n",
              "        vertical-align: top;\n",
              "    }\n",
              "\n",
              "    .dataframe thead th {\n",
              "        text-align: right;\n",
              "    }\n",
              "</style>\n",
              "<table border=\"1\" class=\"dataframe\">\n",
              "  <thead>\n",
              "    <tr style=\"text-align: right;\">\n",
              "      <th></th>\n",
              "      <th>case_id</th>\n",
              "      <th>continent</th>\n",
              "      <th>education_of_employee</th>\n",
              "      <th>has_job_experience</th>\n",
              "      <th>requires_job_training</th>\n",
              "      <th>no_of_employees</th>\n",
              "      <th>yr_of_estab</th>\n",
              "      <th>region_of_employment</th>\n",
              "      <th>prevailing_wage</th>\n",
              "      <th>unit_of_wage</th>\n",
              "      <th>full_time_position</th>\n",
              "      <th>case_status</th>\n",
              "    </tr>\n",
              "  </thead>\n",
              "  <tbody>\n",
              "    <tr>\n",
              "      <th>25475</th>\n",
              "      <td>EZYV25476</td>\n",
              "      <td>Asia</td>\n",
              "      <td>Bachelor's</td>\n",
              "      <td>Y</td>\n",
              "      <td>Y</td>\n",
              "      <td>2601</td>\n",
              "      <td>2008</td>\n",
              "      <td>South</td>\n",
              "      <td>77092.57</td>\n",
              "      <td>Year</td>\n",
              "      <td>Y</td>\n",
              "      <td>Certified</td>\n",
              "    </tr>\n",
              "    <tr>\n",
              "      <th>25476</th>\n",
              "      <td>EZYV25477</td>\n",
              "      <td>Asia</td>\n",
              "      <td>High School</td>\n",
              "      <td>Y</td>\n",
              "      <td>N</td>\n",
              "      <td>3274</td>\n",
              "      <td>2006</td>\n",
              "      <td>Northeast</td>\n",
              "      <td>279174.79</td>\n",
              "      <td>Year</td>\n",
              "      <td>Y</td>\n",
              "      <td>Certified</td>\n",
              "    </tr>\n",
              "    <tr>\n",
              "      <th>25477</th>\n",
              "      <td>EZYV25478</td>\n",
              "      <td>Asia</td>\n",
              "      <td>Master's</td>\n",
              "      <td>Y</td>\n",
              "      <td>N</td>\n",
              "      <td>1121</td>\n",
              "      <td>1910</td>\n",
              "      <td>South</td>\n",
              "      <td>146298.85</td>\n",
              "      <td>Year</td>\n",
              "      <td>N</td>\n",
              "      <td>Certified</td>\n",
              "    </tr>\n",
              "    <tr>\n",
              "      <th>25478</th>\n",
              "      <td>EZYV25479</td>\n",
              "      <td>Asia</td>\n",
              "      <td>Master's</td>\n",
              "      <td>Y</td>\n",
              "      <td>Y</td>\n",
              "      <td>1918</td>\n",
              "      <td>1887</td>\n",
              "      <td>West</td>\n",
              "      <td>86154.77</td>\n",
              "      <td>Year</td>\n",
              "      <td>Y</td>\n",
              "      <td>Certified</td>\n",
              "    </tr>\n",
              "    <tr>\n",
              "      <th>25479</th>\n",
              "      <td>EZYV25480</td>\n",
              "      <td>Asia</td>\n",
              "      <td>Bachelor's</td>\n",
              "      <td>Y</td>\n",
              "      <td>N</td>\n",
              "      <td>3195</td>\n",
              "      <td>1960</td>\n",
              "      <td>Midwest</td>\n",
              "      <td>70876.91</td>\n",
              "      <td>Year</td>\n",
              "      <td>Y</td>\n",
              "      <td>Certified</td>\n",
              "    </tr>\n",
              "  </tbody>\n",
              "</table>\n",
              "</div>\n",
              "      <button class=\"colab-df-convert\" onclick=\"convertToInteractive('df-6d2726a3-f1ff-4dff-9c52-211fecc371b2')\"\n",
              "              title=\"Convert this dataframe to an interactive table.\"\n",
              "              style=\"display:none;\">\n",
              "        \n",
              "  <svg xmlns=\"http://www.w3.org/2000/svg\" height=\"24px\"viewBox=\"0 0 24 24\"\n",
              "       width=\"24px\">\n",
              "    <path d=\"M0 0h24v24H0V0z\" fill=\"none\"/>\n",
              "    <path d=\"M18.56 5.44l.94 2.06.94-2.06 2.06-.94-2.06-.94-.94-2.06-.94 2.06-2.06.94zm-11 1L8.5 8.5l.94-2.06 2.06-.94-2.06-.94L8.5 2.5l-.94 2.06-2.06.94zm10 10l.94 2.06.94-2.06 2.06-.94-2.06-.94-.94-2.06-.94 2.06-2.06.94z\"/><path d=\"M17.41 7.96l-1.37-1.37c-.4-.4-.92-.59-1.43-.59-.52 0-1.04.2-1.43.59L10.3 9.45l-7.72 7.72c-.78.78-.78 2.05 0 2.83L4 21.41c.39.39.9.59 1.41.59.51 0 1.02-.2 1.41-.59l7.78-7.78 2.81-2.81c.8-.78.8-2.07 0-2.86zM5.41 20L4 18.59l7.72-7.72 1.47 1.35L5.41 20z\"/>\n",
              "  </svg>\n",
              "      </button>\n",
              "      \n",
              "  <style>\n",
              "    .colab-df-container {\n",
              "      display:flex;\n",
              "      flex-wrap:wrap;\n",
              "      gap: 12px;\n",
              "    }\n",
              "\n",
              "    .colab-df-convert {\n",
              "      background-color: #E8F0FE;\n",
              "      border: none;\n",
              "      border-radius: 50%;\n",
              "      cursor: pointer;\n",
              "      display: none;\n",
              "      fill: #1967D2;\n",
              "      height: 32px;\n",
              "      padding: 0 0 0 0;\n",
              "      width: 32px;\n",
              "    }\n",
              "\n",
              "    .colab-df-convert:hover {\n",
              "      background-color: #E2EBFA;\n",
              "      box-shadow: 0px 1px 2px rgba(60, 64, 67, 0.3), 0px 1px 3px 1px rgba(60, 64, 67, 0.15);\n",
              "      fill: #174EA6;\n",
              "    }\n",
              "\n",
              "    [theme=dark] .colab-df-convert {\n",
              "      background-color: #3B4455;\n",
              "      fill: #D2E3FC;\n",
              "    }\n",
              "\n",
              "    [theme=dark] .colab-df-convert:hover {\n",
              "      background-color: #434B5C;\n",
              "      box-shadow: 0px 1px 3px 1px rgba(0, 0, 0, 0.15);\n",
              "      filter: drop-shadow(0px 1px 2px rgba(0, 0, 0, 0.3));\n",
              "      fill: #FFFFFF;\n",
              "    }\n",
              "  </style>\n",
              "\n",
              "      <script>\n",
              "        const buttonEl =\n",
              "          document.querySelector('#df-6d2726a3-f1ff-4dff-9c52-211fecc371b2 button.colab-df-convert');\n",
              "        buttonEl.style.display =\n",
              "          google.colab.kernel.accessAllowed ? 'block' : 'none';\n",
              "\n",
              "        async function convertToInteractive(key) {\n",
              "          const element = document.querySelector('#df-6d2726a3-f1ff-4dff-9c52-211fecc371b2');\n",
              "          const dataTable =\n",
              "            await google.colab.kernel.invokeFunction('convertToInteractive',\n",
              "                                                     [key], {});\n",
              "          if (!dataTable) return;\n",
              "\n",
              "          const docLinkHtml = 'Like what you see? Visit the ' +\n",
              "            '<a target=\"_blank\" href=https://colab.research.google.com/notebooks/data_table.ipynb>data table notebook</a>'\n",
              "            + ' to learn more about interactive tables.';\n",
              "          element.innerHTML = '';\n",
              "          dataTable['output_type'] = 'display_data';\n",
              "          await google.colab.output.renderOutput(dataTable, element);\n",
              "          const docLink = document.createElement('div');\n",
              "          docLink.innerHTML = docLinkHtml;\n",
              "          element.appendChild(docLink);\n",
              "        }\n",
              "      </script>\n",
              "    </div>\n",
              "  </div>\n",
              "  "
            ]
          },
          "metadata": {},
          "execution_count": 83
        }
      ]
    },
    {
      "cell_type": "markdown",
      "source": [
        "**The Shape of the data set**"
      ],
      "metadata": {
        "id": "4I1dA2L8QDOW"
      },
      "id": "4I1dA2L8QDOW"
    },
    {
      "cell_type": "code",
      "source": [
        "ds.shape"
      ],
      "metadata": {
        "colab": {
          "base_uri": "https://localhost:8080/"
        },
        "id": "O0xEz2uReyqt",
        "outputId": "3fe4dbcd-5e7d-48f1-b4a4-e678e76827e8"
      },
      "id": "O0xEz2uReyqt",
      "execution_count": null,
      "outputs": [
        {
          "output_type": "execute_result",
          "data": {
            "text/plain": [
              "(25480, 12)"
            ]
          },
          "metadata": {},
          "execution_count": 84
        }
      ]
    },
    {
      "cell_type": "markdown",
      "source": [
        "The data set contains 25480 rows and 12 columns."
      ],
      "metadata": {
        "id": "pnYIfFjqQISC"
      },
      "id": "pnYIfFjqQISC"
    },
    {
      "cell_type": "markdown",
      "source": [
        "**Test for duplicated values**"
      ],
      "metadata": {
        "id": "AU6P6gGxQQk3"
      },
      "id": "AU6P6gGxQQk3"
    },
    {
      "cell_type": "code",
      "source": [
        "ds.duplicated().sum()"
      ],
      "metadata": {
        "colab": {
          "base_uri": "https://localhost:8080/"
        },
        "id": "gVgFkkU6vDu0",
        "outputId": "0351d65e-a0e4-46a4-9f02-dfea14238451"
      },
      "id": "gVgFkkU6vDu0",
      "execution_count": null,
      "outputs": [
        {
          "output_type": "execute_result",
          "data": {
            "text/plain": [
              "0"
            ]
          },
          "metadata": {},
          "execution_count": 85
        }
      ]
    },
    {
      "cell_type": "markdown",
      "source": [
        "There are no duplicated values."
      ],
      "metadata": {
        "id": "J0CIqK9dQVHy"
      },
      "id": "J0CIqK9dQVHy"
    },
    {
      "cell_type": "markdown",
      "source": [
        "**Dropping Case Id from the data set since it will not be useful to us.**"
      ],
      "metadata": {
        "id": "527fjTV_QYDQ"
      },
      "id": "527fjTV_QYDQ"
    },
    {
      "cell_type": "code",
      "source": [
        "ds.drop(\"case_id\", axis=1, inplace=True)\n",
        "ds.head()"
      ],
      "metadata": {
        "colab": {
          "base_uri": "https://localhost:8080/",
          "height": 250
        },
        "id": "tdgvFpyzvksQ",
        "outputId": "67b6624e-4c1d-4529-b7dc-24a34286703e"
      },
      "id": "tdgvFpyzvksQ",
      "execution_count": null,
      "outputs": [
        {
          "output_type": "execute_result",
          "data": {
            "text/plain": [
              "  continent education_of_employee has_job_experience requires_job_training  \\\n",
              "0      Asia           High School                  N                     N   \n",
              "1      Asia              Master's                  Y                     N   \n",
              "2      Asia            Bachelor's                  N                     Y   \n",
              "3      Asia            Bachelor's                  N                     N   \n",
              "4    Africa              Master's                  Y                     N   \n",
              "\n",
              "   no_of_employees  yr_of_estab region_of_employment  prevailing_wage  \\\n",
              "0            14513         2007                 West         592.2029   \n",
              "1             2412         2002            Northeast       83425.6500   \n",
              "2            44444         2008                 West      122996.8600   \n",
              "3               98         1897                 West       83434.0300   \n",
              "4             1082         2005                South      149907.3900   \n",
              "\n",
              "  unit_of_wage full_time_position case_status  \n",
              "0         Hour                  Y      Denied  \n",
              "1         Year                  Y   Certified  \n",
              "2         Year                  Y      Denied  \n",
              "3         Year                  Y      Denied  \n",
              "4         Year                  Y   Certified  "
            ],
            "text/html": [
              "\n",
              "  <div id=\"df-3a9c8d67-2028-45c7-8672-547d4fad2793\">\n",
              "    <div class=\"colab-df-container\">\n",
              "      <div>\n",
              "<style scoped>\n",
              "    .dataframe tbody tr th:only-of-type {\n",
              "        vertical-align: middle;\n",
              "    }\n",
              "\n",
              "    .dataframe tbody tr th {\n",
              "        vertical-align: top;\n",
              "    }\n",
              "\n",
              "    .dataframe thead th {\n",
              "        text-align: right;\n",
              "    }\n",
              "</style>\n",
              "<table border=\"1\" class=\"dataframe\">\n",
              "  <thead>\n",
              "    <tr style=\"text-align: right;\">\n",
              "      <th></th>\n",
              "      <th>continent</th>\n",
              "      <th>education_of_employee</th>\n",
              "      <th>has_job_experience</th>\n",
              "      <th>requires_job_training</th>\n",
              "      <th>no_of_employees</th>\n",
              "      <th>yr_of_estab</th>\n",
              "      <th>region_of_employment</th>\n",
              "      <th>prevailing_wage</th>\n",
              "      <th>unit_of_wage</th>\n",
              "      <th>full_time_position</th>\n",
              "      <th>case_status</th>\n",
              "    </tr>\n",
              "  </thead>\n",
              "  <tbody>\n",
              "    <tr>\n",
              "      <th>0</th>\n",
              "      <td>Asia</td>\n",
              "      <td>High School</td>\n",
              "      <td>N</td>\n",
              "      <td>N</td>\n",
              "      <td>14513</td>\n",
              "      <td>2007</td>\n",
              "      <td>West</td>\n",
              "      <td>592.2029</td>\n",
              "      <td>Hour</td>\n",
              "      <td>Y</td>\n",
              "      <td>Denied</td>\n",
              "    </tr>\n",
              "    <tr>\n",
              "      <th>1</th>\n",
              "      <td>Asia</td>\n",
              "      <td>Master's</td>\n",
              "      <td>Y</td>\n",
              "      <td>N</td>\n",
              "      <td>2412</td>\n",
              "      <td>2002</td>\n",
              "      <td>Northeast</td>\n",
              "      <td>83425.6500</td>\n",
              "      <td>Year</td>\n",
              "      <td>Y</td>\n",
              "      <td>Certified</td>\n",
              "    </tr>\n",
              "    <tr>\n",
              "      <th>2</th>\n",
              "      <td>Asia</td>\n",
              "      <td>Bachelor's</td>\n",
              "      <td>N</td>\n",
              "      <td>Y</td>\n",
              "      <td>44444</td>\n",
              "      <td>2008</td>\n",
              "      <td>West</td>\n",
              "      <td>122996.8600</td>\n",
              "      <td>Year</td>\n",
              "      <td>Y</td>\n",
              "      <td>Denied</td>\n",
              "    </tr>\n",
              "    <tr>\n",
              "      <th>3</th>\n",
              "      <td>Asia</td>\n",
              "      <td>Bachelor's</td>\n",
              "      <td>N</td>\n",
              "      <td>N</td>\n",
              "      <td>98</td>\n",
              "      <td>1897</td>\n",
              "      <td>West</td>\n",
              "      <td>83434.0300</td>\n",
              "      <td>Year</td>\n",
              "      <td>Y</td>\n",
              "      <td>Denied</td>\n",
              "    </tr>\n",
              "    <tr>\n",
              "      <th>4</th>\n",
              "      <td>Africa</td>\n",
              "      <td>Master's</td>\n",
              "      <td>Y</td>\n",
              "      <td>N</td>\n",
              "      <td>1082</td>\n",
              "      <td>2005</td>\n",
              "      <td>South</td>\n",
              "      <td>149907.3900</td>\n",
              "      <td>Year</td>\n",
              "      <td>Y</td>\n",
              "      <td>Certified</td>\n",
              "    </tr>\n",
              "  </tbody>\n",
              "</table>\n",
              "</div>\n",
              "      <button class=\"colab-df-convert\" onclick=\"convertToInteractive('df-3a9c8d67-2028-45c7-8672-547d4fad2793')\"\n",
              "              title=\"Convert this dataframe to an interactive table.\"\n",
              "              style=\"display:none;\">\n",
              "        \n",
              "  <svg xmlns=\"http://www.w3.org/2000/svg\" height=\"24px\"viewBox=\"0 0 24 24\"\n",
              "       width=\"24px\">\n",
              "    <path d=\"M0 0h24v24H0V0z\" fill=\"none\"/>\n",
              "    <path d=\"M18.56 5.44l.94 2.06.94-2.06 2.06-.94-2.06-.94-.94-2.06-.94 2.06-2.06.94zm-11 1L8.5 8.5l.94-2.06 2.06-.94-2.06-.94L8.5 2.5l-.94 2.06-2.06.94zm10 10l.94 2.06.94-2.06 2.06-.94-2.06-.94-.94-2.06-.94 2.06-2.06.94z\"/><path d=\"M17.41 7.96l-1.37-1.37c-.4-.4-.92-.59-1.43-.59-.52 0-1.04.2-1.43.59L10.3 9.45l-7.72 7.72c-.78.78-.78 2.05 0 2.83L4 21.41c.39.39.9.59 1.41.59.51 0 1.02-.2 1.41-.59l7.78-7.78 2.81-2.81c.8-.78.8-2.07 0-2.86zM5.41 20L4 18.59l7.72-7.72 1.47 1.35L5.41 20z\"/>\n",
              "  </svg>\n",
              "      </button>\n",
              "      \n",
              "  <style>\n",
              "    .colab-df-container {\n",
              "      display:flex;\n",
              "      flex-wrap:wrap;\n",
              "      gap: 12px;\n",
              "    }\n",
              "\n",
              "    .colab-df-convert {\n",
              "      background-color: #E8F0FE;\n",
              "      border: none;\n",
              "      border-radius: 50%;\n",
              "      cursor: pointer;\n",
              "      display: none;\n",
              "      fill: #1967D2;\n",
              "      height: 32px;\n",
              "      padding: 0 0 0 0;\n",
              "      width: 32px;\n",
              "    }\n",
              "\n",
              "    .colab-df-convert:hover {\n",
              "      background-color: #E2EBFA;\n",
              "      box-shadow: 0px 1px 2px rgba(60, 64, 67, 0.3), 0px 1px 3px 1px rgba(60, 64, 67, 0.15);\n",
              "      fill: #174EA6;\n",
              "    }\n",
              "\n",
              "    [theme=dark] .colab-df-convert {\n",
              "      background-color: #3B4455;\n",
              "      fill: #D2E3FC;\n",
              "    }\n",
              "\n",
              "    [theme=dark] .colab-df-convert:hover {\n",
              "      background-color: #434B5C;\n",
              "      box-shadow: 0px 1px 3px 1px rgba(0, 0, 0, 0.15);\n",
              "      filter: drop-shadow(0px 1px 2px rgba(0, 0, 0, 0.3));\n",
              "      fill: #FFFFFF;\n",
              "    }\n",
              "  </style>\n",
              "\n",
              "      <script>\n",
              "        const buttonEl =\n",
              "          document.querySelector('#df-3a9c8d67-2028-45c7-8672-547d4fad2793 button.colab-df-convert');\n",
              "        buttonEl.style.display =\n",
              "          google.colab.kernel.accessAllowed ? 'block' : 'none';\n",
              "\n",
              "        async function convertToInteractive(key) {\n",
              "          const element = document.querySelector('#df-3a9c8d67-2028-45c7-8672-547d4fad2793');\n",
              "          const dataTable =\n",
              "            await google.colab.kernel.invokeFunction('convertToInteractive',\n",
              "                                                     [key], {});\n",
              "          if (!dataTable) return;\n",
              "\n",
              "          const docLinkHtml = 'Like what you see? Visit the ' +\n",
              "            '<a target=\"_blank\" href=https://colab.research.google.com/notebooks/data_table.ipynb>data table notebook</a>'\n",
              "            + ' to learn more about interactive tables.';\n",
              "          element.innerHTML = '';\n",
              "          dataTable['output_type'] = 'display_data';\n",
              "          await google.colab.output.renderOutput(dataTable, element);\n",
              "          const docLink = document.createElement('div');\n",
              "          docLink.innerHTML = docLinkHtml;\n",
              "          element.appendChild(docLink);\n",
              "        }\n",
              "      </script>\n",
              "    </div>\n",
              "  </div>\n",
              "  "
            ]
          },
          "metadata": {},
          "execution_count": 86
        }
      ]
    },
    {
      "cell_type": "markdown",
      "source": [
        "Above, you can see that the case id has been removed from the data set."
      ],
      "metadata": {
        "id": "FDTnj1UnQhAg"
      },
      "id": "FDTnj1UnQhAg"
    },
    {
      "cell_type": "code",
      "source": [
        "ds.shape"
      ],
      "metadata": {
        "colab": {
          "base_uri": "https://localhost:8080/"
        },
        "id": "JGy5qGYTvu3r",
        "outputId": "8428fa28-c16a-405c-c35b-b9cfea54b9e4"
      },
      "id": "JGy5qGYTvu3r",
      "execution_count": null,
      "outputs": [
        {
          "output_type": "execute_result",
          "data": {
            "text/plain": [
              "(25480, 11)"
            ]
          },
          "metadata": {},
          "execution_count": 87
        }
      ]
    },
    {
      "cell_type": "markdown",
      "source": [
        "We can also see that the shape of the data set has changed and that there are only 11 columns now."
      ],
      "metadata": {
        "id": "8tGdNjvpQua2"
      },
      "id": "8tGdNjvpQua2"
    },
    {
      "cell_type": "markdown",
      "source": [
        "**Checking general info about the remaining data set.**"
      ],
      "metadata": {
        "id": "C8mklW96Q1B-"
      },
      "id": "C8mklW96Q1B-"
    },
    {
      "cell_type": "code",
      "source": [
        "ds.info()"
      ],
      "metadata": {
        "colab": {
          "base_uri": "https://localhost:8080/"
        },
        "id": "Um_mJRYGfBiN",
        "outputId": "ceaa6078-f8e4-4a5a-ad38-afd8337cdc48"
      },
      "id": "Um_mJRYGfBiN",
      "execution_count": null,
      "outputs": [
        {
          "output_type": "stream",
          "name": "stdout",
          "text": [
            "<class 'pandas.core.frame.DataFrame'>\n",
            "RangeIndex: 25480 entries, 0 to 25479\n",
            "Data columns (total 11 columns):\n",
            " #   Column                 Non-Null Count  Dtype  \n",
            "---  ------                 --------------  -----  \n",
            " 0   continent              25480 non-null  object \n",
            " 1   education_of_employee  25480 non-null  object \n",
            " 2   has_job_experience     25480 non-null  object \n",
            " 3   requires_job_training  25480 non-null  object \n",
            " 4   no_of_employees        25480 non-null  int64  \n",
            " 5   yr_of_estab            25480 non-null  int64  \n",
            " 6   region_of_employment   25480 non-null  object \n",
            " 7   prevailing_wage        25480 non-null  float64\n",
            " 8   unit_of_wage           25480 non-null  object \n",
            " 9   full_time_position     25480 non-null  object \n",
            " 10  case_status            25480 non-null  object \n",
            "dtypes: float64(1), int64(2), object(8)\n",
            "memory usage: 2.1+ MB\n"
          ]
        }
      ]
    },
    {
      "cell_type": "markdown",
      "source": [
        "There are only three numerical columns in the data set. The rest are objects."
      ],
      "metadata": {
        "id": "KUDnbrKwRqSr"
      },
      "id": "KUDnbrKwRqSr"
    },
    {
      "cell_type": "markdown",
      "source": [
        "**Checking for null values in the data set.**"
      ],
      "metadata": {
        "id": "fqLELm7yST8g"
      },
      "id": "fqLELm7yST8g"
    },
    {
      "cell_type": "code",
      "source": [
        "ds.isna().sum()"
      ],
      "metadata": {
        "colab": {
          "base_uri": "https://localhost:8080/"
        },
        "id": "urynEf5VfUui",
        "outputId": "f51f2c73-359f-4ebf-8a2d-a8a170bd6268"
      },
      "id": "urynEf5VfUui",
      "execution_count": null,
      "outputs": [
        {
          "output_type": "execute_result",
          "data": {
            "text/plain": [
              "continent                0\n",
              "education_of_employee    0\n",
              "has_job_experience       0\n",
              "requires_job_training    0\n",
              "no_of_employees          0\n",
              "yr_of_estab              0\n",
              "region_of_employment     0\n",
              "prevailing_wage          0\n",
              "unit_of_wage             0\n",
              "full_time_position       0\n",
              "case_status              0\n",
              "dtype: int64"
            ]
          },
          "metadata": {},
          "execution_count": 89
        }
      ]
    },
    {
      "cell_type": "markdown",
      "source": [
        "There are no null values in the data set."
      ],
      "metadata": {
        "id": "IVyCjm9QSaGH"
      },
      "id": "IVyCjm9QSaGH"
    },
    {
      "cell_type": "markdown",
      "source": [
        "**Checking the description of the data set.**"
      ],
      "metadata": {
        "id": "hYw4wjk2Sf8l"
      },
      "id": "hYw4wjk2Sf8l"
    },
    {
      "cell_type": "code",
      "source": [
        "ds.describe()"
      ],
      "metadata": {
        "colab": {
          "base_uri": "https://localhost:8080/",
          "height": 300
        },
        "id": "AEMnNaFJe2py",
        "outputId": "62a1bafe-a3d5-4fba-af7d-5ca35a1f7060"
      },
      "id": "AEMnNaFJe2py",
      "execution_count": null,
      "outputs": [
        {
          "output_type": "execute_result",
          "data": {
            "text/plain": [
              "       no_of_employees   yr_of_estab  prevailing_wage\n",
              "count     25480.000000  25480.000000     25480.000000\n",
              "mean       5667.043210   1979.409929     74455.814592\n",
              "std       22877.928848     42.366929     52815.942327\n",
              "min         -26.000000   1800.000000         2.136700\n",
              "25%        1022.000000   1976.000000     34015.480000\n",
              "50%        2109.000000   1997.000000     70308.210000\n",
              "75%        3504.000000   2005.000000    107735.512500\n",
              "max      602069.000000   2016.000000    319210.270000"
            ],
            "text/html": [
              "\n",
              "  <div id=\"df-e4840f59-4da0-4470-abd9-121bee72e8cd\">\n",
              "    <div class=\"colab-df-container\">\n",
              "      <div>\n",
              "<style scoped>\n",
              "    .dataframe tbody tr th:only-of-type {\n",
              "        vertical-align: middle;\n",
              "    }\n",
              "\n",
              "    .dataframe tbody tr th {\n",
              "        vertical-align: top;\n",
              "    }\n",
              "\n",
              "    .dataframe thead th {\n",
              "        text-align: right;\n",
              "    }\n",
              "</style>\n",
              "<table border=\"1\" class=\"dataframe\">\n",
              "  <thead>\n",
              "    <tr style=\"text-align: right;\">\n",
              "      <th></th>\n",
              "      <th>no_of_employees</th>\n",
              "      <th>yr_of_estab</th>\n",
              "      <th>prevailing_wage</th>\n",
              "    </tr>\n",
              "  </thead>\n",
              "  <tbody>\n",
              "    <tr>\n",
              "      <th>count</th>\n",
              "      <td>25480.000000</td>\n",
              "      <td>25480.000000</td>\n",
              "      <td>25480.000000</td>\n",
              "    </tr>\n",
              "    <tr>\n",
              "      <th>mean</th>\n",
              "      <td>5667.043210</td>\n",
              "      <td>1979.409929</td>\n",
              "      <td>74455.814592</td>\n",
              "    </tr>\n",
              "    <tr>\n",
              "      <th>std</th>\n",
              "      <td>22877.928848</td>\n",
              "      <td>42.366929</td>\n",
              "      <td>52815.942327</td>\n",
              "    </tr>\n",
              "    <tr>\n",
              "      <th>min</th>\n",
              "      <td>-26.000000</td>\n",
              "      <td>1800.000000</td>\n",
              "      <td>2.136700</td>\n",
              "    </tr>\n",
              "    <tr>\n",
              "      <th>25%</th>\n",
              "      <td>1022.000000</td>\n",
              "      <td>1976.000000</td>\n",
              "      <td>34015.480000</td>\n",
              "    </tr>\n",
              "    <tr>\n",
              "      <th>50%</th>\n",
              "      <td>2109.000000</td>\n",
              "      <td>1997.000000</td>\n",
              "      <td>70308.210000</td>\n",
              "    </tr>\n",
              "    <tr>\n",
              "      <th>75%</th>\n",
              "      <td>3504.000000</td>\n",
              "      <td>2005.000000</td>\n",
              "      <td>107735.512500</td>\n",
              "    </tr>\n",
              "    <tr>\n",
              "      <th>max</th>\n",
              "      <td>602069.000000</td>\n",
              "      <td>2016.000000</td>\n",
              "      <td>319210.270000</td>\n",
              "    </tr>\n",
              "  </tbody>\n",
              "</table>\n",
              "</div>\n",
              "      <button class=\"colab-df-convert\" onclick=\"convertToInteractive('df-e4840f59-4da0-4470-abd9-121bee72e8cd')\"\n",
              "              title=\"Convert this dataframe to an interactive table.\"\n",
              "              style=\"display:none;\">\n",
              "        \n",
              "  <svg xmlns=\"http://www.w3.org/2000/svg\" height=\"24px\"viewBox=\"0 0 24 24\"\n",
              "       width=\"24px\">\n",
              "    <path d=\"M0 0h24v24H0V0z\" fill=\"none\"/>\n",
              "    <path d=\"M18.56 5.44l.94 2.06.94-2.06 2.06-.94-2.06-.94-.94-2.06-.94 2.06-2.06.94zm-11 1L8.5 8.5l.94-2.06 2.06-.94-2.06-.94L8.5 2.5l-.94 2.06-2.06.94zm10 10l.94 2.06.94-2.06 2.06-.94-2.06-.94-.94-2.06-.94 2.06-2.06.94z\"/><path d=\"M17.41 7.96l-1.37-1.37c-.4-.4-.92-.59-1.43-.59-.52 0-1.04.2-1.43.59L10.3 9.45l-7.72 7.72c-.78.78-.78 2.05 0 2.83L4 21.41c.39.39.9.59 1.41.59.51 0 1.02-.2 1.41-.59l7.78-7.78 2.81-2.81c.8-.78.8-2.07 0-2.86zM5.41 20L4 18.59l7.72-7.72 1.47 1.35L5.41 20z\"/>\n",
              "  </svg>\n",
              "      </button>\n",
              "      \n",
              "  <style>\n",
              "    .colab-df-container {\n",
              "      display:flex;\n",
              "      flex-wrap:wrap;\n",
              "      gap: 12px;\n",
              "    }\n",
              "\n",
              "    .colab-df-convert {\n",
              "      background-color: #E8F0FE;\n",
              "      border: none;\n",
              "      border-radius: 50%;\n",
              "      cursor: pointer;\n",
              "      display: none;\n",
              "      fill: #1967D2;\n",
              "      height: 32px;\n",
              "      padding: 0 0 0 0;\n",
              "      width: 32px;\n",
              "    }\n",
              "\n",
              "    .colab-df-convert:hover {\n",
              "      background-color: #E2EBFA;\n",
              "      box-shadow: 0px 1px 2px rgba(60, 64, 67, 0.3), 0px 1px 3px 1px rgba(60, 64, 67, 0.15);\n",
              "      fill: #174EA6;\n",
              "    }\n",
              "\n",
              "    [theme=dark] .colab-df-convert {\n",
              "      background-color: #3B4455;\n",
              "      fill: #D2E3FC;\n",
              "    }\n",
              "\n",
              "    [theme=dark] .colab-df-convert:hover {\n",
              "      background-color: #434B5C;\n",
              "      box-shadow: 0px 1px 3px 1px rgba(0, 0, 0, 0.15);\n",
              "      filter: drop-shadow(0px 1px 2px rgba(0, 0, 0, 0.3));\n",
              "      fill: #FFFFFF;\n",
              "    }\n",
              "  </style>\n",
              "\n",
              "      <script>\n",
              "        const buttonEl =\n",
              "          document.querySelector('#df-e4840f59-4da0-4470-abd9-121bee72e8cd button.colab-df-convert');\n",
              "        buttonEl.style.display =\n",
              "          google.colab.kernel.accessAllowed ? 'block' : 'none';\n",
              "\n",
              "        async function convertToInteractive(key) {\n",
              "          const element = document.querySelector('#df-e4840f59-4da0-4470-abd9-121bee72e8cd');\n",
              "          const dataTable =\n",
              "            await google.colab.kernel.invokeFunction('convertToInteractive',\n",
              "                                                     [key], {});\n",
              "          if (!dataTable) return;\n",
              "\n",
              "          const docLinkHtml = 'Like what you see? Visit the ' +\n",
              "            '<a target=\"_blank\" href=https://colab.research.google.com/notebooks/data_table.ipynb>data table notebook</a>'\n",
              "            + ' to learn more about interactive tables.';\n",
              "          element.innerHTML = '';\n",
              "          dataTable['output_type'] = 'display_data';\n",
              "          await google.colab.output.renderOutput(dataTable, element);\n",
              "          const docLink = document.createElement('div');\n",
              "          docLink.innerHTML = docLinkHtml;\n",
              "          element.appendChild(docLink);\n",
              "        }\n",
              "      </script>\n",
              "    </div>\n",
              "  </div>\n",
              "  "
            ]
          },
          "metadata": {},
          "execution_count": 90
        }
      ]
    },
    {
      "cell_type": "markdown",
      "source": [
        "With only three numerical columns there is not a lot to explore here but one data point that will need to be explored is the negative minimum in the Number of Employees column."
      ],
      "metadata": {
        "id": "ZiqMsMa_SrVI"
      },
      "id": "ZiqMsMa_SrVI"
    },
    {
      "cell_type": "markdown",
      "source": [
        "**Checking the number of rows in the Number of Employees column with a negative result.**"
      ],
      "metadata": {
        "id": "mUpnlLdUS7Vr"
      },
      "id": "mUpnlLdUS7Vr"
    },
    {
      "cell_type": "code",
      "source": [
        "(ds.no_of_employees < 0).sum()"
      ],
      "metadata": {
        "colab": {
          "base_uri": "https://localhost:8080/"
        },
        "id": "qtjX18D-F3OI",
        "outputId": "d5b783a5-89b5-405a-df9d-a47e9887def4"
      },
      "id": "qtjX18D-F3OI",
      "execution_count": null,
      "outputs": [
        {
          "output_type": "execute_result",
          "data": {
            "text/plain": [
              "33"
            ]
          },
          "metadata": {},
          "execution_count": 91
        }
      ]
    },
    {
      "cell_type": "markdown",
      "source": [
        "There are 33 rows with a negative result."
      ],
      "metadata": {
        "id": "3NXZBpVJTI2s"
      },
      "id": "3NXZBpVJTI2s"
    },
    {
      "cell_type": "markdown",
      "source": [
        "**Since the number is as low as it is, we will convert the negatives to positives by applying their absolute value in the code below.**"
      ],
      "metadata": {
        "id": "yX-5GPdNTOL2"
      },
      "id": "yX-5GPdNTOL2"
    },
    {
      "cell_type": "code",
      "source": [
        "ds['no_of_employees'] = np.abs(ds['no_of_employees'])"
      ],
      "metadata": {
        "id": "9s_hLo4Jv05b"
      },
      "id": "9s_hLo4Jv05b",
      "execution_count": null,
      "outputs": []
    },
    {
      "cell_type": "markdown",
      "source": [
        "**Now we will run the check for negative values again to confirm our success.**"
      ],
      "metadata": {
        "id": "NnkUXupITcAH"
      },
      "id": "NnkUXupITcAH"
    },
    {
      "cell_type": "code",
      "source": [
        "(ds.no_of_employees < 0).sum()"
      ],
      "metadata": {
        "colab": {
          "base_uri": "https://localhost:8080/"
        },
        "id": "bSxQe51hHWgs",
        "outputId": "07ef233b-de4c-46b4-980e-11df7eb06445"
      },
      "id": "bSxQe51hHWgs",
      "execution_count": null,
      "outputs": [
        {
          "output_type": "execute_result",
          "data": {
            "text/plain": [
              "0"
            ]
          },
          "metadata": {},
          "execution_count": 93
        }
      ]
    },
    {
      "cell_type": "markdown",
      "source": [
        "There are now zero negative values in the Number of Employees column."
      ],
      "metadata": {
        "id": "ppb1QnmkTlQf"
      },
      "id": "ppb1QnmkTlQf"
    },
    {
      "cell_type": "markdown",
      "source": [
        "**We will now run some code to describe the Number of Employees column by itself.**"
      ],
      "metadata": {
        "id": "vefVO9OGTsws"
      },
      "id": "vefVO9OGTsws"
    },
    {
      "cell_type": "code",
      "source": [
        "ds.no_of_employees.describe()"
      ],
      "metadata": {
        "colab": {
          "base_uri": "https://localhost:8080/"
        },
        "id": "Mk6t1ujHKFVF",
        "outputId": "e29b286b-85aa-413a-df86-5bce58133db4"
      },
      "id": "Mk6t1ujHKFVF",
      "execution_count": null,
      "outputs": [
        {
          "output_type": "execute_result",
          "data": {
            "text/plain": [
              "count     25480.000000\n",
              "mean       5667.089207\n",
              "std       22877.917453\n",
              "min          11.000000\n",
              "25%        1022.000000\n",
              "50%        2109.000000\n",
              "75%        3504.000000\n",
              "max      602069.000000\n",
              "Name: no_of_employees, dtype: float64"
            ]
          },
          "metadata": {},
          "execution_count": 94
        }
      ]
    },
    {
      "cell_type": "markdown",
      "source": [
        "The new minimum value is 11."
      ],
      "metadata": {
        "id": "s6MEFBGwT-Ek"
      },
      "id": "s6MEFBGwT-Ek"
    },
    {
      "cell_type": "markdown",
      "source": [
        "**Now we can run a check on the rest of data to describe our object variables.**"
      ],
      "metadata": {
        "id": "xGVsN-BhUH0c"
      },
      "id": "xGVsN-BhUH0c"
    },
    {
      "cell_type": "code",
      "source": [
        "#Code to display a summary of object variables\n",
        "ds.describe(include=['object']).T"
      ],
      "metadata": {
        "colab": {
          "base_uri": "https://localhost:8080/",
          "height": 300
        },
        "id": "1_l2htVSDboQ",
        "outputId": "b60d9722-e578-4a2b-ac20-24c7c9a1d575"
      },
      "id": "1_l2htVSDboQ",
      "execution_count": null,
      "outputs": [
        {
          "output_type": "execute_result",
          "data": {
            "text/plain": [
              "                       count unique         top   freq\n",
              "continent              25480      6        Asia  16861\n",
              "education_of_employee  25480      4  Bachelor's  10234\n",
              "has_job_experience     25480      2           Y  14802\n",
              "requires_job_training  25480      2           N  22525\n",
              "region_of_employment   25480      5   Northeast   7195\n",
              "unit_of_wage           25480      4        Year  22962\n",
              "full_time_position     25480      2           Y  22773\n",
              "case_status            25480      2   Certified  17018"
            ],
            "text/html": [
              "\n",
              "  <div id=\"df-4c425e71-d056-4939-a56f-63f5ff43962f\">\n",
              "    <div class=\"colab-df-container\">\n",
              "      <div>\n",
              "<style scoped>\n",
              "    .dataframe tbody tr th:only-of-type {\n",
              "        vertical-align: middle;\n",
              "    }\n",
              "\n",
              "    .dataframe tbody tr th {\n",
              "        vertical-align: top;\n",
              "    }\n",
              "\n",
              "    .dataframe thead th {\n",
              "        text-align: right;\n",
              "    }\n",
              "</style>\n",
              "<table border=\"1\" class=\"dataframe\">\n",
              "  <thead>\n",
              "    <tr style=\"text-align: right;\">\n",
              "      <th></th>\n",
              "      <th>count</th>\n",
              "      <th>unique</th>\n",
              "      <th>top</th>\n",
              "      <th>freq</th>\n",
              "    </tr>\n",
              "  </thead>\n",
              "  <tbody>\n",
              "    <tr>\n",
              "      <th>continent</th>\n",
              "      <td>25480</td>\n",
              "      <td>6</td>\n",
              "      <td>Asia</td>\n",
              "      <td>16861</td>\n",
              "    </tr>\n",
              "    <tr>\n",
              "      <th>education_of_employee</th>\n",
              "      <td>25480</td>\n",
              "      <td>4</td>\n",
              "      <td>Bachelor's</td>\n",
              "      <td>10234</td>\n",
              "    </tr>\n",
              "    <tr>\n",
              "      <th>has_job_experience</th>\n",
              "      <td>25480</td>\n",
              "      <td>2</td>\n",
              "      <td>Y</td>\n",
              "      <td>14802</td>\n",
              "    </tr>\n",
              "    <tr>\n",
              "      <th>requires_job_training</th>\n",
              "      <td>25480</td>\n",
              "      <td>2</td>\n",
              "      <td>N</td>\n",
              "      <td>22525</td>\n",
              "    </tr>\n",
              "    <tr>\n",
              "      <th>region_of_employment</th>\n",
              "      <td>25480</td>\n",
              "      <td>5</td>\n",
              "      <td>Northeast</td>\n",
              "      <td>7195</td>\n",
              "    </tr>\n",
              "    <tr>\n",
              "      <th>unit_of_wage</th>\n",
              "      <td>25480</td>\n",
              "      <td>4</td>\n",
              "      <td>Year</td>\n",
              "      <td>22962</td>\n",
              "    </tr>\n",
              "    <tr>\n",
              "      <th>full_time_position</th>\n",
              "      <td>25480</td>\n",
              "      <td>2</td>\n",
              "      <td>Y</td>\n",
              "      <td>22773</td>\n",
              "    </tr>\n",
              "    <tr>\n",
              "      <th>case_status</th>\n",
              "      <td>25480</td>\n",
              "      <td>2</td>\n",
              "      <td>Certified</td>\n",
              "      <td>17018</td>\n",
              "    </tr>\n",
              "  </tbody>\n",
              "</table>\n",
              "</div>\n",
              "      <button class=\"colab-df-convert\" onclick=\"convertToInteractive('df-4c425e71-d056-4939-a56f-63f5ff43962f')\"\n",
              "              title=\"Convert this dataframe to an interactive table.\"\n",
              "              style=\"display:none;\">\n",
              "        \n",
              "  <svg xmlns=\"http://www.w3.org/2000/svg\" height=\"24px\"viewBox=\"0 0 24 24\"\n",
              "       width=\"24px\">\n",
              "    <path d=\"M0 0h24v24H0V0z\" fill=\"none\"/>\n",
              "    <path d=\"M18.56 5.44l.94 2.06.94-2.06 2.06-.94-2.06-.94-.94-2.06-.94 2.06-2.06.94zm-11 1L8.5 8.5l.94-2.06 2.06-.94-2.06-.94L8.5 2.5l-.94 2.06-2.06.94zm10 10l.94 2.06.94-2.06 2.06-.94-2.06-.94-.94-2.06-.94 2.06-2.06.94z\"/><path d=\"M17.41 7.96l-1.37-1.37c-.4-.4-.92-.59-1.43-.59-.52 0-1.04.2-1.43.59L10.3 9.45l-7.72 7.72c-.78.78-.78 2.05 0 2.83L4 21.41c.39.39.9.59 1.41.59.51 0 1.02-.2 1.41-.59l7.78-7.78 2.81-2.81c.8-.78.8-2.07 0-2.86zM5.41 20L4 18.59l7.72-7.72 1.47 1.35L5.41 20z\"/>\n",
              "  </svg>\n",
              "      </button>\n",
              "      \n",
              "  <style>\n",
              "    .colab-df-container {\n",
              "      display:flex;\n",
              "      flex-wrap:wrap;\n",
              "      gap: 12px;\n",
              "    }\n",
              "\n",
              "    .colab-df-convert {\n",
              "      background-color: #E8F0FE;\n",
              "      border: none;\n",
              "      border-radius: 50%;\n",
              "      cursor: pointer;\n",
              "      display: none;\n",
              "      fill: #1967D2;\n",
              "      height: 32px;\n",
              "      padding: 0 0 0 0;\n",
              "      width: 32px;\n",
              "    }\n",
              "\n",
              "    .colab-df-convert:hover {\n",
              "      background-color: #E2EBFA;\n",
              "      box-shadow: 0px 1px 2px rgba(60, 64, 67, 0.3), 0px 1px 3px 1px rgba(60, 64, 67, 0.15);\n",
              "      fill: #174EA6;\n",
              "    }\n",
              "\n",
              "    [theme=dark] .colab-df-convert {\n",
              "      background-color: #3B4455;\n",
              "      fill: #D2E3FC;\n",
              "    }\n",
              "\n",
              "    [theme=dark] .colab-df-convert:hover {\n",
              "      background-color: #434B5C;\n",
              "      box-shadow: 0px 1px 3px 1px rgba(0, 0, 0, 0.15);\n",
              "      filter: drop-shadow(0px 1px 2px rgba(0, 0, 0, 0.3));\n",
              "      fill: #FFFFFF;\n",
              "    }\n",
              "  </style>\n",
              "\n",
              "      <script>\n",
              "        const buttonEl =\n",
              "          document.querySelector('#df-4c425e71-d056-4939-a56f-63f5ff43962f button.colab-df-convert');\n",
              "        buttonEl.style.display =\n",
              "          google.colab.kernel.accessAllowed ? 'block' : 'none';\n",
              "\n",
              "        async function convertToInteractive(key) {\n",
              "          const element = document.querySelector('#df-4c425e71-d056-4939-a56f-63f5ff43962f');\n",
              "          const dataTable =\n",
              "            await google.colab.kernel.invokeFunction('convertToInteractive',\n",
              "                                                     [key], {});\n",
              "          if (!dataTable) return;\n",
              "\n",
              "          const docLinkHtml = 'Like what you see? Visit the ' +\n",
              "            '<a target=\"_blank\" href=https://colab.research.google.com/notebooks/data_table.ipynb>data table notebook</a>'\n",
              "            + ' to learn more about interactive tables.';\n",
              "          element.innerHTML = '';\n",
              "          dataTable['output_type'] = 'display_data';\n",
              "          await google.colab.output.renderOutput(dataTable, element);\n",
              "          const docLink = document.createElement('div');\n",
              "          docLink.innerHTML = docLinkHtml;\n",
              "          element.appendChild(docLink);\n",
              "        }\n",
              "      </script>\n",
              "    </div>\n",
              "  </div>\n",
              "  "
            ]
          },
          "metadata": {},
          "execution_count": 95
        }
      ]
    },
    {
      "cell_type": "markdown",
      "source": [
        "From this we can see that Asia is the most popular continent to apply from. A Bachelor's degree is the most common level of education. Most applicants have job experience and will require no training. A vast majority are applying for a yearly salary via a full time position. The Northeast is the most likely region they will work in and a large percentage of them will get their visas certified."
      ],
      "metadata": {
        "id": "VAUFaffiUSRX"
      },
      "id": "VAUFaffiUSRX"
    },
    {
      "cell_type": "markdown",
      "source": [
        "**Converting Object variables to Categorical to save space and make them easier to work with.**"
      ],
      "metadata": {
        "id": "uSyl85QxWMYs"
      },
      "id": "uSyl85QxWMYs"
    },
    {
      "cell_type": "code",
      "source": [
        "cols = ds.select_dtypes(['object'])\n",
        "cols.columns"
      ],
      "metadata": {
        "colab": {
          "base_uri": "https://localhost:8080/"
        },
        "id": "BYU8k4TCWVuZ",
        "outputId": "376b345f-94e7-4f20-e696-a0c18cf3901e"
      },
      "id": "BYU8k4TCWVuZ",
      "execution_count": null,
      "outputs": [
        {
          "output_type": "execute_result",
          "data": {
            "text/plain": [
              "Index(['continent', 'education_of_employee', 'has_job_experience',\n",
              "       'requires_job_training', 'region_of_employment', 'unit_of_wage',\n",
              "       'full_time_position', 'case_status'],\n",
              "      dtype='object')"
            ]
          },
          "metadata": {},
          "execution_count": 19
        }
      ]
    },
    {
      "cell_type": "code",
      "source": [
        "for i in cols.columns:\n",
        "    ds[i] = ds[i].astype('category')"
      ],
      "metadata": {
        "id": "xujVhXNaWpZ7"
      },
      "id": "xujVhXNaWpZ7",
      "execution_count": null,
      "outputs": []
    },
    {
      "cell_type": "code",
      "source": [
        "ds.info()"
      ],
      "metadata": {
        "colab": {
          "base_uri": "https://localhost:8080/"
        },
        "id": "5bXdZS65WwkU",
        "outputId": "39a4de8b-694e-43d6-8009-73612742cfd4"
      },
      "id": "5bXdZS65WwkU",
      "execution_count": null,
      "outputs": [
        {
          "output_type": "stream",
          "name": "stdout",
          "text": [
            "<class 'pandas.core.frame.DataFrame'>\n",
            "RangeIndex: 25480 entries, 0 to 25479\n",
            "Data columns (total 11 columns):\n",
            " #   Column                 Non-Null Count  Dtype   \n",
            "---  ------                 --------------  -----   \n",
            " 0   continent              25480 non-null  category\n",
            " 1   education_of_employee  25480 non-null  category\n",
            " 2   has_job_experience     25480 non-null  category\n",
            " 3   requires_job_training  25480 non-null  category\n",
            " 4   no_of_employees        25480 non-null  int64   \n",
            " 5   yr_of_estab            25480 non-null  int64   \n",
            " 6   region_of_employment   25480 non-null  category\n",
            " 7   prevailing_wage        25480 non-null  float64 \n",
            " 8   unit_of_wage           25480 non-null  category\n",
            " 9   full_time_position     25480 non-null  category\n",
            " 10  case_status            25480 non-null  category\n",
            "dtypes: category(8), float64(1), int64(2)\n",
            "memory usage: 797.7 KB\n"
          ]
        }
      ]
    },
    {
      "cell_type": "markdown",
      "source": [
        "We can see above that all of our Object variables have been successfully converted to Categorical."
      ],
      "metadata": {
        "id": "PGYLvkvtVJru"
      },
      "id": "PGYLvkvtVJru"
    },
    {
      "cell_type": "code",
      "source": [
        "ds.describe(include=['category'])"
      ],
      "metadata": {
        "colab": {
          "base_uri": "https://localhost:8080/",
          "height": 175
        },
        "id": "IlwwWK5BW7h8",
        "outputId": "d4aa8c1a-ef8d-4e09-e4e8-533473d749dc"
      },
      "id": "IlwwWK5BW7h8",
      "execution_count": null,
      "outputs": [
        {
          "output_type": "execute_result",
          "data": {
            "text/plain": [
              "       continent education_of_employee has_job_experience  \\\n",
              "count      25480                 25480              25480   \n",
              "unique         6                     4                  2   \n",
              "top         Asia            Bachelor's                  Y   \n",
              "freq       16861                 10234              14802   \n",
              "\n",
              "       requires_job_training region_of_employment unit_of_wage  \\\n",
              "count                  25480                25480        25480   \n",
              "unique                     2                    5            4   \n",
              "top                        N            Northeast         Year   \n",
              "freq                   22525                 7195        22962   \n",
              "\n",
              "       full_time_position case_status  \n",
              "count               25480       25480  \n",
              "unique                  2           2  \n",
              "top                     Y   Certified  \n",
              "freq                22773       17018  "
            ],
            "text/html": [
              "\n",
              "  <div id=\"df-4f298efc-b5ec-4120-b5e1-7469636487b1\">\n",
              "    <div class=\"colab-df-container\">\n",
              "      <div>\n",
              "<style scoped>\n",
              "    .dataframe tbody tr th:only-of-type {\n",
              "        vertical-align: middle;\n",
              "    }\n",
              "\n",
              "    .dataframe tbody tr th {\n",
              "        vertical-align: top;\n",
              "    }\n",
              "\n",
              "    .dataframe thead th {\n",
              "        text-align: right;\n",
              "    }\n",
              "</style>\n",
              "<table border=\"1\" class=\"dataframe\">\n",
              "  <thead>\n",
              "    <tr style=\"text-align: right;\">\n",
              "      <th></th>\n",
              "      <th>continent</th>\n",
              "      <th>education_of_employee</th>\n",
              "      <th>has_job_experience</th>\n",
              "      <th>requires_job_training</th>\n",
              "      <th>region_of_employment</th>\n",
              "      <th>unit_of_wage</th>\n",
              "      <th>full_time_position</th>\n",
              "      <th>case_status</th>\n",
              "    </tr>\n",
              "  </thead>\n",
              "  <tbody>\n",
              "    <tr>\n",
              "      <th>count</th>\n",
              "      <td>25480</td>\n",
              "      <td>25480</td>\n",
              "      <td>25480</td>\n",
              "      <td>25480</td>\n",
              "      <td>25480</td>\n",
              "      <td>25480</td>\n",
              "      <td>25480</td>\n",
              "      <td>25480</td>\n",
              "    </tr>\n",
              "    <tr>\n",
              "      <th>unique</th>\n",
              "      <td>6</td>\n",
              "      <td>4</td>\n",
              "      <td>2</td>\n",
              "      <td>2</td>\n",
              "      <td>5</td>\n",
              "      <td>4</td>\n",
              "      <td>2</td>\n",
              "      <td>2</td>\n",
              "    </tr>\n",
              "    <tr>\n",
              "      <th>top</th>\n",
              "      <td>Asia</td>\n",
              "      <td>Bachelor's</td>\n",
              "      <td>Y</td>\n",
              "      <td>N</td>\n",
              "      <td>Northeast</td>\n",
              "      <td>Year</td>\n",
              "      <td>Y</td>\n",
              "      <td>Certified</td>\n",
              "    </tr>\n",
              "    <tr>\n",
              "      <th>freq</th>\n",
              "      <td>16861</td>\n",
              "      <td>10234</td>\n",
              "      <td>14802</td>\n",
              "      <td>22525</td>\n",
              "      <td>7195</td>\n",
              "      <td>22962</td>\n",
              "      <td>22773</td>\n",
              "      <td>17018</td>\n",
              "    </tr>\n",
              "  </tbody>\n",
              "</table>\n",
              "</div>\n",
              "      <button class=\"colab-df-convert\" onclick=\"convertToInteractive('df-4f298efc-b5ec-4120-b5e1-7469636487b1')\"\n",
              "              title=\"Convert this dataframe to an interactive table.\"\n",
              "              style=\"display:none;\">\n",
              "        \n",
              "  <svg xmlns=\"http://www.w3.org/2000/svg\" height=\"24px\"viewBox=\"0 0 24 24\"\n",
              "       width=\"24px\">\n",
              "    <path d=\"M0 0h24v24H0V0z\" fill=\"none\"/>\n",
              "    <path d=\"M18.56 5.44l.94 2.06.94-2.06 2.06-.94-2.06-.94-.94-2.06-.94 2.06-2.06.94zm-11 1L8.5 8.5l.94-2.06 2.06-.94-2.06-.94L8.5 2.5l-.94 2.06-2.06.94zm10 10l.94 2.06.94-2.06 2.06-.94-2.06-.94-.94-2.06-.94 2.06-2.06.94z\"/><path d=\"M17.41 7.96l-1.37-1.37c-.4-.4-.92-.59-1.43-.59-.52 0-1.04.2-1.43.59L10.3 9.45l-7.72 7.72c-.78.78-.78 2.05 0 2.83L4 21.41c.39.39.9.59 1.41.59.51 0 1.02-.2 1.41-.59l7.78-7.78 2.81-2.81c.8-.78.8-2.07 0-2.86zM5.41 20L4 18.59l7.72-7.72 1.47 1.35L5.41 20z\"/>\n",
              "  </svg>\n",
              "      </button>\n",
              "      \n",
              "  <style>\n",
              "    .colab-df-container {\n",
              "      display:flex;\n",
              "      flex-wrap:wrap;\n",
              "      gap: 12px;\n",
              "    }\n",
              "\n",
              "    .colab-df-convert {\n",
              "      background-color: #E8F0FE;\n",
              "      border: none;\n",
              "      border-radius: 50%;\n",
              "      cursor: pointer;\n",
              "      display: none;\n",
              "      fill: #1967D2;\n",
              "      height: 32px;\n",
              "      padding: 0 0 0 0;\n",
              "      width: 32px;\n",
              "    }\n",
              "\n",
              "    .colab-df-convert:hover {\n",
              "      background-color: #E2EBFA;\n",
              "      box-shadow: 0px 1px 2px rgba(60, 64, 67, 0.3), 0px 1px 3px 1px rgba(60, 64, 67, 0.15);\n",
              "      fill: #174EA6;\n",
              "    }\n",
              "\n",
              "    [theme=dark] .colab-df-convert {\n",
              "      background-color: #3B4455;\n",
              "      fill: #D2E3FC;\n",
              "    }\n",
              "\n",
              "    [theme=dark] .colab-df-convert:hover {\n",
              "      background-color: #434B5C;\n",
              "      box-shadow: 0px 1px 3px 1px rgba(0, 0, 0, 0.15);\n",
              "      filter: drop-shadow(0px 1px 2px rgba(0, 0, 0, 0.3));\n",
              "      fill: #FFFFFF;\n",
              "    }\n",
              "  </style>\n",
              "\n",
              "      <script>\n",
              "        const buttonEl =\n",
              "          document.querySelector('#df-4f298efc-b5ec-4120-b5e1-7469636487b1 button.colab-df-convert');\n",
              "        buttonEl.style.display =\n",
              "          google.colab.kernel.accessAllowed ? 'block' : 'none';\n",
              "\n",
              "        async function convertToInteractive(key) {\n",
              "          const element = document.querySelector('#df-4f298efc-b5ec-4120-b5e1-7469636487b1');\n",
              "          const dataTable =\n",
              "            await google.colab.kernel.invokeFunction('convertToInteractive',\n",
              "                                                     [key], {});\n",
              "          if (!dataTable) return;\n",
              "\n",
              "          const docLinkHtml = 'Like what you see? Visit the ' +\n",
              "            '<a target=\"_blank\" href=https://colab.research.google.com/notebooks/data_table.ipynb>data table notebook</a>'\n",
              "            + ' to learn more about interactive tables.';\n",
              "          element.innerHTML = '';\n",
              "          dataTable['output_type'] = 'display_data';\n",
              "          await google.colab.output.renderOutput(dataTable, element);\n",
              "          const docLink = document.createElement('div');\n",
              "          docLink.innerHTML = docLinkHtml;\n",
              "          element.appendChild(docLink);\n",
              "        }\n",
              "      </script>\n",
              "    </div>\n",
              "  </div>\n",
              "  "
            ]
          },
          "metadata": {},
          "execution_count": 22
        }
      ]
    },
    {
      "cell_type": "markdown",
      "source": [
        "We can also see that this change has had effects on the data itself."
      ],
      "metadata": {
        "id": "ChKSY8xsVaZg"
      },
      "id": "ChKSY8xsVaZg"
    },
    {
      "cell_type": "markdown",
      "id": "seasonal-calibration",
      "metadata": {
        "id": "seasonal-calibration"
      },
      "source": [
        "## Exploratory Data Analysis (EDA)\n",
        "\n",
        "- EDA is an important part of any project involving data.\n",
        "- It is important to investigate and understand the data better before building a model with it.\n",
        "- A few questions have been mentioned below which will help you approach the analysis in the right manner and generate insights from the data.\n",
        "- A thorough analysis of the data, in addition to the questions mentioned below, should be done."
      ]
    },
    {
      "cell_type": "markdown",
      "source": [
        "### Code for Visual Analysis"
      ],
      "metadata": {
        "id": "eH4jJWwQK0xg"
      },
      "id": "eH4jJWwQK0xg"
    },
    {
      "cell_type": "code",
      "execution_count": null,
      "id": "mechanical-interference",
      "metadata": {
        "id": "mechanical-interference"
      },
      "outputs": [],
      "source": [
        "#Code to create a display featuring both a boxplot and a histogram \n",
        "def histogram_boxplot(data, feature, figsize=(15, 10), kde=False, bins=None):\n",
        "    \"\"\"\n",
        "    Boxplot and histogram combined\n",
        "\n",
        "    data: dataframe\n",
        "    feature: dataframe column\n",
        "    figsize: size of figure (default (15,10))\n",
        "    kde: whether to show the density curve (default False)\n",
        "    bins: number of bins for histogram (default None)\n",
        "    \"\"\"\n",
        "    f2, (ax_box2, ax_hist2) = plt.subplots(\n",
        "        nrows=2,  # Number of rows of the subplot grid= 2\n",
        "        sharex=True,  # x-axis will be shared among all subplots\n",
        "        gridspec_kw={\"height_ratios\": (0.25, 0.75)},\n",
        "        figsize=figsize,\n",
        "    )  # creating the 2 subplots\n",
        "    sns.boxplot(\n",
        "        data=data, x=feature, ax=ax_box2, showmeans=True, color=\"violet\"\n",
        "    )  # boxplot will be created and a triangle will indicate the mean value of the column\n",
        "    sns.histplot(\n",
        "        data=data, x=feature, kde=kde, ax=ax_hist2, bins=bins\n",
        "    ) if bins else sns.histplot(\n",
        "        data=data, x=feature, kde=kde, ax=ax_hist2\n",
        "    )  # For histogram\n",
        "    ax_hist2.axvline(\n",
        "        data[feature].mean(), color=\"green\", linestyle=\"--\"\n",
        "    )  # Add mean to the histogram\n",
        "    ax_hist2.axvline(\n",
        "        data[feature].median(), color=\"black\", linestyle=\"-\"\n",
        "    )  # Add median to the histogram"
      ]
    },
    {
      "cell_type": "code",
      "source": [
        "def labeled_barplot(data, feature, perc=False, n=None):\n",
        "    \"\"\"\n",
        "    Barplot with percentage at the top\n",
        "\n",
        "    data: dataframe\n",
        "    feature: dataframe column\n",
        "    perc: whether to display percentages instead of count (default is False)\n",
        "    n: displays the top n category levels (default is None, i.e., display all levels)\n",
        "    \"\"\"\n",
        "\n",
        "    total = len(data[feature])  # length of the column\n",
        "    count = data[feature].nunique()\n",
        "    if n is None:\n",
        "        plt.figure(figsize=(count + 2, 6))\n",
        "    else:\n",
        "        plt.figure(figsize=(n + 2, 6))\n",
        "\n",
        "    plt.xticks(rotation=90, fontsize=15)\n",
        "    ax = sns.countplot(\n",
        "        data=data,\n",
        "        x=feature,\n",
        "        palette=\"Paired\",\n",
        "        order=data[feature].value_counts().index[:n],\n",
        "    )\n",
        "\n",
        "    for p in ax.patches:\n",
        "        if perc == True:\n",
        "            label = \"{:.1f}%\".format(\n",
        "                100 * p.get_height() / total\n",
        "            )  # percentage of each class of the category\n",
        "        else:\n",
        "            label = p.get_height()  # count of each level of the category\n",
        "\n",
        "        x = p.get_x() + p.get_width() / 2  # width of the plot\n",
        "        y = p.get_height()  # height of the plot\n",
        "\n",
        "        ax.annotate(\n",
        "            label,\n",
        "            (x, y),\n",
        "            ha=\"center\",\n",
        "            va=\"center\",\n",
        "            size=12,\n",
        "            xytext=(0, 5),\n",
        "            textcoords=\"offset points\",\n",
        "        )  # annotate the percentage\n",
        "\n",
        "    plt.show()  # show the plot\n",
        "\n",
        "\n",
        "# function to plot a boxplot and a histogram along the same scale.\n",
        "\n",
        "\n",
        "def histogram_boxplot(data, feature, figsize=(15, 10), kde=False, bins=None):\n",
        "    \"\"\"\n",
        "    Boxplot and histogram combined\n",
        "\n",
        "    data: dataframe\n",
        "    feature: dataframe column\n",
        "    figsize: size of figure (default (15,10))\n",
        "    kde: whether to show the density curve (default False)\n",
        "    bins: number of bins for histogram (default None)\n",
        "    \"\"\"\n",
        "    f2, (ax_box2, ax_hist2) = plt.subplots(\n",
        "        nrows=2,  # Number of rows of the subplot grid= 2\n",
        "        sharex=True,  # x-axis will be shared among all subplots\n",
        "        gridspec_kw={\"height_ratios\": (0.25, 0.75)},\n",
        "        figsize=figsize,\n",
        "    )  # creating the 2 subplots\n",
        "    sns.boxplot(\n",
        "        data=data, x=feature, ax=ax_box2, showmeans=True, color=\"violet\"\n",
        "    )  # boxplot will be created and a triangle will indicate the mean value of the column\n",
        "    sns.histplot(\n",
        "        data=data, x=feature, kde=kde, ax=ax_hist2, bins=bins\n",
        "    ) if bins else sns.histplot(\n",
        "        data=data, x=feature, kde=kde, ax=ax_hist2\n",
        "    )  # For histogram\n",
        "    ax_hist2.axvline(\n",
        "        data[feature].mean(), color=\"green\", linestyle=\"--\"\n",
        "    )  # Add mean to the histogram\n",
        "    ax_hist2.axvline(\n",
        "        data[feature].median(), color=\"black\", linestyle=\"-\"\n",
        "    )  # Add median to the histogram\n",
        "\n",
        "def stacked_barplot(data, predictor, target):\n",
        "    \"\"\"\n",
        "    Print the category counts and plot a stacked bar chart\n",
        "\n",
        "    data: dataframe\n",
        "    predictor: independent variable\n",
        "    target: target variable\n",
        "    \"\"\"\n",
        "    count = data[predictor].nunique()\n",
        "    sorter = data[target].value_counts().index[-1]\n",
        "    tab1 = pd.crosstab(data[predictor], data[target], margins=True).sort_values(\n",
        "        by=sorter, ascending=False\n",
        "    )\n",
        "    print(tab1)\n",
        "    print(\"-\" * 120)\n",
        "    tab = pd.crosstab(data[predictor], data[target], normalize=\"index\").sort_values(\n",
        "        by=sorter, ascending=False\n",
        "    )\n",
        "    tab.plot(kind=\"bar\", stacked=True, figsize=(count + 5, 5))\n",
        "    plt.legend(\n",
        "        loc=\"lower left\", frameon=False,\n",
        "    )\n",
        "    plt.legend(loc=\"upper left\", bbox_to_anchor=(1, 1))\n",
        "    plt.show()\n",
        "\n",
        "    ### function to plot distributions wrt target\n",
        "\n",
        "\n",
        "def distribution_plot_wrt_target(data, predictor, target):\n",
        "\n",
        "    fig, axs = plt.subplots(2, 2, figsize=(12, 10))\n",
        "\n",
        "    target_uniq = data[target].unique()\n",
        "\n",
        "    axs[0, 0].set_title(\"Distribution of target for target=\" + str(target_uniq[0]))\n",
        "    sns.histplot(\n",
        "        data=data[data[target] == target_uniq[0]],\n",
        "        x=predictor,\n",
        "        kde=True,\n",
        "        ax=axs[0, 0],\n",
        "        color=\"teal\",\n",
        "        stat=\"density\",\n",
        "    )\n",
        "\n",
        "    axs[0, 1].set_title(\"Distribution of target for target=\" + str(target_uniq[1]))\n",
        "    sns.histplot(\n",
        "        data=data[data[target] == target_uniq[1]],\n",
        "        x=predictor,\n",
        "        kde=True,\n",
        "        ax=axs[0, 1],\n",
        "        color=\"orange\",\n",
        "        stat=\"density\",\n",
        "    )\n",
        "\n",
        "    axs[1, 0].set_title(\"Boxplot w.r.t target\")\n",
        "    sns.boxplot(data=data, x=target, y=predictor, ax=axs[1, 0], palette=\"gist_rainbow\")\n",
        "\n",
        "    axs[1, 1].set_title(\"Boxplot (without outliers) w.r.t target\")\n",
        "    sns.boxplot(\n",
        "        data=data,\n",
        "        x=target,\n",
        "        y=predictor,\n",
        "        ax=axs[1, 1],\n",
        "        showfliers=False,\n",
        "        palette=\"gist_rainbow\",\n",
        "    )\n",
        "\n",
        "    plt.tight_layout()\n",
        "    plt.show()"
      ],
      "metadata": {
        "id": "zbliRZewKt9K"
      },
      "id": "zbliRZewKt9K",
      "execution_count": null,
      "outputs": []
    },
    {
      "cell_type": "markdown",
      "source": [
        "### Univariate Analysis"
      ],
      "metadata": {
        "id": "T-FmVybUV7c4"
      },
      "id": "T-FmVybUV7c4"
    },
    {
      "cell_type": "markdown",
      "source": [
        "**Continent**"
      ],
      "metadata": {
        "id": "m1BfgzoTXSXH"
      },
      "id": "m1BfgzoTXSXH"
    },
    {
      "cell_type": "code",
      "source": [
        "labeled_barplot(ds, \"continent\", perc=True,)"
      ],
      "metadata": {
        "colab": {
          "base_uri": "https://localhost:8080/",
          "height": 489
        },
        "id": "cAo9YvXFVztN",
        "outputId": "25051c22-9777-4850-9cc5-440bf42d8696"
      },
      "id": "cAo9YvXFVztN",
      "execution_count": null,
      "outputs": [
        {
          "output_type": "display_data",
          "data": {
            "text/plain": [
              "<Figure size 576x432 with 1 Axes>"
            ],
            "image/png": "[encoded data removed]"
          },
          "metadata": {
            "needs_background": "light"
          }
        }
      ]
    },
    {
      "cell_type": "markdown",
      "source": [
        "By far the greatest number of applicants come from Asia at 66.2%. Europe and North America are both in the 15 - 13% range with South America, Africa, and Oceania being near afterthoughts at 3.3%, 2.2%, ad .8% respectively."
      ],
      "metadata": {
        "id": "e2LMX74ZXlML"
      },
      "id": "e2LMX74ZXlML"
    },
    {
      "cell_type": "markdown",
      "source": [
        "**Education of Employee**"
      ],
      "metadata": {
        "id": "WiGjZW_9YJ7I"
      },
      "id": "WiGjZW_9YJ7I"
    },
    {
      "cell_type": "code",
      "execution_count": null,
      "id": "right-permit",
      "metadata": {
        "id": "right-permit",
        "colab": {
          "base_uri": "https://localhost:8080/",
          "height": 469
        },
        "outputId": "9fe879fa-f127-43ac-9b83-c3d426ce7e0d"
      },
      "outputs": [
        {
          "output_type": "display_data",
          "data": {
            "text/plain": [
              "<Figure size 432x432 with 1 Axes>"
            ],
            "image/png": "[encoded data removed]"
          },
          "metadata": {
            "needs_background": "light"
          }
        }
      ],
      "source": [
        "labeled_barplot(ds, \"education_of_employee\", perc=True,)"
      ]
    },
    {
      "cell_type": "markdown",
      "source": [
        "Bachelor's and Master's degrees come in pretty even as one might expect given the popularity and availability of these degrees. After those two there is a sharp drop off to High School and Doctorate level education. The amount of Doctorate level applicants makes sense given the difficulty of securing that level of education. It is interesting to see that so many with only a High School education would apply for the visa program."
      ],
      "metadata": {
        "id": "xWzOG7MSYX7v"
      },
      "id": "xWzOG7MSYX7v"
    },
    {
      "cell_type": "markdown",
      "source": [
        "**Has Job Experience**"
      ],
      "metadata": {
        "id": "Fk2f9dWYZDXv"
      },
      "id": "Fk2f9dWYZDXv"
    },
    {
      "cell_type": "code",
      "source": [
        "labeled_barplot(ds, \"has_job_experience\", perc=True,)"
      ],
      "metadata": {
        "colab": {
          "base_uri": "https://localhost:8080/",
          "height": 390
        },
        "id": "htcW-mpvZG-T",
        "outputId": "892e7e65-fd49-4eae-bffb-1ed629a1e877"
      },
      "id": "htcW-mpvZG-T",
      "execution_count": null,
      "outputs": [
        {
          "output_type": "display_data",
          "data": {
            "text/plain": [
              "<Figure size 288x432 with 1 Axes>"
            ],
            "image/png": "[encoded data removed]"
          },
          "metadata": {
            "needs_background": "light"
          }
        }
      ]
    },
    {
      "cell_type": "markdown",
      "source": [
        "Almost 60% of job applicants have relevant job experience."
      ],
      "metadata": {
        "id": "QPiL0O7hZOUp"
      },
      "id": "QPiL0O7hZOUp"
    },
    {
      "cell_type": "markdown",
      "source": [
        "**Requires Job Training**"
      ],
      "metadata": {
        "id": "OhweKF7bb3hT"
      },
      "id": "OhweKF7bb3hT"
    },
    {
      "cell_type": "code",
      "source": [
        "labeled_barplot(ds, \"requires_job_training\", perc=True,)"
      ],
      "metadata": {
        "colab": {
          "base_uri": "https://localhost:8080/",
          "height": 390
        },
        "id": "gyoYcVE-b840",
        "outputId": "8fb14a66-b895-485d-91b3-9783ec6abe7a"
      },
      "id": "gyoYcVE-b840",
      "execution_count": null,
      "outputs": [
        {
          "output_type": "display_data",
          "data": {
            "text/plain": [
              "<Figure size 288x432 with 1 Axes>"
            ],
            "image/png": "[encoded data removed]"
          },
          "metadata": {
            "needs_background": "light"
          }
        }
      ]
    },
    {
      "cell_type": "markdown",
      "source": [
        "A little more than 88% of applicants will not require job training. This is interesting given the graph above that indicates only 58.1% of applicants have previous experience. "
      ],
      "metadata": {
        "id": "Mz9UPvCPcFUN"
      },
      "id": "Mz9UPvCPcFUN"
    },
    {
      "cell_type": "markdown",
      "source": [
        "**Number of Employees**"
      ],
      "metadata": {
        "id": "klTbSWDycYeT"
      },
      "id": "klTbSWDycYeT"
    },
    {
      "cell_type": "code",
      "source": [
        "histogram_boxplot(ds, \"no_of_employees\")"
      ],
      "metadata": {
        "colab": {
          "base_uri": "https://localhost:8080/",
          "height": 606
        },
        "id": "rM71bwdPcdRD",
        "outputId": "b5f44e5a-348a-49d6-95ab-b7ae368acd6e"
      },
      "id": "rM71bwdPcdRD",
      "execution_count": null,
      "outputs": [
        {
          "output_type": "display_data",
          "data": {
            "text/plain": [
              "<Figure size 1080x720 with 2 Axes>"
            ],
            "image/png": "[encoded data removed]"
          },
          "metadata": {
            "needs_background": "light"
          }
        }
      ]
    },
    {
      "cell_type": "markdown",
      "source": [
        "The data here shows that the program is being engage mostly by smaller companies and businesses. This could make sense given that there are many more small businesses than larger ones. Also, larger companies tend to have correspondingly larger global footprints and may be able to hire applicants in their native countries without bringing them to the U.S. via the visa process."
      ],
      "metadata": {
        "id": "CslZBOX4dksz"
      },
      "id": "CslZBOX4dksz"
    },
    {
      "cell_type": "markdown",
      "source": [
        "**Year of Establishment**"
      ],
      "metadata": {
        "id": "wS84AVMReILy"
      },
      "id": "wS84AVMReILy"
    },
    {
      "cell_type": "code",
      "source": [
        "histogram_boxplot(ds, \"yr_of_estab\")"
      ],
      "metadata": {
        "colab": {
          "base_uri": "https://localhost:8080/",
          "height": 606
        },
        "id": "ksMG3Bk5eNAB",
        "outputId": "0c879459-a605-46b3-acf8-1fabae7a52a2"
      },
      "id": "ksMG3Bk5eNAB",
      "execution_count": null,
      "outputs": [
        {
          "output_type": "display_data",
          "data": {
            "text/plain": [
              "<Figure size 1080x720 with 2 Axes>"
            ],
            "image/png": "[encoded data removed]"
          },
          "metadata": {
            "needs_background": "light"
          }
        }
      ]
    },
    {
      "cell_type": "markdown",
      "source": [
        "I am not entirely certain how generally relevant this data point is but we can see her that the median is somewhere in the mid 1990's. Which would put them right around the beginning of the Information Age. The newer companies could very well be tech-based."
      ],
      "metadata": {
        "id": "fX120BjUeoyY"
      },
      "id": "fX120BjUeoyY"
    },
    {
      "cell_type": "markdown",
      "source": [
        "**Region of Employment**"
      ],
      "metadata": {
        "id": "9benGS79fLE_"
      },
      "id": "9benGS79fLE_"
    },
    {
      "cell_type": "code",
      "source": [
        "labeled_barplot(ds, \"region_of_employment\", perc=True,)"
      ],
      "metadata": {
        "colab": {
          "base_uri": "https://localhost:8080/",
          "height": 453
        },
        "id": "4-hT9GA9fQq3",
        "outputId": "e7ba81da-acaf-46c5-ebdd-b88f11b0f1a8"
      },
      "id": "4-hT9GA9fQq3",
      "execution_count": null,
      "outputs": [
        {
          "output_type": "display_data",
          "data": {
            "text/plain": [
              "<Figure size 504x432 with 1 Axes>"
            ],
            "image/png": "[encoded data removed]"
          },
          "metadata": {
            "needs_background": "light"
          }
        }
      ]
    },
    {
      "cell_type": "markdown",
      "source": [
        "This statistic makes for a sad bit of logical sense. The Northeast, South, and West regions of the U.S. are all doing well economically whereas the Midwest region, also known as the Rustbelt, has only a few truly prosperous cities. Island being as low as it is makes sense considering how few of them there are in the U.S. and how few companies are headquartered on them."
      ],
      "metadata": {
        "id": "QJWIOiJbfeek"
      },
      "id": "QJWIOiJbfeek"
    },
    {
      "cell_type": "markdown",
      "source": [
        "**Prevailing Wage**"
      ],
      "metadata": {
        "id": "H7Cq0PsFgId_"
      },
      "id": "H7Cq0PsFgId_"
    },
    {
      "cell_type": "code",
      "source": [
        "histogram_boxplot(ds, \"prevailing_wage\")"
      ],
      "metadata": {
        "colab": {
          "base_uri": "https://localhost:8080/",
          "height": 606
        },
        "id": "37ek48TNgO6d",
        "outputId": "36944849-34ee-4c9f-c298-12bd4e2f2eee"
      },
      "id": "37ek48TNgO6d",
      "execution_count": null,
      "outputs": [
        {
          "output_type": "display_data",
          "data": {
            "text/plain": [
              "<Figure size 1080x720 with 2 Axes>"
            ],
            "image/png": "[encoded data removed]"
          },
          "metadata": {
            "needs_background": "light"
          }
        }
      ]
    },
    {
      "cell_type": "code",
      "source": [
        "#ds[ds[\"prevailing_wage\"] < 100] [\"unit_of_wage\"].count()\n",
        "ds.loc[ds['prevailing_wage']<100]\n",
        "#ds.loc[data['Landsize']>60000]"
      ],
      "metadata": {
        "colab": {
          "base_uri": "https://localhost:8080/",
          "height": 522
        },
        "id": "ZBpvwYtmgw4q",
        "outputId": "c989f3da-8c6d-4074-b601-dec1f72ff66c"
      },
      "id": "ZBpvwYtmgw4q",
      "execution_count": null,
      "outputs": [
        {
          "output_type": "execute_result",
          "data": {
            "text/plain": [
              "           continent education_of_employee has_job_experience  \\\n",
              "338             Asia            Bachelor's                  Y   \n",
              "634             Asia              Master's                  N   \n",
              "839             Asia           High School                  Y   \n",
              "876    South America            Bachelor's                  Y   \n",
              "995             Asia              Master's                  N   \n",
              "...              ...                   ...                ...   \n",
              "25023           Asia            Bachelor's                  N   \n",
              "25258           Asia            Bachelor's                  Y   \n",
              "25308  North America              Master's                  N   \n",
              "25329         Africa            Bachelor's                  N   \n",
              "25461           Asia              Master's                  Y   \n",
              "\n",
              "      requires_job_training  no_of_employees  yr_of_estab  \\\n",
              "338                       N             2114         2012   \n",
              "634                       N              834         1977   \n",
              "839                       N             4537         1999   \n",
              "876                       N              731         2004   \n",
              "995                       N              302         2000   \n",
              "...                     ...              ...          ...   \n",
              "25023                     Y             3200         1994   \n",
              "25258                     N             3659         1997   \n",
              "25308                     N            82953         1977   \n",
              "25329                     N             2172         1993   \n",
              "25461                     N             2861         2004   \n",
              "\n",
              "      region_of_employment  prevailing_wage unit_of_wage full_time_position  \\\n",
              "338              Northeast          15.7716         Hour                  Y   \n",
              "634              Northeast           3.3188         Hour                  Y   \n",
              "839                   West          61.1329         Hour                  Y   \n",
              "876              Northeast          82.0029         Hour                  Y   \n",
              "995                  South          47.4872         Hour                  Y   \n",
              "...                    ...              ...          ...                ...   \n",
              "25023                South          94.1546         Hour                  Y   \n",
              "25258                South          79.1099         Hour                  Y   \n",
              "25308            Northeast          42.7705         Hour                  Y   \n",
              "25329            Northeast          32.9286         Hour                  Y   \n",
              "25461                 West          54.9196         Hour                  Y   \n",
              "\n",
              "      case_status  \n",
              "338     Certified  \n",
              "634        Denied  \n",
              "839        Denied  \n",
              "876        Denied  \n",
              "995     Certified  \n",
              "...           ...  \n",
              "25023      Denied  \n",
              "25258      Denied  \n",
              "25308      Denied  \n",
              "25329      Denied  \n",
              "25461      Denied  \n",
              "\n",
              "[176 rows x 11 columns]"
            ],
            "text/html": [
              "\n",
              "  <div id=\"df-980ca9aa-e8ad-4c12-9c24-5673639c753c\">\n",
              "    <div class=\"colab-df-container\">\n",
              "      <div>\n",
              "<style scoped>\n",
              "    .dataframe tbody tr th:only-of-type {\n",
              "        vertical-align: middle;\n",
              "    }\n",
              "\n",
              "    .dataframe tbody tr th {\n",
              "        vertical-align: top;\n",
              "    }\n",
              "\n",
              "    .dataframe thead th {\n",
              "        text-align: right;\n",
              "    }\n",
              "</style>\n",
              "<table border=\"1\" class=\"dataframe\">\n",
              "  <thead>\n",
              "    <tr style=\"text-align: right;\">\n",
              "      <th></th>\n",
              "      <th>continent</th>\n",
              "      <th>education_of_employee</th>\n",
              "      <th>has_job_experience</th>\n",
              "      <th>requires_job_training</th>\n",
              "      <th>no_of_employees</th>\n",
              "      <th>yr_of_estab</th>\n",
              "      <th>region_of_employment</th>\n",
              "      <th>prevailing_wage</th>\n",
              "      <th>unit_of_wage</th>\n",
              "      <th>full_time_position</th>\n",
              "      <th>case_status</th>\n",
              "    </tr>\n",
              "  </thead>\n",
              "  <tbody>\n",
              "    <tr>\n",
              "      <th>338</th>\n",
              "      <td>Asia</td>\n",
              "      <td>Bachelor's</td>\n",
              "      <td>Y</td>\n",
              "      <td>N</td>\n",
              "      <td>2114</td>\n",
              "      <td>2012</td>\n",
              "      <td>Northeast</td>\n",
              "      <td>15.7716</td>\n",
              "      <td>Hour</td>\n",
              "      <td>Y</td>\n",
              "      <td>Certified</td>\n",
              "    </tr>\n",
              "    <tr>\n",
              "      <th>634</th>\n",
              "      <td>Asia</td>\n",
              "      <td>Master's</td>\n",
              "      <td>N</td>\n",
              "      <td>N</td>\n",
              "      <td>834</td>\n",
              "      <td>1977</td>\n",
              "      <td>Northeast</td>\n",
              "      <td>3.3188</td>\n",
              "      <td>Hour</td>\n",
              "      <td>Y</td>\n",
              "      <td>Denied</td>\n",
              "    </tr>\n",
              "    <tr>\n",
              "      <th>839</th>\n",
              "      <td>Asia</td>\n",
              "      <td>High School</td>\n",
              "      <td>Y</td>\n",
              "      <td>N</td>\n",
              "      <td>4537</td>\n",
              "      <td>1999</td>\n",
              "      <td>West</td>\n",
              "      <td>61.1329</td>\n",
              "      <td>Hour</td>\n",
              "      <td>Y</td>\n",
              "      <td>Denied</td>\n",
              "    </tr>\n",
              "    <tr>\n",
              "      <th>876</th>\n",
              "      <td>South America</td>\n",
              "      <td>Bachelor's</td>\n",
              "      <td>Y</td>\n",
              "      <td>N</td>\n",
              "      <td>731</td>\n",
              "      <td>2004</td>\n",
              "      <td>Northeast</td>\n",
              "      <td>82.0029</td>\n",
              "      <td>Hour</td>\n",
              "      <td>Y</td>\n",
              "      <td>Denied</td>\n",
              "    </tr>\n",
              "    <tr>\n",
              "      <th>995</th>\n",
              "      <td>Asia</td>\n",
              "      <td>Master's</td>\n",
              "      <td>N</td>\n",
              "      <td>N</td>\n",
              "      <td>302</td>\n",
              "      <td>2000</td>\n",
              "      <td>South</td>\n",
              "      <td>47.4872</td>\n",
              "      <td>Hour</td>\n",
              "      <td>Y</td>\n",
              "      <td>Certified</td>\n",
              "    </tr>\n",
              "    <tr>\n",
              "      <th>...</th>\n",
              "      <td>...</td>\n",
              "      <td>...</td>\n",
              "      <td>...</td>\n",
              "      <td>...</td>\n",
              "      <td>...</td>\n",
              "      <td>...</td>\n",
              "      <td>...</td>\n",
              "      <td>...</td>\n",
              "      <td>...</td>\n",
              "      <td>...</td>\n",
              "      <td>...</td>\n",
              "    </tr>\n",
              "    <tr>\n",
              "      <th>25023</th>\n",
              "      <td>Asia</td>\n",
              "      <td>Bachelor's</td>\n",
              "      <td>N</td>\n",
              "      <td>Y</td>\n",
              "      <td>3200</td>\n",
              "      <td>1994</td>\n",
              "      <td>South</td>\n",
              "      <td>94.1546</td>\n",
              "      <td>Hour</td>\n",
              "      <td>Y</td>\n",
              "      <td>Denied</td>\n",
              "    </tr>\n",
              "    <tr>\n",
              "      <th>25258</th>\n",
              "      <td>Asia</td>\n",
              "      <td>Bachelor's</td>\n",
              "      <td>Y</td>\n",
              "      <td>N</td>\n",
              "      <td>3659</td>\n",
              "      <td>1997</td>\n",
              "      <td>South</td>\n",
              "      <td>79.1099</td>\n",
              "      <td>Hour</td>\n",
              "      <td>Y</td>\n",
              "      <td>Denied</td>\n",
              "    </tr>\n",
              "    <tr>\n",
              "      <th>25308</th>\n",
              "      <td>North America</td>\n",
              "      <td>Master's</td>\n",
              "      <td>N</td>\n",
              "      <td>N</td>\n",
              "      <td>82953</td>\n",
              "      <td>1977</td>\n",
              "      <td>Northeast</td>\n",
              "      <td>42.7705</td>\n",
              "      <td>Hour</td>\n",
              "      <td>Y</td>\n",
              "      <td>Denied</td>\n",
              "    </tr>\n",
              "    <tr>\n",
              "      <th>25329</th>\n",
              "      <td>Africa</td>\n",
              "      <td>Bachelor's</td>\n",
              "      <td>N</td>\n",
              "      <td>N</td>\n",
              "      <td>2172</td>\n",
              "      <td>1993</td>\n",
              "      <td>Northeast</td>\n",
              "      <td>32.9286</td>\n",
              "      <td>Hour</td>\n",
              "      <td>Y</td>\n",
              "      <td>Denied</td>\n",
              "    </tr>\n",
              "    <tr>\n",
              "      <th>25461</th>\n",
              "      <td>Asia</td>\n",
              "      <td>Master's</td>\n",
              "      <td>Y</td>\n",
              "      <td>N</td>\n",
              "      <td>2861</td>\n",
              "      <td>2004</td>\n",
              "      <td>West</td>\n",
              "      <td>54.9196</td>\n",
              "      <td>Hour</td>\n",
              "      <td>Y</td>\n",
              "      <td>Denied</td>\n",
              "    </tr>\n",
              "  </tbody>\n",
              "</table>\n",
              "<p>176 rows × 11 columns</p>\n",
              "</div>\n",
              "      <button class=\"colab-df-convert\" onclick=\"convertToInteractive('df-980ca9aa-e8ad-4c12-9c24-5673639c753c')\"\n",
              "              title=\"Convert this dataframe to an interactive table.\"\n",
              "              style=\"display:none;\">\n",
              "        \n",
              "  <svg xmlns=\"http://www.w3.org/2000/svg\" height=\"24px\"viewBox=\"0 0 24 24\"\n",
              "       width=\"24px\">\n",
              "    <path d=\"M0 0h24v24H0V0z\" fill=\"none\"/>\n",
              "    <path d=\"M18.56 5.44l.94 2.06.94-2.06 2.06-.94-2.06-.94-.94-2.06-.94 2.06-2.06.94zm-11 1L8.5 8.5l.94-2.06 2.06-.94-2.06-.94L8.5 2.5l-.94 2.06-2.06.94zm10 10l.94 2.06.94-2.06 2.06-.94-2.06-.94-.94-2.06-.94 2.06-2.06.94z\"/><path d=\"M17.41 7.96l-1.37-1.37c-.4-.4-.92-.59-1.43-.59-.52 0-1.04.2-1.43.59L10.3 9.45l-7.72 7.72c-.78.78-.78 2.05 0 2.83L4 21.41c.39.39.9.59 1.41.59.51 0 1.02-.2 1.41-.59l7.78-7.78 2.81-2.81c.8-.78.8-2.07 0-2.86zM5.41 20L4 18.59l7.72-7.72 1.47 1.35L5.41 20z\"/>\n",
              "  </svg>\n",
              "      </button>\n",
              "      \n",
              "  <style>\n",
              "    .colab-df-container {\n",
              "      display:flex;\n",
              "      flex-wrap:wrap;\n",
              "      gap: 12px;\n",
              "    }\n",
              "\n",
              "    .colab-df-convert {\n",
              "      background-color: #E8F0FE;\n",
              "      border: none;\n",
              "      border-radius: 50%;\n",
              "      cursor: pointer;\n",
              "      display: none;\n",
              "      fill: #1967D2;\n",
              "      height: 32px;\n",
              "      padding: 0 0 0 0;\n",
              "      width: 32px;\n",
              "    }\n",
              "\n",
              "    .colab-df-convert:hover {\n",
              "      background-color: #E2EBFA;\n",
              "      box-shadow: 0px 1px 2px rgba(60, 64, 67, 0.3), 0px 1px 3px 1px rgba(60, 64, 67, 0.15);\n",
              "      fill: #174EA6;\n",
              "    }\n",
              "\n",
              "    [theme=dark] .colab-df-convert {\n",
              "      background-color: #3B4455;\n",
              "      fill: #D2E3FC;\n",
              "    }\n",
              "\n",
              "    [theme=dark] .colab-df-convert:hover {\n",
              "      background-color: #434B5C;\n",
              "      box-shadow: 0px 1px 3px 1px rgba(0, 0, 0, 0.15);\n",
              "      filter: drop-shadow(0px 1px 2px rgba(0, 0, 0, 0.3));\n",
              "      fill: #FFFFFF;\n",
              "    }\n",
              "  </style>\n",
              "\n",
              "      <script>\n",
              "        const buttonEl =\n",
              "          document.querySelector('#df-980ca9aa-e8ad-4c12-9c24-5673639c753c button.colab-df-convert');\n",
              "        buttonEl.style.display =\n",
              "          google.colab.kernel.accessAllowed ? 'block' : 'none';\n",
              "\n",
              "        async function convertToInteractive(key) {\n",
              "          const element = document.querySelector('#df-980ca9aa-e8ad-4c12-9c24-5673639c753c');\n",
              "          const dataTable =\n",
              "            await google.colab.kernel.invokeFunction('convertToInteractive',\n",
              "                                                     [key], {});\n",
              "          if (!dataTable) return;\n",
              "\n",
              "          const docLinkHtml = 'Like what you see? Visit the ' +\n",
              "            '<a target=\"_blank\" href=https://colab.research.google.com/notebooks/data_table.ipynb>data table notebook</a>'\n",
              "            + ' to learn more about interactive tables.';\n",
              "          element.innerHTML = '';\n",
              "          dataTable['output_type'] = 'display_data';\n",
              "          await google.colab.output.renderOutput(dataTable, element);\n",
              "          const docLink = document.createElement('div');\n",
              "          docLink.innerHTML = docLinkHtml;\n",
              "          element.appendChild(docLink);\n",
              "        }\n",
              "      </script>\n",
              "    </div>\n",
              "  </div>\n",
              "  "
            ]
          },
          "metadata": {},
          "execution_count": 33
        }
      ]
    },
    {
      "cell_type": "code",
      "source": [
        "ds.loc[ds[\"prevailing_wage\"] < 100, \"unit_of_wage\"].count()"
      ],
      "metadata": {
        "colab": {
          "base_uri": "https://localhost:8080/"
        },
        "id": "PC13g0F1A5hr",
        "outputId": "ba039170-5944-46b2-e3d6-965df9193122"
      },
      "id": "PC13g0F1A5hr",
      "execution_count": null,
      "outputs": [
        {
          "output_type": "execute_result",
          "data": {
            "text/plain": [
              "176"
            ]
          },
          "metadata": {},
          "execution_count": 34
        }
      ]
    },
    {
      "cell_type": "markdown",
      "source": [
        "There are 176 entries with Prevailing Wage below $100 and they all fall under the Hourly Unit of Wage which makes perfect sense and is acceptable."
      ],
      "metadata": {
        "id": "dI9Swrm5IzFk"
      },
      "id": "dI9Swrm5IzFk"
    },
    {
      "cell_type": "markdown",
      "source": [
        "**Unit of Wage**"
      ],
      "metadata": {
        "id": "2wN3a2gZj1gd"
      },
      "id": "2wN3a2gZj1gd"
    },
    {
      "cell_type": "code",
      "source": [
        "labeled_barplot(ds, \"unit_of_wage\", perc=True,)"
      ],
      "metadata": {
        "colab": {
          "base_uri": "https://localhost:8080/",
          "height": 426
        },
        "id": "dULgiZnAj58U",
        "outputId": "f3a2543d-646c-4da4-e0a9-622ad8f4a3c8"
      },
      "id": "dULgiZnAj58U",
      "execution_count": null,
      "outputs": [
        {
          "output_type": "display_data",
          "data": {
            "text/plain": [
              "<Figure size 432x432 with 1 Axes>"
            ],
            "image/png": "[encoded data removed]"
          },
          "metadata": {
            "needs_background": "light"
          }
        }
      ]
    },
    {
      "cell_type": "markdown",
      "source": [],
      "metadata": {
        "id": "3J-oULVCkIrT"
      },
      "id": "3J-oULVCkIrT"
    },
    {
      "cell_type": "markdown",
      "source": [
        "**Full Time Position**"
      ],
      "metadata": {
        "id": "car_g3jnlgVg"
      },
      "id": "car_g3jnlgVg"
    },
    {
      "cell_type": "code",
      "source": [
        "labeled_barplot(ds, \"full_time_position\", perc=True,)"
      ],
      "metadata": {
        "colab": {
          "base_uri": "https://localhost:8080/",
          "height": 390
        },
        "id": "t-8UdS5ilkAe",
        "outputId": "16c487e4-0a54-44eb-8df9-4021f6d06ee1"
      },
      "id": "t-8UdS5ilkAe",
      "execution_count": null,
      "outputs": [
        {
          "output_type": "display_data",
          "data": {
            "text/plain": [
              "<Figure size 288x432 with 1 Axes>"
            ],
            "image/png": "[encoded data removed]"
          },
          "metadata": {
            "needs_background": "light"
          }
        }
      ]
    },
    {
      "cell_type": "markdown",
      "source": [
        "This is hardly surprising as most companies willing to hire someone via the visa program would be looking to bring them on full-time to justify the investment. I would hazard a guess that most of the 10.6% in the No column are not part-time but term contract work."
      ],
      "metadata": {
        "id": "IiWfGZjKlroW"
      },
      "id": "IiWfGZjKlroW"
    },
    {
      "cell_type": "markdown",
      "source": [
        "**Case Status**"
      ],
      "metadata": {
        "id": "2Z1EpdOkmIjB"
      },
      "id": "2Z1EpdOkmIjB"
    },
    {
      "cell_type": "code",
      "source": [
        "labeled_barplot(ds, \"case_status\", perc=True,)"
      ],
      "metadata": {
        "colab": {
          "base_uri": "https://localhost:8080/",
          "height": 443
        },
        "id": "Uw0utarBmQCU",
        "outputId": "a1e278c1-c97b-424a-87c5-e195dc33db6e"
      },
      "id": "Uw0utarBmQCU",
      "execution_count": null,
      "outputs": [
        {
          "output_type": "display_data",
          "data": {
            "text/plain": [
              "<Figure size 288x432 with 1 Axes>"
            ],
            "image/png": "[encoded data removed]"
          },
          "metadata": {
            "needs_background": "light"
          }
        }
      ]
    },
    {
      "cell_type": "markdown",
      "source": [
        "Our final data point for univariate analysis (and the one we are looking to study most closely in this model) is case status or certification rate. Currently, we see that about two thirds of applicants end up getting certified. "
      ],
      "metadata": {
        "id": "GM3jNmMjmWSC"
      },
      "id": "GM3jNmMjmWSC"
    },
    {
      "cell_type": "markdown",
      "source": [
        "### Bivariate Analysis"
      ],
      "metadata": {
        "id": "23GB8NV2m75n"
      },
      "id": "23GB8NV2m75n"
    },
    {
      "cell_type": "markdown",
      "source": [
        "**Heat map of the Numerical Variables with Yes/No answers converted to 1's and 0's**"
      ],
      "metadata": {
        "id": "RkDhbduDm_F_"
      },
      "id": "RkDhbduDm_F_"
    },
    {
      "cell_type": "code",
      "source": [
        "plt.figure(figsize=(10,5))\n",
        "ds_gconvert = ds\n",
        "ds_gconvert = ds_gconvert.replace({'full_time_position': {'Y': 1, 'N': 0}})\n",
        "ds_gconvert = ds_gconvert.replace({'requires_job_training': {'Y': 1, 'N': 0}})\n",
        "ds_gconvert = ds_gconvert.replace({'has_job_experience': {'Y': 1, 'N': 0}})\n",
        "ds_gconvert = ds_gconvert.replace({'case_status': {'Certified': 1, 'Denied': 0}})\n",
        "fig, ax = plt.subplots(figsize=(12,12)) \n",
        "sns.heatmap(data=ds_gconvert.corr(), annot=True,  cmap='YlGnBu',vmin=-1,vmax=1);"
      ],
      "metadata": {
        "colab": {
          "base_uri": "https://localhost:8080/",
          "height": 816
        },
        "id": "jSlsfwoXLTF-",
        "outputId": "06cf30d9-eb8f-46d2-a25c-b9bb5eb6d0f9"
      },
      "id": "jSlsfwoXLTF-",
      "execution_count": null,
      "outputs": [
        {
          "output_type": "display_data",
          "data": {
            "text/plain": [
              "<Figure size 720x360 with 0 Axes>"
            ]
          },
          "metadata": {}
        },
        {
          "output_type": "display_data",
          "data": {
            "text/plain": [
              "<Figure size 864x864 with 2 Axes>"
            ],
            "image/png": "[encoded data removed]"
          },
          "metadata": {
            "needs_background": "light"
          }
        }
      ]
    },
    {
      "cell_type": "markdown",
      "source": [
        "Even with the added dimensions of additional converted data points there seems to be little in the way of connection. The strongest connection in the heat map is the relationship between job experience and case status at .19. The lowest appears to be the relationship between Full-time and Prevailing Wage at -.2."
      ],
      "metadata": {
        "id": "3gaEZx5Tw2Kk"
      },
      "id": "3gaEZx5Tw2Kk"
    },
    {
      "cell_type": "markdown",
      "source": [
        "**Relation between Level of Education and Region of Employment**"
      ],
      "metadata": {
        "id": "21sEVOCxxQ--"
      },
      "id": "21sEVOCxxQ--"
    },
    {
      "cell_type": "code",
      "source": [
        "plt.figure(figsize=(10,5))\n",
        "sns.heatmap(pd.crosstab([ds.education_of_employee], [ds.region_of_employment ]),\n",
        "            cmap=\"YlGnBu\", annot=True,   fmt=\"g\")\n",
        "plt.ylabel(\"Education\")\n",
        "plt.xlabel(\"Region\")\n",
        "plt.show()"
      ],
      "metadata": {
        "colab": {
          "base_uri": "https://localhost:8080/",
          "height": 334
        },
        "id": "k755eC-ZyCrF",
        "outputId": "76a37fd7-aa52-432d-8a5c-e5d8306ca578"
      },
      "id": "k755eC-ZyCrF",
      "execution_count": null,
      "outputs": [
        {
          "output_type": "display_data",
          "data": {
            "text/plain": [
              "<Figure size 720x360 with 2 Axes>"
            ],
            "image/png": "[encoded data removed]"
          },
          "metadata": {
            "needs_background": "light"
          }
        }
      ]
    },
    {
      "cell_type": "markdown",
      "source": [
        "The relationship here between the Northeast, South, and West regions to Bachelor's degrees is the strongest in the map with Master's degrees also being very popular in those regions as well. The Island region seems almost irrelevant to all levels of education due to limited counts. The Midwest seems to have similar relationships to level of education as the other main regions, just far fewer opportunites."
      ],
      "metadata": {
        "id": "totoD5aYzvLz"
      },
      "id": "totoD5aYzvLz"
    },
    {
      "cell_type": "markdown",
      "source": [
        "**Region of Employment and Case Status**"
      ],
      "metadata": {
        "id": "ONGUzkXH04IJ"
      },
      "id": "ONGUzkXH04IJ"
    },
    {
      "cell_type": "code",
      "source": [
        "stacked_barplot(ds, \"region_of_employment\", \"case_status\")"
      ],
      "metadata": {
        "colab": {
          "base_uri": "https://localhost:8080/",
          "height": 530
        },
        "id": "HkEvc_ex1BQF",
        "outputId": "6e1030f4-2b10-4a31-d793-702baf9549bc"
      },
      "id": "HkEvc_ex1BQF",
      "execution_count": null,
      "outputs": [
        {
          "output_type": "stream",
          "name": "stdout",
          "text": [
            "case_status           Certified  Denied    All\n",
            "region_of_employment                          \n",
            "All                       17018    8462  25480\n",
            "Northeast                  4526    2669   7195\n",
            "West                       4100    2486   6586\n",
            "South                      4913    2104   7017\n",
            "Midwest                    3253    1054   4307\n",
            "Island                      226     149    375\n",
            "------------------------------------------------------------------------------------------------------------------------\n"
          ]
        },
        {
          "output_type": "display_data",
          "data": {
            "text/plain": [
              "<Figure size 720x360 with 1 Axes>"
            ],
            "image/png": "[encoded data removed]"
          },
          "metadata": {
            "needs_background": "light"
          }
        }
      ]
    },
    {
      "cell_type": "markdown",
      "source": [
        "The Island, West, and Northeast regions are all roughly the same with a slight rise in the South region and another small jump in the Midwest. Qualified candidates may be harder to come by in these regions necessitating engaging in a broader search for qualified talent."
      ],
      "metadata": {
        "id": "JQIBKeiT1Uwq"
      },
      "id": "JQIBKeiT1Uwq"
    },
    {
      "cell_type": "markdown",
      "source": [
        "**Work Experience and Job Training**"
      ],
      "metadata": {
        "id": "ZmfTCiZA1xP_"
      },
      "id": "ZmfTCiZA1xP_"
    },
    {
      "cell_type": "code",
      "source": [
        "stacked_barplot(ds, \"requires_job_training\", \"has_job_experience\")"
      ],
      "metadata": {
        "colab": {
          "base_uri": "https://localhost:8080/",
          "height": 436
        },
        "id": "KNiI_fmX1UTj",
        "outputId": "7ef3dd05-71da-45cb-9c37-ccb0f778db84"
      },
      "id": "KNiI_fmX1UTj",
      "execution_count": null,
      "outputs": [
        {
          "output_type": "stream",
          "name": "stdout",
          "text": [
            "has_job_experience         N      Y    All\n",
            "requires_job_training                     \n",
            "All                    10678  14802  25480\n",
            "N                       8988  13537  22525\n",
            "Y                       1690   1265   2955\n",
            "------------------------------------------------------------------------------------------------------------------------\n"
          ]
        },
        {
          "output_type": "display_data",
          "data": {
            "text/plain": [
              "<Figure size 504x360 with 1 Axes>"
            ],
            "image/png": "[encoded data removed]"
          },
          "metadata": {
            "needs_background": "light"
          }
        }
      ]
    },
    {
      "cell_type": "markdown",
      "source": [
        "These numbers are interesting because I think I might have expected a higher percentage of the number of people with no experience to require job training. Perhaps this speaks to the level of skill required for the job or perhaps the level of education the applicant brings with them. "
      ],
      "metadata": {
        "id": "qROw6v9m2_dk"
      },
      "id": "qROw6v9m2_dk"
    },
    {
      "cell_type": "markdown",
      "source": [
        "**Job Training and Education**"
      ],
      "metadata": {
        "id": "SDmP2r0F3nHk"
      },
      "id": "SDmP2r0F3nHk"
    },
    {
      "cell_type": "code",
      "source": [
        "stacked_barplot(ds, \"education_of_employee\", \"requires_job_training\")"
      ],
      "metadata": {
        "colab": {
          "base_uri": "https://localhost:8080/",
          "height": 523
        },
        "id": "G35HSedd3r2V",
        "outputId": "5d8e671d-eddc-4da9-e6f0-f9a90b8db7e2"
      },
      "id": "G35HSedd3r2V",
      "execution_count": null,
      "outputs": [
        {
          "output_type": "stream",
          "name": "stdout",
          "text": [
            "requires_job_training      N     Y    All\n",
            "education_of_employee                    \n",
            "All                    22525  2955  25480\n",
            "Bachelor's              8971  1263  10234\n",
            "Master's                8786   848   9634\n",
            "High School             2990   430   3420\n",
            "Doctorate               1778   414   2192\n",
            "------------------------------------------------------------------------------------------------------------------------\n"
          ]
        },
        {
          "output_type": "display_data",
          "data": {
            "text/plain": [
              "<Figure size 648x360 with 1 Axes>"
            ],
            "image/png": "[encoded data removed]"
          },
          "metadata": {
            "needs_background": "light"
          }
        }
      ]
    },
    {
      "cell_type": "markdown",
      "source": [
        "Interestingly enough here, we find that those with a doctorate require the most job training. Those with a High School level education and those with a Bachelor's level seem to be about even while those with a Master's are the most job ready."
      ],
      "metadata": {
        "id": "NTFTFHRa374u"
      },
      "id": "NTFTFHRa374u"
    },
    {
      "cell_type": "markdown",
      "source": [
        "**Work Experience and Education**"
      ],
      "metadata": {
        "id": "RuxLbr9d4VI1"
      },
      "id": "RuxLbr9d4VI1"
    },
    {
      "cell_type": "code",
      "source": [
        "stacked_barplot(ds, \"education_of_employee\", \"has_job_experience\")"
      ],
      "metadata": {
        "colab": {
          "base_uri": "https://localhost:8080/",
          "height": 523
        },
        "id": "YlanexC94a_i",
        "outputId": "936867da-83c3-4d49-f255-31c81b08e7b7"
      },
      "id": "YlanexC94a_i",
      "execution_count": null,
      "outputs": [
        {
          "output_type": "stream",
          "name": "stdout",
          "text": [
            "has_job_experience         N      Y    All\n",
            "education_of_employee                     \n",
            "All                    10678  14802  25480\n",
            "Bachelor's              4348   5886  10234\n",
            "Master's                3993   5641   9634\n",
            "High School             1396   2024   3420\n",
            "Doctorate                941   1251   2192\n",
            "------------------------------------------------------------------------------------------------------------------------\n"
          ]
        },
        {
          "output_type": "display_data",
          "data": {
            "text/plain": [
              "<Figure size 648x360 with 1 Axes>"
            ],
            "image/png": "[encoded data removed]"
          },
          "metadata": {
            "needs_background": "light"
          }
        }
      ]
    },
    {
      "cell_type": "markdown",
      "source": [
        "The consistent relationship here is noteworthy. All four categories of education have roughly the same level of experience at about 58%."
      ],
      "metadata": {
        "id": "3sPmNDqd5uac"
      },
      "id": "3sPmNDqd5uac"
    },
    {
      "cell_type": "markdown",
      "source": [
        "**Prevailing Wage and Regions**"
      ],
      "metadata": {
        "id": "b5yP47Ue59C6"
      },
      "id": "b5yP47Ue59C6"
    },
    {
      "cell_type": "code",
      "source": [
        "plt.figure(figsize=(10,5))\n",
        "sns.boxplot(data=ds,x='prevailing_wage',y='region_of_employment',showfliers=False)\n",
        "plt.show()"
      ],
      "metadata": {
        "colab": {
          "base_uri": "https://localhost:8080/",
          "height": 335
        },
        "id": "q-vLPrIN6PHM",
        "outputId": "433729f2-fc0a-40ba-8d08-6bf4c121826f"
      },
      "id": "q-vLPrIN6PHM",
      "execution_count": null,
      "outputs": [
        {
          "output_type": "display_data",
          "data": {
            "text/plain": [
              "<Figure size 720x360 with 1 Axes>"
            ],
            "image/png": "[encoded data removed]"
          },
          "metadata": {
            "needs_background": "light"
          }
        }
      ]
    },
    {
      "cell_type": "markdown",
      "source": [
        "The Midwest is willing to pay the most which also speaks to demand for talent that we have explored in other graphs. The Northeast, South, and West are all roughly clumped together. Island is right about the same as Midwest but is somewhat devalued to the limited number of opportunities."
      ],
      "metadata": {
        "id": "j2KZNh6O6xah"
      },
      "id": "j2KZNh6O6xah"
    },
    {
      "cell_type": "markdown",
      "id": "classified-traveler",
      "metadata": {
        "id": "classified-traveler"
      },
      "source": [
        "## Leading Questions\n",
        "1. Those with higher education may want to travel abroad for a well-paid job. Does education play a role in Visa certification? \n",
        "\n",
        "2. How does the visa status vary across different continents? \n",
        " \n",
        "3. Experienced professionals might look abroad for opportunities to improve their lifestyles and career development. Does work experience influence visa status? \n",
        " \n",
        "4. In the United States, employees are paid at different intervals. Which pay unit is most likely to be certified for a visa? \n",
        " \n",
        "5. The US government has established a prevailing wage to protect local talent and foreign workers. How does the visa status change with the prevailing wage?"
      ]
    },
    {
      "cell_type": "markdown",
      "source": [
        "**1.Those with higher education may want to travel abroad for a well-paid job. Does education play a role in Visa certification?**"
      ],
      "metadata": {
        "id": "zAYUqxnGMIXi"
      },
      "id": "zAYUqxnGMIXi"
    },
    {
      "cell_type": "code",
      "execution_count": null,
      "id": "increasing-louisiana",
      "metadata": {
        "id": "increasing-louisiana",
        "colab": {
          "base_uri": "https://localhost:8080/",
          "height": 523
        },
        "outputId": "689abaf6-8440-4471-c37c-f37b8dc2ee80"
      },
      "outputs": [
        {
          "output_type": "stream",
          "name": "stdout",
          "text": [
            "case_status            Certified  Denied    All\n",
            "education_of_employee                          \n",
            "All                        17018    8462  25480\n",
            "Bachelor's                  6367    3867  10234\n",
            "High School                 1164    2256   3420\n",
            "Master's                    7575    2059   9634\n",
            "Doctorate                   1912     280   2192\n",
            "------------------------------------------------------------------------------------------------------------------------\n"
          ]
        },
        {
          "output_type": "display_data",
          "data": {
            "text/plain": [
              "<Figure size 648x360 with 1 Axes>"
            ],
            "image/png": "[encoded data removed]"
          },
          "metadata": {
            "needs_background": "light"
          }
        }
      ],
      "source": [
        "stacked_barplot(ds, \"education_of_employee\", \"case_status\")"
      ]
    },
    {
      "cell_type": "markdown",
      "source": [
        "Clearly, the level of education plays heavily into Visa Certification. Those with only a high school education are certified less than 40% of the time while those with doctorate level education are certified almost 90% of the time with bachelors and masters level education showing consistent rises in certification percentage as well."
      ],
      "metadata": {
        "id": "AuRP8WCNMuqG"
      },
      "id": "AuRP8WCNMuqG"
    },
    {
      "cell_type": "markdown",
      "source": [
        "**2. How does the visa status vary across different continents?**"
      ],
      "metadata": {
        "id": "rze3dIgmNTnE"
      },
      "id": "rze3dIgmNTnE"
    },
    {
      "cell_type": "code",
      "source": [
        "stacked_barplot(ds, \"continent\", \"case_status\")"
      ],
      "metadata": {
        "colab": {
          "base_uri": "https://localhost:8080/",
          "height": 571
        },
        "id": "wce0QtMvMuWU",
        "outputId": "560c154e-b352-4c95-a99d-8d2c4c9b72f7"
      },
      "id": "wce0QtMvMuWU",
      "execution_count": null,
      "outputs": [
        {
          "output_type": "stream",
          "name": "stdout",
          "text": [
            "case_status    Certified  Denied    All\n",
            "continent                              \n",
            "All                17018    8462  25480\n",
            "Asia               11012    5849  16861\n",
            "North America       2037    1255   3292\n",
            "Europe              2957     775   3732\n",
            "South America        493     359    852\n",
            "Africa               397     154    551\n",
            "Oceania              122      70    192\n",
            "------------------------------------------------------------------------------------------------------------------------\n"
          ]
        },
        {
          "output_type": "display_data",
          "data": {
            "text/plain": [
              "<Figure size 792x360 with 1 Axes>"
            ],
            "image/png": "[encoded data removed]"
          },
          "metadata": {
            "needs_background": "light"
          }
        }
      ]
    },
    {
      "cell_type": "markdown",
      "source": [
        "This data is interesting. Europe receives a 79% certification rate making it the continent with the highest rate. Africa receives a 72% certification rate despite have only 551 applications. North America, Oceania, and Asia (which has by far the most applicants) are all in roughly the same range in the 60% area with being the lowest South America at a mere 58%. Europe's number definitely seems high but the rest seem to be in a similar range for the most part."
      ],
      "metadata": {
        "id": "4rTPJxDVNsFn"
      },
      "id": "4rTPJxDVNsFn"
    },
    {
      "cell_type": "markdown",
      "source": [
        "**3. Experienced professionals might look abroad for opportunities to improve their lifestyles and career development. Does work experience influence visa status?**"
      ],
      "metadata": {
        "id": "dkUtRFrtQgp1"
      },
      "id": "dkUtRFrtQgp1"
    },
    {
      "cell_type": "code",
      "source": [
        "stacked_barplot(ds, \"has_job_experience\", \"case_status\")"
      ],
      "metadata": {
        "colab": {
          "base_uri": "https://localhost:8080/",
          "height": 436
        },
        "id": "LN3vVXWNLb81",
        "outputId": "33e0a4c7-2167-4e9c-ad7c-e8bbaedfbbea"
      },
      "id": "LN3vVXWNLb81",
      "execution_count": null,
      "outputs": [
        {
          "output_type": "stream",
          "name": "stdout",
          "text": [
            "case_status         Certified  Denied    All\n",
            "has_job_experience                          \n",
            "All                     17018    8462  25480\n",
            "N                        5994    4684  10678\n",
            "Y                       11024    3778  14802\n",
            "------------------------------------------------------------------------------------------------------------------------\n"
          ]
        },
        {
          "output_type": "display_data",
          "data": {
            "text/plain": [
              "<Figure size 504x360 with 1 Axes>"
            ],
            "image/png": "[encoded data removed]"
          },
          "metadata": {
            "needs_background": "light"
          }
        }
      ]
    },
    {
      "cell_type": "markdown",
      "source": [
        "I would say there is a clear preference for job experience in the certification process as 74% of applicants with experience receive certification while only 56% without experience are certified."
      ],
      "metadata": {
        "id": "O895KVaaQxsO"
      },
      "id": "O895KVaaQxsO"
    },
    {
      "cell_type": "markdown",
      "source": [
        "**4. In the United States, employees are paid at different intervals. Which pay unit is most likely to be certified for a visa?**"
      ],
      "metadata": {
        "id": "74gkV11jRVye"
      },
      "id": "74gkV11jRVye"
    },
    {
      "cell_type": "code",
      "source": [
        "stacked_barplot(ds, \"unit_of_wage\", \"case_status\")"
      ],
      "metadata": {
        "colab": {
          "base_uri": "https://localhost:8080/",
          "height": 495
        },
        "id": "JrfJqSJPRR5u",
        "outputId": "bb7e1369-940b-4a48-9178-ed82abf0e88a"
      },
      "id": "JrfJqSJPRR5u",
      "execution_count": null,
      "outputs": [
        {
          "output_type": "stream",
          "name": "stdout",
          "text": [
            "case_status   Certified  Denied    All\n",
            "unit_of_wage                          \n",
            "All               17018    8462  25480\n",
            "Year              16047    6915  22962\n",
            "Hour                747    1410   2157\n",
            "Week                169     103    272\n",
            "Month                55      34     89\n",
            "------------------------------------------------------------------------------------------------------------------------\n"
          ]
        },
        {
          "output_type": "display_data",
          "data": {
            "text/plain": [
              "<Figure size 648x360 with 1 Axes>"
            ],
            "image/png": "[encoded data removed]"
          },
          "metadata": {
            "needs_background": "light"
          }
        }
      ]
    },
    {
      "cell_type": "markdown",
      "source": [
        "Hourly wage earners are only certifed 34% of the time while in contrast to yearly which are certified 70% of the time. Monthly and weekly earners are both right around 60%. This makes sense when you consider that higher earning jobs in the US tend to measure salary by year while lower paying jobs that require less education are paid hourly. With that in mind, these numbers seem highly compatible with the numbers in question 1."
      ],
      "metadata": {
        "id": "C-N8Qss3Rqk6"
      },
      "id": "C-N8Qss3Rqk6"
    },
    {
      "cell_type": "markdown",
      "source": [
        "**5. The US government has established a prevailing wage to protect local talent and foreign workers. How does the visa status change with the prevailing wage?**"
      ],
      "metadata": {
        "id": "VphfLGjtSt3m"
      },
      "id": "VphfLGjtSt3m"
    },
    {
      "cell_type": "code",
      "source": [
        "distribution_plot_wrt_target(ds, \"prevailing_wage\", \"case_status\")"
      ],
      "metadata": {
        "colab": {
          "base_uri": "https://localhost:8080/",
          "height": 729
        },
        "id": "P87P2UmZ76iM",
        "outputId": "5f3588f4-e771-4d7a-9e30-52bc763232e7"
      },
      "id": "P87P2UmZ76iM",
      "execution_count": null,
      "outputs": [
        {
          "output_type": "display_data",
          "data": {
            "text/plain": [
              "<Figure size 864x720 with 4 Axes>"
            ],
            "image/png": "[encoded data removed]"
          },
          "metadata": {
            "needs_background": "light"
          }
        }
      ]
    },
    {
      "cell_type": "markdown",
      "source": [
        "The Prevailing Wages are roughly the same between those who are certified and those who are not. There tend to be a great deal more outliers in the data for those who are certified but skew and the box plots are fairly similar."
      ],
      "metadata": {
        "id": "07X5CDWs8YT4"
      },
      "id": "07X5CDWs8YT4"
    },
    {
      "cell_type": "markdown",
      "id": "alleged-spirituality",
      "metadata": {
        "id": "alleged-spirituality"
      },
      "source": [
        "## Data Preprocessing\n",
        "\n",
        "- Missing value treatment (if needed)\n",
        "- Feature engineering \n",
        "- Outlier detection and treatment (if needed)\n",
        "- Preparing data for modeling \n",
        "- Any other preprocessing steps (if needed)"
      ]
    },
    {
      "cell_type": "code",
      "source": [
        "# I like to create a copy before doing anything else so that original remains unchanged throughout the process\n",
        "df = ds.copy()\n",
        "df.head(5)"
      ],
      "metadata": {
        "id": "cSHfW8eTLRY4",
        "colab": {
          "base_uri": "https://localhost:8080/",
          "height": 250
        },
        "outputId": "f22703b1-2da7-4d0e-a2da-7e5d7e3d4a8f"
      },
      "id": "cSHfW8eTLRY4",
      "execution_count": null,
      "outputs": [
        {
          "output_type": "execute_result",
          "data": {
            "text/plain": [
              "  continent education_of_employee has_job_experience requires_job_training  \\\n",
              "0      Asia           High School                  N                     N   \n",
              "1      Asia              Master's                  Y                     N   \n",
              "2      Asia            Bachelor's                  N                     Y   \n",
              "3      Asia            Bachelor's                  N                     N   \n",
              "4    Africa              Master's                  Y                     N   \n",
              "\n",
              "   no_of_employees  yr_of_estab region_of_employment  prevailing_wage  \\\n",
              "0            14513         2007                 West         592.2029   \n",
              "1             2412         2002            Northeast       83425.6500   \n",
              "2            44444         2008                 West      122996.8600   \n",
              "3               98         1897                 West       83434.0300   \n",
              "4             1082         2005                South      149907.3900   \n",
              "\n",
              "  unit_of_wage full_time_position case_status  \n",
              "0         Hour                  Y      Denied  \n",
              "1         Year                  Y   Certified  \n",
              "2         Year                  Y      Denied  \n",
              "3         Year                  Y      Denied  \n",
              "4         Year                  Y   Certified  "
            ],
            "text/html": [
              "\n",
              "  <div id=\"df-1988a5da-f45c-4783-9b4a-e01a38c77ad0\">\n",
              "    <div class=\"colab-df-container\">\n",
              "      <div>\n",
              "<style scoped>\n",
              "    .dataframe tbody tr th:only-of-type {\n",
              "        vertical-align: middle;\n",
              "    }\n",
              "\n",
              "    .dataframe tbody tr th {\n",
              "        vertical-align: top;\n",
              "    }\n",
              "\n",
              "    .dataframe thead th {\n",
              "        text-align: right;\n",
              "    }\n",
              "</style>\n",
              "<table border=\"1\" class=\"dataframe\">\n",
              "  <thead>\n",
              "    <tr style=\"text-align: right;\">\n",
              "      <th></th>\n",
              "      <th>continent</th>\n",
              "      <th>education_of_employee</th>\n",
              "      <th>has_job_experience</th>\n",
              "      <th>requires_job_training</th>\n",
              "      <th>no_of_employees</th>\n",
              "      <th>yr_of_estab</th>\n",
              "      <th>region_of_employment</th>\n",
              "      <th>prevailing_wage</th>\n",
              "      <th>unit_of_wage</th>\n",
              "      <th>full_time_position</th>\n",
              "      <th>case_status</th>\n",
              "    </tr>\n",
              "  </thead>\n",
              "  <tbody>\n",
              "    <tr>\n",
              "      <th>0</th>\n",
              "      <td>Asia</td>\n",
              "      <td>High School</td>\n",
              "      <td>N</td>\n",
              "      <td>N</td>\n",
              "      <td>14513</td>\n",
              "      <td>2007</td>\n",
              "      <td>West</td>\n",
              "      <td>592.2029</td>\n",
              "      <td>Hour</td>\n",
              "      <td>Y</td>\n",
              "      <td>Denied</td>\n",
              "    </tr>\n",
              "    <tr>\n",
              "      <th>1</th>\n",
              "      <td>Asia</td>\n",
              "      <td>Master's</td>\n",
              "      <td>Y</td>\n",
              "      <td>N</td>\n",
              "      <td>2412</td>\n",
              "      <td>2002</td>\n",
              "      <td>Northeast</td>\n",
              "      <td>83425.6500</td>\n",
              "      <td>Year</td>\n",
              "      <td>Y</td>\n",
              "      <td>Certified</td>\n",
              "    </tr>\n",
              "    <tr>\n",
              "      <th>2</th>\n",
              "      <td>Asia</td>\n",
              "      <td>Bachelor's</td>\n",
              "      <td>N</td>\n",
              "      <td>Y</td>\n",
              "      <td>44444</td>\n",
              "      <td>2008</td>\n",
              "      <td>West</td>\n",
              "      <td>122996.8600</td>\n",
              "      <td>Year</td>\n",
              "      <td>Y</td>\n",
              "      <td>Denied</td>\n",
              "    </tr>\n",
              "    <tr>\n",
              "      <th>3</th>\n",
              "      <td>Asia</td>\n",
              "      <td>Bachelor's</td>\n",
              "      <td>N</td>\n",
              "      <td>N</td>\n",
              "      <td>98</td>\n",
              "      <td>1897</td>\n",
              "      <td>West</td>\n",
              "      <td>83434.0300</td>\n",
              "      <td>Year</td>\n",
              "      <td>Y</td>\n",
              "      <td>Denied</td>\n",
              "    </tr>\n",
              "    <tr>\n",
              "      <th>4</th>\n",
              "      <td>Africa</td>\n",
              "      <td>Master's</td>\n",
              "      <td>Y</td>\n",
              "      <td>N</td>\n",
              "      <td>1082</td>\n",
              "      <td>2005</td>\n",
              "      <td>South</td>\n",
              "      <td>149907.3900</td>\n",
              "      <td>Year</td>\n",
              "      <td>Y</td>\n",
              "      <td>Certified</td>\n",
              "    </tr>\n",
              "  </tbody>\n",
              "</table>\n",
              "</div>\n",
              "      <button class=\"colab-df-convert\" onclick=\"convertToInteractive('df-1988a5da-f45c-4783-9b4a-e01a38c77ad0')\"\n",
              "              title=\"Convert this dataframe to an interactive table.\"\n",
              "              style=\"display:none;\">\n",
              "        \n",
              "  <svg xmlns=\"http://www.w3.org/2000/svg\" height=\"24px\"viewBox=\"0 0 24 24\"\n",
              "       width=\"24px\">\n",
              "    <path d=\"M0 0h24v24H0V0z\" fill=\"none\"/>\n",
              "    <path d=\"M18.56 5.44l.94 2.06.94-2.06 2.06-.94-2.06-.94-.94-2.06-.94 2.06-2.06.94zm-11 1L8.5 8.5l.94-2.06 2.06-.94-2.06-.94L8.5 2.5l-.94 2.06-2.06.94zm10 10l.94 2.06.94-2.06 2.06-.94-2.06-.94-.94-2.06-.94 2.06-2.06.94z\"/><path d=\"M17.41 7.96l-1.37-1.37c-.4-.4-.92-.59-1.43-.59-.52 0-1.04.2-1.43.59L10.3 9.45l-7.72 7.72c-.78.78-.78 2.05 0 2.83L4 21.41c.39.39.9.59 1.41.59.51 0 1.02-.2 1.41-.59l7.78-7.78 2.81-2.81c.8-.78.8-2.07 0-2.86zM5.41 20L4 18.59l7.72-7.72 1.47 1.35L5.41 20z\"/>\n",
              "  </svg>\n",
              "      </button>\n",
              "      \n",
              "  <style>\n",
              "    .colab-df-container {\n",
              "      display:flex;\n",
              "      flex-wrap:wrap;\n",
              "      gap: 12px;\n",
              "    }\n",
              "\n",
              "    .colab-df-convert {\n",
              "      background-color: #E8F0FE;\n",
              "      border: none;\n",
              "      border-radius: 50%;\n",
              "      cursor: pointer;\n",
              "      display: none;\n",
              "      fill: #1967D2;\n",
              "      height: 32px;\n",
              "      padding: 0 0 0 0;\n",
              "      width: 32px;\n",
              "    }\n",
              "\n",
              "    .colab-df-convert:hover {\n",
              "      background-color: #E2EBFA;\n",
              "      box-shadow: 0px 1px 2px rgba(60, 64, 67, 0.3), 0px 1px 3px 1px rgba(60, 64, 67, 0.15);\n",
              "      fill: #174EA6;\n",
              "    }\n",
              "\n",
              "    [theme=dark] .colab-df-convert {\n",
              "      background-color: #3B4455;\n",
              "      fill: #D2E3FC;\n",
              "    }\n",
              "\n",
              "    [theme=dark] .colab-df-convert:hover {\n",
              "      background-color: #434B5C;\n",
              "      box-shadow: 0px 1px 3px 1px rgba(0, 0, 0, 0.15);\n",
              "      filter: drop-shadow(0px 1px 2px rgba(0, 0, 0, 0.3));\n",
              "      fill: #FFFFFF;\n",
              "    }\n",
              "  </style>\n",
              "\n",
              "      <script>\n",
              "        const buttonEl =\n",
              "          document.querySelector('#df-1988a5da-f45c-4783-9b4a-e01a38c77ad0 button.colab-df-convert');\n",
              "        buttonEl.style.display =\n",
              "          google.colab.kernel.accessAllowed ? 'block' : 'none';\n",
              "\n",
              "        async function convertToInteractive(key) {\n",
              "          const element = document.querySelector('#df-1988a5da-f45c-4783-9b4a-e01a38c77ad0');\n",
              "          const dataTable =\n",
              "            await google.colab.kernel.invokeFunction('convertToInteractive',\n",
              "                                                     [key], {});\n",
              "          if (!dataTable) return;\n",
              "\n",
              "          const docLinkHtml = 'Like what you see? Visit the ' +\n",
              "            '<a target=\"_blank\" href=https://colab.research.google.com/notebooks/data_table.ipynb>data table notebook</a>'\n",
              "            + ' to learn more about interactive tables.';\n",
              "          element.innerHTML = '';\n",
              "          dataTable['output_type'] = 'display_data';\n",
              "          await google.colab.output.renderOutput(dataTable, element);\n",
              "          const docLink = document.createElement('div');\n",
              "          docLink.innerHTML = docLinkHtml;\n",
              "          element.appendChild(docLink);\n",
              "        }\n",
              "      </script>\n",
              "    </div>\n",
              "  </div>\n",
              "  "
            ]
          },
          "metadata": {},
          "execution_count": 50
        }
      ]
    },
    {
      "cell_type": "markdown",
      "source": [
        "Before going any further, I like to make an additional copy of the data and display the head. "
      ],
      "metadata": {
        "id": "zvwKOEGJENbu"
      },
      "id": "zvwKOEGJENbu"
    },
    {
      "cell_type": "markdown",
      "source": [
        "**Outlier Detection**"
      ],
      "metadata": {
        "id": "GoPDtHe7PrVJ"
      },
      "id": "GoPDtHe7PrVJ"
    },
    {
      "cell_type": "code",
      "source": [
        "#Code to detect outliers plot\n",
        "num_cols = df.select_dtypes(include=np.number).columns.tolist()\n",
        "\n",
        "plt.figure(figsize=(15, 10))\n",
        "\n",
        "for i, variable in enumerate(num_cols):\n",
        "    plt.subplot(4, 3, i + 1)\n",
        "    sns.boxplot(data=df, x=variable)\n",
        "    plt.tight_layout(pad=2)\n",
        "\n",
        "plt.show()"
      ],
      "metadata": {
        "colab": {
          "base_uri": "https://localhost:8080/",
          "height": 194
        },
        "id": "8FaooJi2PEN1",
        "outputId": "8df5c88a-0864-41a3-d515-6fffd4a9e00a"
      },
      "id": "8FaooJi2PEN1",
      "execution_count": null,
      "outputs": [
        {
          "output_type": "display_data",
          "data": {
            "text/plain": [
              "<Figure size 1080x720 with 3 Axes>"
            ],
            "image/png": "[encoded data removed]"
          },
          "metadata": {
            "needs_background": "light"
          }
        }
      ]
    },
    {
      "cell_type": "markdown",
      "source": [
        "As we have seen with our previous data analysis, the three categories above are prone to outliers but the data is legit."
      ],
      "metadata": {
        "id": "DuHTsltxPT3T"
      },
      "id": "DuHTsltxPT3T"
    },
    {
      "cell_type": "markdown",
      "id": "difficult-union",
      "metadata": {
        "id": "difficult-union"
      },
      "source": [
        "## EDA\n",
        "\n",
        "- It is a good idea to explore the data once again after manipulating it."
      ]
    },
    {
      "cell_type": "code",
      "execution_count": null,
      "id": "interested-talent",
      "metadata": {
        "id": "interested-talent",
        "colab": {
          "base_uri": "https://localhost:8080/",
          "height": 816
        },
        "outputId": "9193f205-81bd-4c91-ea8d-221632296f0e"
      },
      "outputs": [
        {
          "output_type": "display_data",
          "data": {
            "text/plain": [
              "<Figure size 720x360 with 0 Axes>"
            ]
          },
          "metadata": {}
        },
        {
          "output_type": "display_data",
          "data": {
            "text/plain": [
              "<Figure size 864x864 with 2 Axes>"
            ],
            "image/png": "[encoded data removed]"
          },
          "metadata": {
            "needs_background": "light"
          }
        }
      ],
      "source": [
        "plt.figure(figsize=(10,5))\n",
        "ds_gconvert = ds\n",
        "ds_gconvert = ds_gconvert.replace({'full_time_position': {'Y': 1, 'N': 0}})\n",
        "ds_gconvert = ds_gconvert.replace({'requires_job_training': {'Y': 1, 'N': 0}})\n",
        "ds_gconvert = ds_gconvert.replace({'has_job_experience': {'Y': 1, 'N': 0}})\n",
        "ds_gconvert = ds_gconvert.replace({'case_status': {'Certified': 1, 'Denied': 0}})\n",
        "fig, ax = plt.subplots(figsize=(12,12)) \n",
        "sns.heatmap(data=ds_gconvert.corr(), annot=True,  cmap='YlGnBu',vmin=-1,vmax=1);"
      ]
    },
    {
      "cell_type": "markdown",
      "source": [
        "After EDA we see that the data is basically still the same and we are ready to begin making models."
      ],
      "metadata": {
        "id": "AIJuQ9_KeNMy"
      },
      "id": "AIJuQ9_KeNMy"
    },
    {
      "cell_type": "markdown",
      "id": "domestic-iceland",
      "metadata": {
        "id": "domestic-iceland"
      },
      "source": [
        "## Building bagging and boosting models"
      ]
    },
    {
      "cell_type": "markdown",
      "source": [
        "**Spliting the Dataset**"
      ],
      "metadata": {
        "id": "aLfhXPK0tNwB"
      },
      "id": "aLfhXPK0tNwB"
    },
    {
      "cell_type": "code",
      "execution_count": null,
      "id": "unknown-institution",
      "metadata": {
        "id": "unknown-institution",
        "colab": {
          "base_uri": "https://localhost:8080/"
        },
        "outputId": "fae8dbd3-322e-4f3e-cbe8-e27237118509"
      },
      "outputs": [
        {
          "output_type": "execute_result",
          "data": {
            "text/plain": [
              "((17836, 21), (7644, 21))"
            ]
          },
          "metadata": {},
          "execution_count": 53
        }
      ],
      "source": [
        "df[\"case_status\"] = df[\"case_status\"].apply(lambda x: 0 if x == \"Denied\" else 1)\n",
        "\n",
        "#Separating features and the target column\n",
        "X = df.drop(\"case_status\", axis=1)\n",
        "y = df[\"case_status\"]\n",
        "\n",
        "X = pd.get_dummies(X, drop_first=True)\n",
        "\n",
        "#Splitting the data into train and test sets in 70:30 ratio\n",
        "X_train, X_test, y_train, y_test = train_test_split(X, y, test_size=0.30, random_state=1, stratify=y)\n",
        "\n",
        "X_train.shape, X_test.shape"
      ]
    },
    {
      "cell_type": "code",
      "source": [
        "print(\"Shape of Training set : \", X_train.shape)\n",
        "print(\"Shape of test set : \", X_test.shape)\n",
        "print(\"Percentage of classes in training set:\")\n",
        "print(y_train.value_counts(normalize=True))\n",
        "print(\"Percentage of classes in test set:\")\n",
        "print(y_test.value_counts(normalize=True))"
      ],
      "metadata": {
        "colab": {
          "base_uri": "https://localhost:8080/"
        },
        "id": "7TV8pBXIr2RL",
        "outputId": "3150b53b-98b1-4d8c-9c03-3c89d1fd3835"
      },
      "id": "7TV8pBXIr2RL",
      "execution_count": null,
      "outputs": [
        {
          "output_type": "stream",
          "name": "stdout",
          "text": [
            "Shape of Training set :  (17836, 21)\n",
            "Shape of test set :  (7644, 21)\n",
            "Percentage of classes in training set:\n",
            "1    0.667919\n",
            "0    0.332081\n",
            "Name: case_status, dtype: float64\n",
            "Percentage of classes in test set:\n",
            "1    0.667844\n",
            "0    0.332156\n",
            "Name: case_status, dtype: float64\n"
          ]
        }
      ]
    },
    {
      "cell_type": "markdown",
      "source": [
        "The data has been split into a 70:30 ratio for training(70) and testing (30). Class splits are similar in both sets."
      ],
      "metadata": {
        "id": "WpV4QZGAH_eH"
      },
      "id": "WpV4QZGAH_eH"
    },
    {
      "cell_type": "markdown",
      "source": [
        "### Model evaluation criterion"
      ],
      "metadata": {
        "id": "WwDOImj-sTTJ"
      },
      "id": "WwDOImj-sTTJ"
    },
    {
      "cell_type": "markdown",
      "source": [
        "**Model can make wrong predictions as:**\n",
        "\n",
        "Two things can happen if the model is incorrect-<br>\n",
        "1. An applicant who should have been certified is not and the company loses out on an getting the most qualified candidate.<br>\n",
        "2. An applicant who should not have been certifed is granted a visa and the company still loses out on the best candidate but has gone through the  bureaucratic hassle of getting a visa granted.\n",
        "\n",
        "**Which case is more important?**\n",
        "\n",
        "Since both of the above cases end in the same negative result, they must be weighed equally.\n",
        "\n",
        "**Which metric satisfies our case?**\n",
        "\n",
        "That said, the F1 Score can be used a the metric for evaluation of this model, as greater F1 scores minimize False Negatives and False Positives.<br>\n",
        "We will use balanced class weights so that model focuses equally on both classes."
      ],
      "metadata": {
        "id": "GRJulfJoK-BU"
      },
      "id": "GRJulfJoK-BU"
    },
    {
      "cell_type": "markdown",
      "source": [
        "**Functions for modelling, performance metrics, and confusion matricies for different models**"
      ],
      "metadata": {
        "id": "M0TiWcfKLtBC"
      },
      "id": "M0TiWcfKLtBC"
    },
    {
      "cell_type": "code",
      "source": [
        "\n",
        "# defining a function to compute different metrics to check performance of a classification model built using sklearn\n",
        "def model_performance_classification_sklearn(model, predictors, target):\n",
        "    \"\"\"\n",
        "    Function to compute different metrics to check classification model performance\n",
        "\n",
        "    model: classifier\n",
        "    predictors: independent variables\n",
        "    target: dependent variable\n",
        "    \"\"\"\n",
        "\n",
        "    # predicting using the independent variables\n",
        "    pred = model.predict(predictors)\n",
        "\n",
        "    acc = accuracy_score(target, pred)  # to compute Accuracy\n",
        "    recall = recall_score(target, pred)  # to compute Recall\n",
        "    precision = precision_score(target, pred)  # to compute Precision\n",
        "    f1 = f1_score(target, pred)  # to compute F1-score\n",
        "\n",
        "    # creating a dataframe of metrics\n",
        "    df_perf = pd.DataFrame(\n",
        "        {\n",
        "            \"Accuracy\": acc,\n",
        "            \"Recall\": recall,\n",
        "            \"Precision\": precision,\n",
        "            \"F1\": f1,\n",
        "        },\n",
        "        index=[0],\n",
        "    )\n",
        "\n",
        "    return df_perf\n",
        "\n",
        "def confusion_matrix_sklearn(model, predictors, target):\n",
        "    \"\"\"\n",
        "    To plot the confusion_matrix with percentages\n",
        "\n",
        "    model: classifier\n",
        "    predictors: independent variables\n",
        "    target: dependent variable\n",
        "    \"\"\"\n",
        "    y_pred = model.predict(predictors)\n",
        "    cm = confusion_matrix(target, y_pred)\n",
        "    labels = np.asarray(\n",
        "        [\n",
        "            [\"{0:0.0f}\".format(item) + \"\\n{0:.2%}\".format(item / cm.flatten().sum())]\n",
        "            for item in cm.flatten()\n",
        "        ]\n",
        "    ).reshape(2, 2)\n",
        "\n",
        "    plt.figure(figsize=(6, 4))\n",
        "    sns.heatmap(cm, annot=labels, fmt=\"\")\n",
        "    plt.ylabel(\"True label\")\n",
        "    plt.xlabel(\"Predicted label\")"
      ],
      "metadata": {
        "id": "c9bBpDaXr2Pt"
      },
      "id": "c9bBpDaXr2Pt",
      "execution_count": null,
      "outputs": []
    },
    {
      "cell_type": "markdown",
      "source": [
        "###Model Building"
      ],
      "metadata": {
        "id": "UN6auYqmMCn8"
      },
      "id": "UN6auYqmMCn8"
    },
    {
      "cell_type": "markdown",
      "source": [
        "**Decision Tree**"
      ],
      "metadata": {
        "id": "pYGXTTCjMI7Q"
      },
      "id": "pYGXTTCjMI7Q"
    },
    {
      "cell_type": "code",
      "source": [
        "#Fitting the model\n",
        "d_tree = DecisionTreeClassifier(random_state=1)\n",
        "d_tree.fit(X_train,y_train)\n",
        "\n",
        "#Calculating different metrics\n",
        "d_tree_model_train_perf=model_performance_classification_sklearn(d_tree,X_train,y_train)\n",
        "print(\"Training performance:\\n\",d_tree_model_train_perf)\n",
        "d_tree_model_test_perf=model_performance_classification_sklearn(d_tree,X_test,y_test)\n",
        "print(\"Testing performance:\\n\",d_tree_model_test_perf)\n",
        "\n",
        "#Creating confusion matrix\n",
        "confusion_matrix_sklearn(d_tree,X_test,y_test)"
      ],
      "metadata": {
        "colab": {
          "base_uri": "https://localhost:8080/",
          "height": 383
        },
        "id": "YsmPTcBiPZ1f",
        "outputId": "f55066bf-3f97-46e8-c593-0838bc3adfd6"
      },
      "id": "YsmPTcBiPZ1f",
      "execution_count": null,
      "outputs": [
        {
          "output_type": "stream",
          "name": "stdout",
          "text": [
            "Training performance:\n",
            "    Accuracy  Recall  Precision   F1\n",
            "0       1.0     1.0        1.0  1.0\n",
            "Testing performance:\n",
            "    Accuracy    Recall  Precision        F1\n",
            "0  0.664835  0.742801   0.752232  0.747487\n"
          ]
        },
        {
          "output_type": "display_data",
          "data": {
            "text/plain": [
              "<Figure size 432x288 with 2 Axes>"
            ],
            "image/png": "[encoded data removed]"
          },
          "metadata": {
            "needs_background": "light"
          }
        }
      ]
    },
    {
      "cell_type": "markdown",
      "source": [
        "The Decision tree is clearly overfitting the Training Data. Hopefully, when we get to the Hyperparameters section this can be addressed."
      ],
      "metadata": {
        "id": "GATQ6KwuTakE"
      },
      "id": "GATQ6KwuTakE"
    },
    {
      "cell_type": "markdown",
      "source": [
        "**Confusion Matrix Legend**\n",
        "\n",
        "<br>**True Negative**(Top Left) - Predicts the visa will be denied and the visa is denied - 16.88%<br>**False Positive**(Top Right) - Predicts the visa will be certified and the visa is denied - 16.34%<br>**False Negative** (Bottom Left) - Predicts the visa will be denied and the visa is not denied - 17.18%<br>**True Positive**(Bottom Right) - Predicts the visa will be certified and the visa is certified - 49.61%"
      ],
      "metadata": {
        "id": "59SR_mKKCK2t"
      },
      "id": "59SR_mKKCK2t"
    },
    {
      "cell_type": "markdown",
      "source": [
        "**Bagging Model-**\n",
        "**<br>Random Forest Classifier**"
      ],
      "metadata": {
        "id": "_103HoCxTusa"
      },
      "id": "_103HoCxTusa"
    },
    {
      "cell_type": "code",
      "source": [
        "#Fitting the model\n",
        "rf_estimator = RandomForestClassifier(random_state=1)\n",
        "rf_estimator.fit(X_train,y_train)\n",
        "\n",
        "#Calculating different metrics\n",
        "rf_estimator_model_train_perf=model_performance_classification_sklearn(rf_estimator,X_train,y_train)\n",
        "print(\"Training performance:\\n\",rf_estimator_model_train_perf)\n",
        "rf_estimator_model_test_perf=model_performance_classification_sklearn(rf_estimator,X_test,y_test)\n",
        "print(\"Testing performance:\\n\",rf_estimator_model_test_perf)\n",
        "\n",
        "#Creating confusion matrix\n",
        "confusion_matrix_sklearn(rf_estimator,X_test,y_test)"
      ],
      "metadata": {
        "colab": {
          "base_uri": "https://localhost:8080/",
          "height": 383
        },
        "id": "abh4W9roTyRH",
        "outputId": "965ececb-6be5-43fe-eeb7-6c5f4f10eddd"
      },
      "id": "abh4W9roTyRH",
      "execution_count": null,
      "outputs": [
        {
          "output_type": "stream",
          "name": "stdout",
          "text": [
            "Training performance:\n",
            "    Accuracy    Recall  Precision        F1\n",
            "0  0.999944  0.999916        1.0  0.999958\n",
            "Testing performance:\n",
            "    Accuracy    Recall  Precision        F1\n",
            "0  0.720827  0.832125   0.768869  0.799247\n"
          ]
        },
        {
          "output_type": "display_data",
          "data": {
            "text/plain": [
              "<Figure size 432x288 with 2 Axes>"
            ],
            "image/png": "[encoded data removed]"
          },
          "metadata": {
            "needs_background": "light"
          }
        }
      ]
    },
    {
      "cell_type": "markdown",
      "source": [
        "F1 score on the Testing Data is slightly higher here but we are still seeing a lot of overfitting on the Training Data. Once again, we will wait and see what Hyperparameter Tuning does later on in the presentation."
      ],
      "metadata": {
        "id": "domJXn_bUaSR"
      },
      "id": "domJXn_bUaSR"
    },
    {
      "cell_type": "markdown",
      "source": [
        "**Confusion Matrix Legend**\n",
        "\n",
        "<br>**True Negative**(Top Left) - Predicts the visa will be denied and the visa is denied - 16.51%<br>\n",
        "**False Positive**(Top Right) - Predicts the visa will be certified and the visa is denied - 16.71%<br>\n",
        "**False Negative** (Bottom Left) - Predicts the visa will be denied and the visa is not denied - 11.21%<br>\n",
        "**True Positive**(Bottom Right) - Predicts the visa will be certified and the visa is certified - 55.57%"
      ],
      "metadata": {
        "id": "Cf4jAGBWDL0i"
      },
      "id": "Cf4jAGBWDL0i"
    },
    {
      "cell_type": "markdown",
      "source": [
        "**Bagging Model-<br>Bagging Classifier**"
      ],
      "metadata": {
        "id": "hpUfsm5mUxHn"
      },
      "id": "hpUfsm5mUxHn"
    },
    {
      "cell_type": "code",
      "source": [
        "#Fitting the model\n",
        "bagging_classifier = BaggingClassifier(random_state=1)\n",
        "bagging_classifier.fit(X_train,y_train)\n",
        "\n",
        "#Calculating different metrics\n",
        "bagging_classifier_model_train_perf=model_performance_classification_sklearn(bagging_classifier,X_train,y_train)\n",
        "print(\"Training performance:\\n\" ,bagging_classifier_model_train_perf)\n",
        "bagging_classifier_model_test_perf=model_performance_classification_sklearn(bagging_classifier,X_test,y_test)\n",
        "print(\"Testing performance:\\n\",bagging_classifier_model_test_perf)\n",
        "\n",
        "#Creating confusion matrix\n",
        "confusion_matrix_sklearn(bagging_classifier,X_test,y_test)"
      ],
      "metadata": {
        "colab": {
          "base_uri": "https://localhost:8080/",
          "height": 383
        },
        "id": "P-nSdmGEU9Tq",
        "outputId": "df21af1a-43bd-46c4-e49a-ff1b618bfa3a"
      },
      "id": "P-nSdmGEU9Tq",
      "execution_count": null,
      "outputs": [
        {
          "output_type": "stream",
          "name": "stdout",
          "text": [
            "Training performance:\n",
            "    Accuracy    Recall  Precision        F1\n",
            "0  0.985198  0.985982    0.99181  0.988887\n",
            "Testing performance:\n",
            "    Accuracy    Recall  Precision        F1\n",
            "0  0.691523  0.764153   0.771711  0.767913\n"
          ]
        },
        {
          "output_type": "display_data",
          "data": {
            "text/plain": [
              "<Figure size 432x288 with 2 Axes>"
            ],
            "image/png": "[encoded data removed]"
          },
          "metadata": {
            "needs_background": "light"
          }
        }
      ]
    },
    {
      "cell_type": "markdown",
      "source": [
        "F1 Score here on the Testing Data is not quite as good as it was on the Random Forest and the Training Data is still overfitting."
      ],
      "metadata": {
        "id": "Qm5JeXo0VDRv"
      },
      "id": "Qm5JeXo0VDRv"
    },
    {
      "cell_type": "markdown",
      "source": [
        "**Confusion Matrix Legend**\n",
        "\n",
        "<br>**True Negative**(Top Left) - Predicts the visa will be denied and the visa is denied - 18.12%<br>\n",
        "**False Positive**(Top Right) - Predicts the visa will be certified and the visa is denied - 15.10%<br>\n",
        "**False Negative** (Bottom Left) - Predicts the visa will be denied and the visa is not denied - 15.75%<br>\n",
        "**True Positive**(Bottom Right) - Predicts the visa will be certified and the visa is certified - 51.03%"
      ],
      "metadata": {
        "id": "biNBVBQQDz7-"
      },
      "id": "biNBVBQQDz7-"
    },
    {
      "cell_type": "markdown",
      "source": [
        "**Boosting Model-<br>AdaBoost Classifier**"
      ],
      "metadata": {
        "id": "kJ92-Ok9YmLa"
      },
      "id": "kJ92-Ok9YmLa"
    },
    {
      "cell_type": "code",
      "source": [
        "#Fitting the model\n",
        "ab_classifier = AdaBoostClassifier(random_state=1)\n",
        "ab_classifier.fit(X_train,y_train)\n",
        "\n",
        "#Calculating different metrics\n",
        "ab_classifier_model_train_perf=model_performance_classification_sklearn(ab_classifier,X_train,y_train)\n",
        "print(ab_classifier_model_train_perf)\n",
        "ab_classifier_model_test_perf=model_performance_classification_sklearn(ab_classifier,X_test,y_test)\n",
        "print(ab_classifier_model_test_perf)\n",
        "\n",
        "#Creating confusion matrix\n",
        "confusion_matrix_sklearn(ab_classifier,X_test,y_test)"
      ],
      "metadata": {
        "colab": {
          "base_uri": "https://localhost:8080/",
          "height": 351
        },
        "id": "2NbETAroYw0v",
        "outputId": "16b6ee20-fcf0-4020-91f8-f9490b40fa5b"
      },
      "id": "2NbETAroYw0v",
      "execution_count": null,
      "outputs": [
        {
          "output_type": "stream",
          "name": "stdout",
          "text": [
            "   Accuracy    Recall  Precision       F1\n",
            "0  0.738226  0.887182   0.760688  0.81908\n",
            "   Accuracy    Recall  Precision        F1\n",
            "0  0.734301  0.885015   0.757799  0.816481\n"
          ]
        },
        {
          "output_type": "display_data",
          "data": {
            "text/plain": [
              "<Figure size 432x288 with 2 Axes>"
            ],
            "image/png": "[encoded data removed]"
          },
          "metadata": {
            "needs_background": "light"
          }
        }
      ]
    },
    {
      "cell_type": "markdown",
      "source": [
        "**Confusion Matrix Legend**\n",
        "\n",
        "<br>**True Negative**(Top Left) - Predicts the visa will be denied and the visa is denied - 14.32%<br>\n",
        "**False Positive**(Top Right) - Predicts the visa will be certified and the visa is denied - 18.89%<br>\n",
        "**False Negative** (Bottom Left) - Predicts the visa will be denied and the visa is not denied - 7.68%<br>\n",
        "**True Positive**(Bottom Right) - Predicts the visa will be certified and the visa is certified - 59.11%"
      ],
      "metadata": {
        "id": "te26WR97EAvv"
      },
      "id": "te26WR97EAvv"
    },
    {
      "cell_type": "markdown",
      "source": [
        "AdaBoost is generating a much better F1 score and appears to be avoiding the overfit we were seeing with previous models."
      ],
      "metadata": {
        "id": "00Tx1P1IY6oS"
      },
      "id": "00Tx1P1IY6oS"
    },
    {
      "cell_type": "markdown",
      "source": [
        "**Boosting Model-<br>Gradient Boosting Classifier**"
      ],
      "metadata": {
        "id": "FWSDFXf4ZJaQ"
      },
      "id": "FWSDFXf4ZJaQ"
    },
    {
      "cell_type": "code",
      "source": [
        "#Fitting the model\n",
        "gb_classifier = GradientBoostingClassifier(random_state=1)\n",
        "gb_classifier.fit(X_train,y_train)\n",
        "\n",
        "#Calculating different metrics\n",
        "gb_classifier_model_train_perf=model_performance_classification_sklearn(gb_classifier,X_train,y_train)\n",
        "print(\"Training performance:\\n\",gb_classifier_model_train_perf)\n",
        "gb_classifier_model_test_perf=model_performance_classification_sklearn(gb_classifier,X_test,y_test)\n",
        "print(\"Testing performance:\\n\",gb_classifier_model_test_perf)\n",
        "\n",
        "#Creating confusion matrix\n",
        "confusion_matrix_sklearn(gb_classifier,X_test,y_test)"
      ],
      "metadata": {
        "colab": {
          "base_uri": "https://localhost:8080/",
          "height": 383
        },
        "id": "_iBxLaiZZSEK",
        "outputId": "4f476a7f-c8d4-4ff6-a7d5-7018961dc04f"
      },
      "id": "_iBxLaiZZSEK",
      "execution_count": null,
      "outputs": [
        {
          "output_type": "stream",
          "name": "stdout",
          "text": [
            "Training performance:\n",
            "    Accuracy   Recall  Precision        F1\n",
            "0  0.758802  0.88374   0.783042  0.830349\n",
            "Testing performance:\n",
            "    Accuracy    Recall  Precision        F1\n",
            "0  0.744767  0.876004   0.772366  0.820927\n"
          ]
        },
        {
          "output_type": "display_data",
          "data": {
            "text/plain": [
              "<Figure size 432x288 with 2 Axes>"
            ],
            "image/png": "[encoded data removed]"
          },
          "metadata": {
            "needs_background": "light"
          }
        }
      ]
    },
    {
      "cell_type": "markdown",
      "source": [
        "Gradient Boosting is slightly outperforming AdaBoost on the F1 score for both Training and Testing Data. Will be curious to see how much more performance we can get out of both in the Hyperparameter Tuning stage."
      ],
      "metadata": {
        "id": "4NAFOLWbZX1v"
      },
      "id": "4NAFOLWbZX1v"
    },
    {
      "cell_type": "markdown",
      "source": [
        "**Confusion Matrix Legend**\n",
        "\n",
        "<br>**True Negative**(Top Left) - Predicts the visa will be denied and the visa is denied - 15.97%<br>\n",
        "**False Positive**(Top Right) - Predicts the visa will be certified and the visa is denied - 17.24%<br>\n",
        "**False Negative** (Bottom Left) - Predicts the visa will be denied and the visa is not denied - 8.28%<br>\n",
        "**True Positive**(Bottom Right) - Predicts the visa will be certified and the visa is certified - 58.50%"
      ],
      "metadata": {
        "id": "9bj7yodREL65"
      },
      "id": "9bj7yodREL65"
    },
    {
      "cell_type": "markdown",
      "source": [
        "**Boosting Model-<br>XGBoost Classifier**"
      ],
      "metadata": {
        "id": "R89AgeMWZ0jK"
      },
      "id": "R89AgeMWZ0jK"
    },
    {
      "cell_type": "code",
      "source": [
        "#Fitting the model\n",
        "xgb_classifier = XGBClassifier(random_state=1, eval_metric='logloss')\n",
        "xgb_classifier.fit(X_train,y_train)\n",
        "\n",
        "#Calculating different metrics\n",
        "xgb_classifier_model_train_perf=model_performance_classification_sklearn(xgb_classifier,X_train,y_train)\n",
        "print(\"Training performance:\\n\",xgb_classifier_model_train_perf)\n",
        "xgb_classifier_model_test_perf=model_performance_classification_sklearn(xgb_classifier,X_test,y_test)\n",
        "print(\"Testing performance:\\n\",xgb_classifier_model_test_perf)\n",
        "\n",
        "#Creating confusion matrix\n",
        "confusion_matrix_sklearn(xgb_classifier,X_test,y_test)"
      ],
      "metadata": {
        "colab": {
          "base_uri": "https://localhost:8080/",
          "height": 383
        },
        "id": "9qxWbZXQZ8jt",
        "outputId": "e6c7b870-4f4b-45be-8b0e-44a478a5d46f"
      },
      "id": "9qxWbZXQZ8jt",
      "execution_count": null,
      "outputs": [
        {
          "output_type": "stream",
          "name": "stdout",
          "text": [
            "Training performance:\n",
            "    Accuracy    Recall  Precision        F1\n",
            "0  0.756279  0.883573   0.780513  0.828852\n",
            "Testing performance:\n",
            "    Accuracy    Recall  Precision        F1\n",
            "0  0.744636  0.877375   0.771576  0.821082\n"
          ]
        },
        {
          "output_type": "display_data",
          "data": {
            "text/plain": [
              "<Figure size 432x288 with 2 Axes>"
            ],
            "image/png": "[encoded data removed]"
          },
          "metadata": {
            "needs_background": "light"
          }
        }
      ]
    },
    {
      "cell_type": "markdown",
      "source": [
        "Interestingly enough, the Gradient model appears to be outperforming XGBoost without tuning."
      ],
      "metadata": {
        "id": "-9SMcWZmaIKM"
      },
      "id": "-9SMcWZmaIKM"
    },
    {
      "cell_type": "markdown",
      "source": [
        "**Confusion Matrix Legend**\n",
        "\n",
        "<br>**True Negative**(Top Left) - Predicts the visa will be denied and the visa is denied - 15.87%<br>\n",
        "**False Positive**(Top Right) - Predicts the visa will be certified and the visa is denied - 17.35%<br>\n",
        "**False Negative** (Bottom Left) - Predicts the visa will be denied and the visa is not denied - 8.19%<br>\n",
        "**True Positive**(Bottom Right) - Predicts the visa will be certified and the visa is certified - 58.59%"
      ],
      "metadata": {
        "id": "ZQ56yvpOEWlA"
      },
      "id": "ZQ56yvpOEWlA"
    },
    {
      "cell_type": "markdown",
      "id": "prime-athletics",
      "metadata": {
        "id": "prime-athletics"
      },
      "source": [
        "##  Will tuning the hyperparameters improve the model performance?"
      ]
    },
    {
      "cell_type": "markdown",
      "source": [
        "**Decision Tree Hyperparameter Tuning**"
      ],
      "metadata": {
        "id": "FcOwz0r4a-yn"
      },
      "id": "FcOwz0r4a-yn"
    },
    {
      "cell_type": "code",
      "source": [
        "#Choose the type of classifier. \n",
        "dtree_estimator = DecisionTreeClassifier(class_weight={0:0.668,1:0.332},random_state=1)\n",
        "\n",
        "# Grid of parameters to choose from\n",
        "parameters = {'max_depth': np.arange(2,30), \n",
        "              'min_samples_leaf': [1, 2, 5, 7, 10],\n",
        "              'max_leaf_nodes' : [2, 3, 5, 10,15],\n",
        "              'min_impurity_decrease': [0.0001,0.001,0.01,0.1]\n",
        "             }\n",
        "\n",
        "# Type of scoring used to compare parameter combinations\n",
        "scorer = metrics.make_scorer(metrics.f1_score)\n",
        "\n",
        "# Run the grid search\n",
        "grid_obj = GridSearchCV(dtree_estimator, parameters, scoring=scorer,n_jobs=-1)\n",
        "grid_obj = grid_obj.fit(X_train, y_train)\n",
        "\n",
        "# Set the clf to the best combination of parameters\n",
        "dtree_estimator = grid_obj.best_estimator_\n",
        "\n",
        "# Fit the best algorithm to the data. \n",
        "dtree_estimator.fit(X_train, y_train)"
      ],
      "metadata": {
        "colab": {
          "base_uri": "https://localhost:8080/"
        },
        "id": "9hwkcNF3dEVg",
        "outputId": "7caf3470-c7f7-4d21-abe7-fdda9e0db9aa"
      },
      "id": "9hwkcNF3dEVg",
      "execution_count": null,
      "outputs": [
        {
          "output_type": "execute_result",
          "data": {
            "text/plain": [
              "DecisionTreeClassifier(class_weight={0: 0.668, 1: 0.332}, max_depth=2,\n",
              "                       max_leaf_nodes=2, min_impurity_decrease=0.0001,\n",
              "                       random_state=1)"
            ]
          },
          "metadata": {},
          "execution_count": 62
        }
      ]
    },
    {
      "cell_type": "code",
      "source": [
        "#Calculating different metrics\n",
        "dtree_estimator_model_train_perf=model_performance_classification_sklearn(dtree_estimator,X_train,y_train)\n",
        "print(\"Training performance:\\n\",dtree_estimator_model_train_perf)\n",
        "dtree_estimator_model_test_perf=model_performance_classification_sklearn(dtree_estimator,X_test,y_test)\n",
        "print(\"Testing performance:\\n\",dtree_estimator_model_test_perf)\n",
        "\n",
        "#Creating confusion matrix\n",
        "confusion_matrix_sklearn(dtree_estimator,X_test,y_test)\n"
      ],
      "metadata": {
        "colab": {
          "base_uri": "https://localhost:8080/",
          "height": 383
        },
        "id": "T0eHSsdWeZfG",
        "outputId": "27599d01-524b-4d2d-d665-2002e420d344"
      },
      "id": "T0eHSsdWeZfG",
      "execution_count": null,
      "outputs": [
        {
          "output_type": "stream",
          "name": "stdout",
          "text": [
            "Training performance:\n",
            "    Accuracy    Recall  Precision        F1\n",
            "0  0.712548  0.931923   0.720067  0.812411\n",
            "Testing performance:\n",
            "    Accuracy    Recall  Precision        F1\n",
            "0  0.706567  0.930852   0.715447  0.809058\n"
          ]
        },
        {
          "output_type": "display_data",
          "data": {
            "text/plain": [
              "<Figure size 432x288 with 2 Axes>"
            ],
            "image/png": "[encoded data removed]"
          },
          "metadata": {
            "needs_background": "light"
          }
        }
      ]
    },
    {
      "cell_type": "markdown",
      "source": [
        "We can see here that the overfit issue from the original model has been solved but the F1 score on the Testing data still isn't as good as it is on some of the boosted models."
      ],
      "metadata": {
        "id": "o2kj7nuJfMkb"
      },
      "id": "o2kj7nuJfMkb"
    },
    {
      "cell_type": "markdown",
      "source": [
        "**Confusion Matrix Legend**\n",
        "\n",
        "<br>**True Negative**(Top Left) - Predicts the visa will be denied and the visa is denied - 8.49%<br>\n",
        "**False Positive**(Top Right) - Predicts the visa will be certified and the visa is denied - 24.73%<br>\n",
        "**False Negative** (Bottom Left) - Predicts the visa will be denied and the visa is not denied - 4.62%<br>\n",
        "**True Positive**(Bottom Right) - Predicts the visa will be certified and the visa is certified - 62.17%"
      ],
      "metadata": {
        "id": "31KMvRGyEmRZ"
      },
      "id": "31KMvRGyEmRZ"
    },
    {
      "cell_type": "markdown",
      "source": [
        "**Random Forest Classifier Hyperparameter Tuning**"
      ],
      "metadata": {
        "id": "Pr0xGH8abHzW"
      },
      "id": "Pr0xGH8abHzW"
    },
    {
      "cell_type": "code",
      "source": [
        "# Choose the type of classifier. \n",
        "rf_tuned = RandomForestClassifier(class_weight={0:0.668,1:0.332},random_state=1,oob_score=True,bootstrap=True)\n",
        "\n",
        "parameters = {  \n",
        "                'max_depth': list(np.arange(10,30,10)) + [None],\n",
        "                'max_features': ['sqrt',None],\n",
        "                'min_samples_leaf': np.arange(5,15,5),\n",
        "                'min_samples_split': np.arange(5, 20, 5),\n",
        "                'n_estimators': np.arange(20,120,40)}\n",
        "\n",
        "\n",
        "# Type of scoring used to compare parameter combinations\n",
        "scorer = metrics.make_scorer(metrics.f1_score)\n",
        "\n",
        "# Run the grid search\n",
        "grid_obj = GridSearchCV(rf_tuned, parameters, scoring=scorer, cv=3,n_jobs=-1)\n",
        "grid_obj = grid_obj.fit(X_train, y_train)\n",
        "\n",
        "# Set the clf to the best combination of parameters\n",
        "rf_tuned = grid_obj.best_estimator_\n",
        "\n",
        "# Fit the best algorithm to the data. \n",
        "rf_tuned.fit(X_train, y_train)"
      ],
      "metadata": {
        "colab": {
          "base_uri": "https://localhost:8080/"
        },
        "id": "30OJN9YEfeVw",
        "outputId": "e84d0fa5-d6f3-49cb-b3fb-14e7d84f53ab"
      },
      "id": "30OJN9YEfeVw",
      "execution_count": null,
      "outputs": [
        {
          "output_type": "execute_result",
          "data": {
            "text/plain": [
              "RandomForestClassifier(class_weight={0: 0.668, 1: 0.332}, max_features=None,\n",
              "                       min_samples_leaf=5, min_samples_split=5, oob_score=True,\n",
              "                       random_state=1)"
            ]
          },
          "metadata": {},
          "execution_count": 64
        }
      ]
    },
    {
      "cell_type": "code",
      "source": [
        "#Calculating different metrics\n",
        "rf_tuned_model_train_perf=model_performance_classification_sklearn(rf_tuned,X_train,y_train)\n",
        "print(\"Training performance:\\n\",rf_tuned_model_train_perf)\n",
        "rf_tuned_model_test_perf=model_performance_classification_sklearn(rf_tuned,X_test,y_test)\n",
        "print(\"Testing performance:\\n\",rf_tuned_model_test_perf)\n",
        "\n",
        "#Creating confusion matrix\n",
        "confusion_matrix_sklearn(rf_tuned,X_test,y_test)"
      ],
      "metadata": {
        "colab": {
          "base_uri": "https://localhost:8080/",
          "height": 385
        },
        "id": "BPNeYaiafkO7",
        "outputId": "5b7aa3db-973c-4204-f6c9-1d4ba72eb714"
      },
      "id": "BPNeYaiafkO7",
      "execution_count": null,
      "outputs": [
        {
          "output_type": "stream",
          "name": "stdout",
          "text": [
            "Training performance:\n",
            "    Accuracy    Recall  Precision        F1\n",
            "0  0.889269  0.894317   0.937027  0.915174\n",
            "Testing performance:\n",
            "    Accuracy   Recall  Precision        F1\n",
            "0  0.719257  0.79001     0.7897  0.789855\n"
          ]
        },
        {
          "output_type": "display_data",
          "data": {
            "text/plain": [
              "<Figure size 432x288 with 2 Axes>"
            ],
            "image/png": "[encoded data removed]"
          },
          "metadata": {
            "needs_background": "light"
          }
        }
      ]
    },
    {
      "cell_type": "markdown",
      "source": [
        "The overfit issue has once again been decreased but we are not seeing as high a rise in the F1 score as we did in the Decision Tree."
      ],
      "metadata": {
        "id": "Yt4UtM-FIUDQ"
      },
      "id": "Yt4UtM-FIUDQ"
    },
    {
      "cell_type": "markdown",
      "source": [
        "**Confusion Matrix Legend**\n",
        "\n",
        "<br>**True Negative**(Top Left) - Predicts the visa will be denied and the visa is denied - 19.17%<br>\n",
        "**False Positive**(Top Right) - Predicts the visa will be certified and the visa is denied - 14.05%<br>\n",
        "**False Negative** (Bottom Left) - Predicts the visa will be denied and the visa is not denied - 14.02%<br>\n",
        "**True Positive**(Bottom Right) - Predicts the visa will be certified and the visa is certified - 52.76%"
      ],
      "metadata": {
        "id": "hHg-NtEhE1Dr"
      },
      "id": "hHg-NtEhE1Dr"
    },
    {
      "cell_type": "markdown",
      "source": [
        "**Bagging Classifier Hyperparameter Tuning**"
      ],
      "metadata": {
        "id": "v033l9-ibP3g"
      },
      "id": "v033l9-ibP3g"
    },
    {
      "cell_type": "code",
      "source": [
        "# Choose the type of classifier. \n",
        "bagging_estimator_tuned = BaggingClassifier(random_state=1)\n",
        "\n",
        "# Grid of parameters to choose from\n",
        "parameters = {'max_samples': [0.7,0.8,0.9,1], \n",
        "              'max_features': [0.7,0.8,0.9,1],\n",
        "              'n_estimators' : [10,20,30,40,50],\n",
        "             }\n",
        "\n",
        "# Type of scoring used to compare parameter combinations\n",
        "scorer = metrics.make_scorer(metrics.f1_score)\n",
        "\n",
        "# Run the grid search\n",
        "grid_obj = GridSearchCV(bagging_estimator_tuned, parameters, scoring=scorer,cv=5)\n",
        "grid_obj = grid_obj.fit(X_train, y_train)\n",
        "\n",
        "# Set the clf to the best combination of parameters\n",
        "bagging_estimator_tuned = grid_obj.best_estimator_\n",
        "\n",
        "# Fit the best algorithm to the data.\n",
        "bagging_estimator_tuned.fit(X_train, y_train)"
      ],
      "metadata": {
        "colab": {
          "base_uri": "https://localhost:8080/"
        },
        "id": "Xkr5_CUGsTS3",
        "outputId": "2c96e96a-fddc-40c8-cd04-f48976797e7d"
      },
      "id": "Xkr5_CUGsTS3",
      "execution_count": null,
      "outputs": [
        {
          "output_type": "execute_result",
          "data": {
            "text/plain": [
              "BaggingClassifier(max_features=0.8, max_samples=0.7, n_estimators=50,\n",
              "                  random_state=1)"
            ]
          },
          "metadata": {},
          "execution_count": 66
        }
      ]
    },
    {
      "cell_type": "code",
      "source": [
        "#Calculating different metrics\n",
        "bagging_estimator_tuned_model_train_perf=model_performance_classification_sklearn(bagging_estimator_tuned,X_train,y_train)\n",
        "print(bagging_estimator_tuned_model_train_perf)\n",
        "bagging_estimator_tuned_model_test_perf=model_performance_classification_sklearn(bagging_estimator_tuned,X_test,y_test)\n",
        "print(bagging_estimator_tuned_model_test_perf)\n",
        "\n",
        "#Creating confusion matrix\n",
        "confusion_matrix_sklearn(bagging_estimator_tuned,X_test,y_test)"
      ],
      "metadata": {
        "colab": {
          "base_uri": "https://localhost:8080/",
          "height": 348
        },
        "id": "OCW7H7bNwHOR",
        "outputId": "84a6261b-e15d-4f85-b3e3-ddd6af1bd8ba"
      },
      "id": "OCW7H7bNwHOR",
      "execution_count": null,
      "outputs": [
        {
          "output_type": "stream",
          "name": "stdout",
          "text": [
            "   Accuracy    Recall  Precision       F1\n",
            "0  0.992824  0.998825    0.99051  0.99465\n",
            "   Accuracy    Recall  Precision        F1\n",
            "0  0.730508  0.869931   0.760836  0.811735\n"
          ]
        },
        {
          "output_type": "display_data",
          "data": {
            "text/plain": [
              "<Figure size 432x288 with 2 Axes>"
            ],
            "image/png": "[encoded data removed]"
          },
          "metadata": {
            "needs_background": "light"
          }
        }
      ]
    },
    {
      "cell_type": "markdown",
      "source": [
        "The Training data here is still overfitting pretty badly and the F1 score's rise is not as good as we may have hope for."
      ],
      "metadata": {
        "id": "RJ7K-jYyMhye"
      },
      "id": "RJ7K-jYyMhye"
    },
    {
      "cell_type": "markdown",
      "source": [
        "**Confusion Matrix Legend**\n",
        "\n",
        "<br>**True Negative**(Top Left) - Predicts the visa will be denied and the visa is denied - 14.95%<br>\n",
        "**False Positive**(Top Right) - Predicts the visa will be certified and the visa is denied - 18.26%<br>\n",
        "**False Negative** (Bottom Left) - Predicts the visa will be denied and the visa is not denied - 8.69%<br>\n",
        "**True Positive**(Bottom Right) - Predicts the visa will be certified and the visa is certified - 58.10%"
      ],
      "metadata": {
        "id": "lsrX9tIYFCWF"
      },
      "id": "lsrX9tIYFCWF"
    },
    {
      "cell_type": "markdown",
      "source": [
        "**AdaBoost Classifier Hyperparameter Tuning**"
      ],
      "metadata": {
        "id": "HuDlQiNzbXW5"
      },
      "id": "HuDlQiNzbXW5"
    },
    {
      "cell_type": "code",
      "source": [
        "\n",
        "# Choose the type of classifier. \n",
        "abc_tuned = AdaBoostClassifier(random_state=1)\n",
        "\n",
        "# Grid of parameters to choose from\n",
        "parameters = {\n",
        "    #Let's try different max_depth for base_estimator\n",
        "    \"base_estimator\":[DecisionTreeClassifier(max_depth=1),\n",
        "                      DecisionTreeClassifier(max_depth=2)],\n",
        "    \"n_estimators\": np.arange(20,120,40),\n",
        "    \"learning_rate\":np.arange(0.2,2,0.6)\n",
        "}\n",
        "\n",
        "# Type of scoring used to compare parameter  combinations\n",
        "scorer = metrics.make_scorer(metrics.f1_score)\n",
        "\n",
        "# Run the grid search\n",
        "grid_obj = GridSearchCV(abc_tuned, parameters, scoring=scorer,cv=3)\n",
        "grid_obj = grid_obj.fit(X_train, y_train)\n",
        "\n",
        "# Set the clf to the best combination of parameters\n",
        "abc_tuned = grid_obj.best_estimator_\n",
        "\n",
        "# Fit the best algorithm to the data.\n",
        "abc_tuned.fit(X_train, y_train)"
      ],
      "metadata": {
        "colab": {
          "base_uri": "https://localhost:8080/"
        },
        "id": "szIWBE7Ev3xq",
        "outputId": "9e635461-5697-4fe7-cc33-24c9aaa56580"
      },
      "id": "szIWBE7Ev3xq",
      "execution_count": null,
      "outputs": [
        {
          "output_type": "execute_result",
          "data": {
            "text/plain": [
              "AdaBoostClassifier(base_estimator=DecisionTreeClassifier(max_depth=2),\n",
              "                   learning_rate=0.2, n_estimators=60, random_state=1)"
            ]
          },
          "metadata": {},
          "execution_count": 68
        }
      ]
    },
    {
      "cell_type": "code",
      "source": [
        "#Calculating different metrics\n",
        "abc_tuned_model_train_perf=model_performance_classification_sklearn(abc_tuned,X_train,y_train)\n",
        "print(abc_tuned_model_train_perf)\n",
        "abc_tuned_model_test_perf=model_performance_classification_sklearn(abc_tuned,X_test,y_test)\n",
        "print(abc_tuned_model_test_perf)\n",
        "\n",
        "#Creating confusion matrix\n",
        "confusion_matrix_sklearn(abc_tuned,X_test,y_test)"
      ],
      "metadata": {
        "colab": {
          "base_uri": "https://localhost:8080/",
          "height": 348
        },
        "id": "I2xwRzwswCtP",
        "outputId": "6386947c-3e3c-4d3d-87ae-5be46730c29f"
      },
      "id": "I2xwRzwswCtP",
      "execution_count": null,
      "outputs": [
        {
          "output_type": "stream",
          "name": "stdout",
          "text": [
            "   Accuracy    Recall  Precision        F1\n",
            "0  0.750168  0.878284   0.776821  0.824443\n",
            "   Accuracy    Recall  Precision        F1\n",
            "0  0.737964  0.870911   0.767876  0.816154\n"
          ]
        },
        {
          "output_type": "display_data",
          "data": {
            "text/plain": [
              "<Figure size 432x288 with 2 Axes>"
            ],
            "image/png": "[encoded data removed]"
          },
          "metadata": {
            "needs_background": "light"
          }
        }
      ]
    },
    {
      "cell_type": "markdown",
      "source": [
        "Overfit issues were minimal here and we are still seeing roughly the same F1 score on the Testing data."
      ],
      "metadata": {
        "id": "hftskViZQKFg"
      },
      "id": "hftskViZQKFg"
    },
    {
      "cell_type": "markdown",
      "source": [
        "**Confusion Matrix Legend**\n",
        "\n",
        "<br>**True Negative**(Top Left) - Predicts the visa will be denied and the visa is denied - 15.63%<br>\n",
        "**False Positive**(Top Right) - Predicts the visa will be certified and the visa is denied - 17.58%<br>\n",
        "**False Negative** (Bottom Left) - Predicts the visa will be denied and the visa is not denied - 8.62%<br>\n",
        "**True Positive**(Bottom Right) - Predicts the visa will be certified and the visa is certified - 58.16%"
      ],
      "metadata": {
        "id": "DN5gdfLUFOlK"
      },
      "id": "DN5gdfLUFOlK"
    },
    {
      "cell_type": "markdown",
      "source": [
        "**Gradient Boosting Classifier Hyperparameter Tuning**"
      ],
      "metadata": {
        "id": "ghd1dZH4bfGy"
      },
      "id": "ghd1dZH4bfGy"
    },
    {
      "cell_type": "code",
      "source": [
        "# Choose the type of classifier. \n",
        "gbc_tuned = GradientBoostingClassifier(init=AdaBoostClassifier(random_state=1),random_state=1)\n",
        "\n",
        "# Grid of parameters to choose from\n",
        "parameters = {\n",
        "    \"n_estimators\": [100,175,250],\n",
        "    \"subsample\":[0.8,1],\n",
        "    \"max_features\":[0.8,0.9,1]\n",
        "}\n",
        "\n",
        "# Type of scoring used to compare parameter combinations\n",
        "scorer = metrics.make_scorer(metrics.f1_score)\n",
        "\n",
        "# Run the grid search\n",
        "grid_obj = GridSearchCV(gbc_tuned, parameters, scoring=scorer,cv=3)\n",
        "grid_obj = grid_obj.fit(X_train, y_train)\n",
        "\n",
        "# Set the clf to the best combination of parameters\n",
        "gbc_tuned = grid_obj.best_estimator_\n",
        "\n",
        "# Fit the best algorithm to the data.\n",
        "gbc_tuned.fit(X_train, y_train)\n"
      ],
      "metadata": {
        "colab": {
          "base_uri": "https://localhost:8080/"
        },
        "id": "7uqTrWG5wKPn",
        "outputId": "d057e3b8-2e3f-461d-9648-9ee416972868"
      },
      "id": "7uqTrWG5wKPn",
      "execution_count": null,
      "outputs": [
        {
          "output_type": "execute_result",
          "data": {
            "text/plain": [
              "GradientBoostingClassifier(init=AdaBoostClassifier(random_state=1),\n",
              "                           max_features=0.9, random_state=1, subsample=1)"
            ]
          },
          "metadata": {},
          "execution_count": 70
        }
      ]
    },
    {
      "cell_type": "code",
      "source": [
        "#Calculating different metrics\n",
        "gbc_tuned_model_train_perf=model_performance_classification_sklearn(gbc_tuned,X_train,y_train)\n",
        "print(\"Training performance:\\n\",gbc_tuned_model_train_perf)\n",
        "gbc_tuned_model_test_perf=model_performance_classification_sklearn(gbc_tuned,X_test,y_test)\n",
        "print(\"Testing performance:\\n\",gbc_tuned_model_test_perf)\n",
        "\n",
        "#Creating confusion matrix\n",
        "confusion_matrix_sklearn(gbc_tuned,X_test,y_test)"
      ],
      "metadata": {
        "colab": {
          "base_uri": "https://localhost:8080/",
          "height": 383
        },
        "id": "C_aKyTAJwPaJ",
        "outputId": "fcf3c412-6831-4f52-9ea0-62932300e231"
      },
      "id": "C_aKyTAJwPaJ",
      "execution_count": null,
      "outputs": [
        {
          "output_type": "stream",
          "name": "stdout",
          "text": [
            "Training performance:\n",
            "    Accuracy    Recall  Precision        F1\n",
            "0  0.758522  0.880383   0.784443  0.829648\n",
            "Testing performance:\n",
            "    Accuracy    Recall  Precision        F1\n",
            "0   0.74529  0.873262   0.774227  0.820768\n"
          ]
        },
        {
          "output_type": "display_data",
          "data": {
            "text/plain": [
              "<Figure size 432x288 with 2 Axes>"
            ],
            "image/png": "[encoded data removed]"
          },
          "metadata": {
            "needs_background": "light"
          }
        }
      ]
    },
    {
      "cell_type": "markdown",
      "source": [
        "Same as above. Overfit issues were not much of an issue but the F1 score is up over 82% which is the best result yet."
      ],
      "metadata": {
        "id": "QcGAL4VURH2e"
      },
      "id": "QcGAL4VURH2e"
    },
    {
      "cell_type": "markdown",
      "source": [
        "**Confusion Matrix Legend**\n",
        "\n",
        "<br>**True Negative**(Top Left) - Predicts the visa will be denied and the visa is denied - 16.21%<br>\n",
        "**False Positive**(Top Right) - Predicts the visa will be certified and the visa is denied - 17.01%<br>\n",
        "**False Negative** (Bottom Left) - Predicts the visa will be denied and the visa is not denied - 8.46%<br>\n",
        "**True Positive**(Bottom Right) - Predicts the visa will be certified and the visa is certified - 58.32%"
      ],
      "metadata": {
        "id": "_UiicjXFFbf7"
      },
      "id": "_UiicjXFFbf7"
    },
    {
      "cell_type": "markdown",
      "source": [
        "**XGBoost Classifier Hyperparameter Tuning**"
      ],
      "metadata": {
        "id": "0x_xuf1tbqBW"
      },
      "id": "0x_xuf1tbqBW"
    },
    {
      "cell_type": "code",
      "source": [
        "# Choose the type of classifier. \n",
        "xgb_tuned = XGBClassifier(random_state=1, eval_metric='logloss')\n",
        "\n",
        "# Grid of parameters to choose from\n",
        "parameters = {\n",
        "    \"n_estimators\": [10,30,50],\n",
        "    \"scale_pos_weight\":[1,2,5],\n",
        "    \"subsample\":[0.7,0.9,1],\n",
        "    \"learning_rate\":[0.05, 0.1,0.2],\n",
        "    \"colsample_bytree\":[0.7,0.9,1],\n",
        "    \"colsample_bylevel\":[0.5,0.7,1]\n",
        "}\n",
        "\n",
        "# Type of scoring used to compare parameter combinations\n",
        "scorer = metrics.make_scorer(metrics.f1_score)\n",
        "\n",
        "# Run the grid search\n",
        "grid_obj = GridSearchCV(xgb_tuned, parameters,scoring=scorer,cv=3)\n",
        "grid_obj = grid_obj.fit(X_train, y_train)\n",
        "\n",
        "# Set the clf to the best combination of parameters\n",
        "xgb_tuned = grid_obj.best_estimator_\n",
        "\n",
        "# Fit the best algorithm to the data.\n",
        "xgb_tuned.fit(X_train, y_train)"
      ],
      "metadata": {
        "colab": {
          "base_uri": "https://localhost:8080/"
        },
        "id": "S4zZRWkMwSTh",
        "outputId": "235ae1fe-0875-4e53-81ea-9cfc58957a83"
      },
      "id": "S4zZRWkMwSTh",
      "execution_count": null,
      "outputs": [
        {
          "output_type": "execute_result",
          "data": {
            "text/plain": [
              "XGBClassifier(colsample_bytree=0.7, eval_metric='logloss', n_estimators=50,\n",
              "              random_state=1, subsample=0.7)"
            ]
          },
          "metadata": {},
          "execution_count": 72
        }
      ]
    },
    {
      "cell_type": "code",
      "source": [
        "#Calculating different metrics\n",
        "xgb_tuned_model_train_perf=model_performance_classification_sklearn(xgb_tuned,X_train,y_train)\n",
        "print(\"Training performance:\\n\",xgb_tuned_model_train_perf)\n",
        "xgb_tuned_model_test_perf=model_performance_classification_sklearn(xgb_tuned,X_test,y_test)\n",
        "print(\"Testing performance:\\n\",xgb_tuned_model_test_perf)\n",
        "\n",
        "#Creating confusion matrix\n",
        "confusion_matrix_sklearn(xgb_tuned,X_test,y_test)"
      ],
      "metadata": {
        "colab": {
          "base_uri": "https://localhost:8080/",
          "height": 385
        },
        "id": "Z0OHOyCCwW0_",
        "outputId": "3c25501c-2f68-40c1-a236-3c0c1d7a5102"
      },
      "id": "Z0OHOyCCwW0_",
      "execution_count": null,
      "outputs": [
        {
          "output_type": "stream",
          "name": "stdout",
          "text": [
            "Training performance:\n",
            "    Accuracy    Recall  Precision        F1\n",
            "0   0.74843  0.892386   0.768358  0.825741\n",
            "Testing performance:\n",
            "    Accuracy   Recall  Precision        F1\n",
            "0  0.740319  0.88952   0.761657  0.820638\n"
          ]
        },
        {
          "output_type": "display_data",
          "data": {
            "text/plain": [
              "<Figure size 432x288 with 2 Axes>"
            ],
            "image/png": "[encoded data removed]"
          },
          "metadata": {
            "needs_background": "light"
          }
        }
      ]
    },
    {
      "cell_type": "markdown",
      "source": [
        "Results here are not quite as good as above in the Gradient Boost model but still very promising."
      ],
      "metadata": {
        "id": "pdRB2s5LhDtW"
      },
      "id": "pdRB2s5LhDtW"
    },
    {
      "cell_type": "markdown",
      "source": [
        "**Confusion Matrix Legend**\n",
        "\n",
        "<br>**True Negative**(Top Left) - Predicts the visa will be denied and the visa is denied - 14.63%<br>\n",
        "**False Positive**(Top Right) - Predicts the visa will be certified and the visa is denied - 18.59%<br>\n",
        "**False Negative** (Bottom Left) - Predicts the visa will be denied and the visa is not denied - 7.38%<br>\n",
        "**True Positive**(Bottom Right) - Predicts the visa will be certified and the visa is certified - 59.41%"
      ],
      "metadata": {
        "id": "gZhRFwG1Fl3e"
      },
      "id": "gZhRFwG1Fl3e"
    },
    {
      "cell_type": "markdown",
      "source": [
        "**Stacking Classifier**"
      ],
      "metadata": {
        "id": "tBV6tfSebwfp"
      },
      "id": "tBV6tfSebwfp"
    },
    {
      "cell_type": "code",
      "execution_count": null,
      "id": "banned-difficulty",
      "metadata": {
        "id": "banned-difficulty",
        "colab": {
          "base_uri": "https://localhost:8080/"
        },
        "outputId": "edfd7d47-166b-49cb-b48d-52feac5b0c10"
      },
      "outputs": [
        {
          "output_type": "execute_result",
          "data": {
            "text/plain": [
              "StackingClassifier(estimators=[('Random Forest',\n",
              "                                RandomForestClassifier(class_weight={0: 0.668,\n",
              "                                                                     1: 0.332},\n",
              "                                                       max_features=None,\n",
              "                                                       min_samples_leaf=5,\n",
              "                                                       min_samples_split=5,\n",
              "                                                       oob_score=True,\n",
              "                                                       random_state=1)),\n",
              "                               ('Gradient Boosting',\n",
              "                                GradientBoostingClassifier(init=AdaBoostClassifier(random_state=1),\n",
              "                                                           max_features=0.9,\n",
              "                                                           random_state=1,\n",
              "                                                           subsample=1)),\n",
              "                               ('Decision Tree',\n",
              "                                DecisionTreeClassifier(class_weight={0: 0.668,\n",
              "                                                                     1: 0.332},\n",
              "                                                       max_depth=2,\n",
              "                                                       max_leaf_nodes=2,\n",
              "                                                       min_impurity_decrease=0.0001,\n",
              "                                                       random_state=1))],\n",
              "                   final_estimator=XGBClassifier(colsample_bytree=0.7,\n",
              "                                                 eval_metric='logloss',\n",
              "                                                 n_estimators=50,\n",
              "                                                 random_state=1,\n",
              "                                                 subsample=0.7))"
            ]
          },
          "metadata": {},
          "execution_count": 74
        }
      ],
      "source": [
        "estimators = [('Random Forest',rf_tuned), ('Gradient Boosting',gbc_tuned), ('Decision Tree',dtree_estimator)]\n",
        "\n",
        "final_estimator = xgb_tuned\n",
        "\n",
        "stacking_classifier= StackingClassifier(estimators=estimators,final_estimator=final_estimator)\n",
        "\n",
        "stacking_classifier.fit(X_train,y_train)"
      ]
    },
    {
      "cell_type": "code",
      "source": [
        "#Calculating different metrics\n",
        "stacking_classifier_model_train_perf=model_performance_classification_sklearn(stacking_classifier,X_train,y_train)\n",
        "print(\"Training performance:\\n\",stacking_classifier_model_train_perf)\n",
        "stacking_classifier_model_test_perf=model_performance_classification_sklearn(stacking_classifier,X_test,y_test)\n",
        "print(\"Testing performance:\\n\",stacking_classifier_model_test_perf)\n",
        "\n",
        "#Creating confusion matrix\n",
        "confusion_matrix_sklearn(stacking_classifier,X_test,y_test)"
      ],
      "metadata": {
        "colab": {
          "base_uri": "https://localhost:8080/",
          "height": 383
        },
        "id": "BkyBlTG0UeRQ",
        "outputId": "89599654-eba1-44b8-b36b-cd4bf62c7671"
      },
      "id": "BkyBlTG0UeRQ",
      "execution_count": null,
      "outputs": [
        {
          "output_type": "stream",
          "name": "stdout",
          "text": [
            "Training performance:\n",
            "    Accuracy    Recall  Precision       F1\n",
            "0  0.789807  0.898262   0.808355  0.85094\n",
            "Testing performance:\n",
            "    Accuracy    Recall  Precision        F1\n",
            "0  0.744767  0.869148   0.775699  0.819769\n"
          ]
        },
        {
          "output_type": "display_data",
          "data": {
            "text/plain": [
              "<Figure size 432x288 with 2 Axes>"
            ],
            "image/png": "[encoded data removed]"
          },
          "metadata": {
            "needs_background": "light"
          }
        }
      ]
    },
    {
      "cell_type": "markdown",
      "source": [
        "Training performance here is the best without obvious signs of an overfit but the Testing data lags behind the other two boosted models above."
      ],
      "metadata": {
        "id": "eBVy8y2QF7VC"
      },
      "id": "eBVy8y2QF7VC"
    },
    {
      "cell_type": "markdown",
      "source": [
        "**Confusion Matrix Legend**\n",
        "\n",
        "<br>**True Negative**(Top Left) - Predicts the visa will be denied and the visa is denied - 16.43%<br>\n",
        "**False Positive**(Top Right) - Predicts the visa will be certified and the visa is denied - 16.78%<br>\n",
        "**False Negative** (Bottom Left) - Predicts the visa will be denied and the visa is not denied - 8.74%<br>\n",
        "**True Positive**(Bottom Right) - Predicts the visa will be certified and the visa is certified - 58.05%"
      ],
      "metadata": {
        "id": "oMtY1Ku2Fypu"
      },
      "id": "oMtY1Ku2Fypu"
    },
    {
      "cell_type": "markdown",
      "id": "obvious-maine",
      "metadata": {
        "id": "obvious-maine"
      },
      "source": [
        "## Model Performance Comparison and Conclusions"
      ]
    },
    {
      "cell_type": "code",
      "execution_count": null,
      "id": "everyday-kinase",
      "metadata": {
        "id": "everyday-kinase",
        "colab": {
          "base_uri": "https://localhost:8080/"
        },
        "outputId": "e9facea4-bda7-4f7c-b52e-e581546e4aa3"
      },
      "outputs": [
        {
          "output_type": "stream",
          "name": "stdout",
          "text": [
            "Training performance comparison:\n"
          ]
        }
      ],
      "source": [
        "#training performance comparison\n",
        "\n",
        "models_train_comp_df = pd.concat(\n",
        "    [d_tree_model_train_perf.T,dtree_estimator_model_train_perf.T,rf_estimator_model_train_perf.T,rf_tuned_model_train_perf.T,\n",
        "     bagging_classifier_model_train_perf.T,bagging_estimator_tuned_model_train_perf.T,ab_classifier_model_train_perf.T,\n",
        "     abc_tuned_model_train_perf.T,gb_classifier_model_train_perf.T,gbc_tuned_model_train_perf.T,xgb_classifier_model_train_perf.T,\n",
        "    xgb_tuned_model_train_perf.T,stacking_classifier_model_train_perf.T],\n",
        "    axis=1,\n",
        ")\n",
        "models_train_comp_df.columns = [\n",
        "    \"Decision Tree\",\n",
        "    \"Decision Tree Tuned\",\n",
        "    \"Random Forest\",\n",
        "    \"Random Forest Tuned\",\n",
        "    \"Bagging Classifier\",\n",
        "    \"Bagging Estimator Tuned\",\n",
        "    \"Adaboost Classifier\",\n",
        "    \"Adabosst Classifier Tuned\",\n",
        "    \"Gradient Boost Classifier\",\n",
        "    \"Gradient Boost Classifier Tuned\",\n",
        "    \"XGBoost Classifier\",\n",
        "    \"XGBoost Classifier Tuned\",\n",
        "    \"Stacking Classifier\"]\n",
        "print(\"Training performance comparison:\")\n",
        "models_train_comp_df\n",
        "# testing performance comparison\n",
        "\n",
        "models_test_comp_df = pd.concat(\n",
        "    [d_tree_model_test_perf.T,dtree_estimator_model_test_perf.T,rf_estimator_model_test_perf.T,rf_tuned_model_test_perf.T,\n",
        "     bagging_classifier_model_test_perf.T,bagging_estimator_tuned_model_test_perf.T,ab_classifier_model_test_perf.T,\n",
        "     abc_tuned_model_test_perf.T,gb_classifier_model_test_perf.T,gbc_tuned_model_test_perf.T,xgb_classifier_model_test_perf.T,\n",
        "    xgb_tuned_model_test_perf.T,stacking_classifier_model_test_perf.T],\n",
        "    axis=1,\n",
        ")\n",
        "models_test_comp_df.columns = [\n",
        "    \"Decision Tree\",\n",
        "    \"Decision Tree Tuned\",\n",
        "    \"Random Forest\",\n",
        "    \"Random Forest Tuned\",\n",
        "    \"Bagging Classifier\",\n",
        "    \"Bagging Estimator Tuned\",\n",
        "    \"Adaboost Classifier\",\n",
        "    \"Adabosst Classifier Tuned\",\n",
        "    \"Gradient Boost Classifier\",\n",
        "    \"Gradient Boost Classifier Tuned\",\n",
        "    \"XGBoost Classifier\",\n",
        "    \"XGBoost Classifier Tuned\",\n",
        "    \"Stacking Classifier\"]"
      ]
    },
    {
      "cell_type": "code",
      "source": [
        "print(\"Testing performance comparison:\")\n",
        "models_test_comp_df"
      ],
      "metadata": {
        "colab": {
          "base_uri": "https://localhost:8080/",
          "height": 271
        },
        "id": "EE3BJEb8UrjK",
        "outputId": "83b9714f-9d82-449d-ec16-c3569bc187f3"
      },
      "id": "EE3BJEb8UrjK",
      "execution_count": null,
      "outputs": [
        {
          "output_type": "stream",
          "name": "stdout",
          "text": [
            "Testing performance comparison:\n"
          ]
        },
        {
          "output_type": "execute_result",
          "data": {
            "text/plain": [
              "           Decision Tree  Decision Tree Tuned  Random Forest  \\\n",
              "Accuracy        0.664835             0.706567       0.720827   \n",
              "Recall          0.742801             0.930852       0.832125   \n",
              "Precision       0.752232             0.715447       0.768869   \n",
              "F1              0.747487             0.809058       0.799247   \n",
              "\n",
              "           Random Forest Tuned  Bagging Classifier  Bagging Estimator Tuned  \\\n",
              "Accuracy              0.719257            0.691523                 0.730508   \n",
              "Recall                0.790010            0.764153                 0.869931   \n",
              "Precision             0.789700            0.771711                 0.760836   \n",
              "F1                    0.789855            0.767913                 0.811735   \n",
              "\n",
              "           Adaboost Classifier  Adabosst Classifier Tuned  \\\n",
              "Accuracy              0.734301                   0.737964   \n",
              "Recall                0.885015                   0.870911   \n",
              "Precision             0.757799                   0.767876   \n",
              "F1                    0.816481                   0.816154   \n",
              "\n",
              "           Gradient Boost Classifier  Gradient Boost Classifier Tuned  \\\n",
              "Accuracy                    0.744767                         0.745290   \n",
              "Recall                      0.876004                         0.873262   \n",
              "Precision                   0.772366                         0.774227   \n",
              "F1                          0.820927                         0.820768   \n",
              "\n",
              "           XGBoost Classifier  XGBoost Classifier Tuned  Stacking Classifier  \n",
              "Accuracy             0.744636                  0.740319             0.744767  \n",
              "Recall               0.877375                  0.889520             0.869148  \n",
              "Precision            0.771576                  0.761657             0.775699  \n",
              "F1                   0.821082                  0.820638             0.819769  "
            ],
            "text/html": [
              "\n",
              "  <div id=\"df-ff110dc3-4a6c-4004-ac4d-9067eeda94bf\">\n",
              "    <div class=\"colab-df-container\">\n",
              "      <div>\n",
              "<style scoped>\n",
              "    .dataframe tbody tr th:only-of-type {\n",
              "        vertical-align: middle;\n",
              "    }\n",
              "\n",
              "    .dataframe tbody tr th {\n",
              "        vertical-align: top;\n",
              "    }\n",
              "\n",
              "    .dataframe thead th {\n",
              "        text-align: right;\n",
              "    }\n",
              "</style>\n",
              "<table border=\"1\" class=\"dataframe\">\n",
              "  <thead>\n",
              "    <tr style=\"text-align: right;\">\n",
              "      <th></th>\n",
              "      <th>Decision Tree</th>\n",
              "      <th>Decision Tree Tuned</th>\n",
              "      <th>Random Forest</th>\n",
              "      <th>Random Forest Tuned</th>\n",
              "      <th>Bagging Classifier</th>\n",
              "      <th>Bagging Estimator Tuned</th>\n",
              "      <th>Adaboost Classifier</th>\n",
              "      <th>Adabosst Classifier Tuned</th>\n",
              "      <th>Gradient Boost Classifier</th>\n",
              "      <th>Gradient Boost Classifier Tuned</th>\n",
              "      <th>XGBoost Classifier</th>\n",
              "      <th>XGBoost Classifier Tuned</th>\n",
              "      <th>Stacking Classifier</th>\n",
              "    </tr>\n",
              "  </thead>\n",
              "  <tbody>\n",
              "    <tr>\n",
              "      <th>Accuracy</th>\n",
              "      <td>0.664835</td>\n",
              "      <td>0.706567</td>\n",
              "      <td>0.720827</td>\n",
              "      <td>0.719257</td>\n",
              "      <td>0.691523</td>\n",
              "      <td>0.730508</td>\n",
              "      <td>0.734301</td>\n",
              "      <td>0.737964</td>\n",
              "      <td>0.744767</td>\n",
              "      <td>0.745290</td>\n",
              "      <td>0.744636</td>\n",
              "      <td>0.740319</td>\n",
              "      <td>0.744767</td>\n",
              "    </tr>\n",
              "    <tr>\n",
              "      <th>Recall</th>\n",
              "      <td>0.742801</td>\n",
              "      <td>0.930852</td>\n",
              "      <td>0.832125</td>\n",
              "      <td>0.790010</td>\n",
              "      <td>0.764153</td>\n",
              "      <td>0.869931</td>\n",
              "      <td>0.885015</td>\n",
              "      <td>0.870911</td>\n",
              "      <td>0.876004</td>\n",
              "      <td>0.873262</td>\n",
              "      <td>0.877375</td>\n",
              "      <td>0.889520</td>\n",
              "      <td>0.869148</td>\n",
              "    </tr>\n",
              "    <tr>\n",
              "      <th>Precision</th>\n",
              "      <td>0.752232</td>\n",
              "      <td>0.715447</td>\n",
              "      <td>0.768869</td>\n",
              "      <td>0.789700</td>\n",
              "      <td>0.771711</td>\n",
              "      <td>0.760836</td>\n",
              "      <td>0.757799</td>\n",
              "      <td>0.767876</td>\n",
              "      <td>0.772366</td>\n",
              "      <td>0.774227</td>\n",
              "      <td>0.771576</td>\n",
              "      <td>0.761657</td>\n",
              "      <td>0.775699</td>\n",
              "    </tr>\n",
              "    <tr>\n",
              "      <th>F1</th>\n",
              "      <td>0.747487</td>\n",
              "      <td>0.809058</td>\n",
              "      <td>0.799247</td>\n",
              "      <td>0.789855</td>\n",
              "      <td>0.767913</td>\n",
              "      <td>0.811735</td>\n",
              "      <td>0.816481</td>\n",
              "      <td>0.816154</td>\n",
              "      <td>0.820927</td>\n",
              "      <td>0.820768</td>\n",
              "      <td>0.821082</td>\n",
              "      <td>0.820638</td>\n",
              "      <td>0.819769</td>\n",
              "    </tr>\n",
              "  </tbody>\n",
              "</table>\n",
              "</div>\n",
              "      <button class=\"colab-df-convert\" onclick=\"convertToInteractive('df-ff110dc3-4a6c-4004-ac4d-9067eeda94bf')\"\n",
              "              title=\"Convert this dataframe to an interactive table.\"\n",
              "              style=\"display:none;\">\n",
              "        \n",
              "  <svg xmlns=\"http://www.w3.org/2000/svg\" height=\"24px\"viewBox=\"0 0 24 24\"\n",
              "       width=\"24px\">\n",
              "    <path d=\"M0 0h24v24H0V0z\" fill=\"none\"/>\n",
              "    <path d=\"M18.56 5.44l.94 2.06.94-2.06 2.06-.94-2.06-.94-.94-2.06-.94 2.06-2.06.94zm-11 1L8.5 8.5l.94-2.06 2.06-.94-2.06-.94L8.5 2.5l-.94 2.06-2.06.94zm10 10l.94 2.06.94-2.06 2.06-.94-2.06-.94-.94-2.06-.94 2.06-2.06.94z\"/><path d=\"M17.41 7.96l-1.37-1.37c-.4-.4-.92-.59-1.43-.59-.52 0-1.04.2-1.43.59L10.3 9.45l-7.72 7.72c-.78.78-.78 2.05 0 2.83L4 21.41c.39.39.9.59 1.41.59.51 0 1.02-.2 1.41-.59l7.78-7.78 2.81-2.81c.8-.78.8-2.07 0-2.86zM5.41 20L4 18.59l7.72-7.72 1.47 1.35L5.41 20z\"/>\n",
              "  </svg>\n",
              "      </button>\n",
              "      \n",
              "  <style>\n",
              "    .colab-df-container {\n",
              "      display:flex;\n",
              "      flex-wrap:wrap;\n",
              "      gap: 12px;\n",
              "    }\n",
              "\n",
              "    .colab-df-convert {\n",
              "      background-color: #E8F0FE;\n",
              "      border: none;\n",
              "      border-radius: 50%;\n",
              "      cursor: pointer;\n",
              "      display: none;\n",
              "      fill: #1967D2;\n",
              "      height: 32px;\n",
              "      padding: 0 0 0 0;\n",
              "      width: 32px;\n",
              "    }\n",
              "\n",
              "    .colab-df-convert:hover {\n",
              "      background-color: #E2EBFA;\n",
              "      box-shadow: 0px 1px 2px rgba(60, 64, 67, 0.3), 0px 1px 3px 1px rgba(60, 64, 67, 0.15);\n",
              "      fill: #174EA6;\n",
              "    }\n",
              "\n",
              "    [theme=dark] .colab-df-convert {\n",
              "      background-color: #3B4455;\n",
              "      fill: #D2E3FC;\n",
              "    }\n",
              "\n",
              "    [theme=dark] .colab-df-convert:hover {\n",
              "      background-color: #434B5C;\n",
              "      box-shadow: 0px 1px 3px 1px rgba(0, 0, 0, 0.15);\n",
              "      filter: drop-shadow(0px 1px 2px rgba(0, 0, 0, 0.3));\n",
              "      fill: #FFFFFF;\n",
              "    }\n",
              "  </style>\n",
              "\n",
              "      <script>\n",
              "        const buttonEl =\n",
              "          document.querySelector('#df-ff110dc3-4a6c-4004-ac4d-9067eeda94bf button.colab-df-convert');\n",
              "        buttonEl.style.display =\n",
              "          google.colab.kernel.accessAllowed ? 'block' : 'none';\n",
              "\n",
              "        async function convertToInteractive(key) {\n",
              "          const element = document.querySelector('#df-ff110dc3-4a6c-4004-ac4d-9067eeda94bf');\n",
              "          const dataTable =\n",
              "            await google.colab.kernel.invokeFunction('convertToInteractive',\n",
              "                                                     [key], {});\n",
              "          if (!dataTable) return;\n",
              "\n",
              "          const docLinkHtml = 'Like what you see? Visit the ' +\n",
              "            '<a target=\"_blank\" href=https://colab.research.google.com/notebooks/data_table.ipynb>data table notebook</a>'\n",
              "            + ' to learn more about interactive tables.';\n",
              "          element.innerHTML = '';\n",
              "          dataTable['output_type'] = 'display_data';\n",
              "          await google.colab.output.renderOutput(dataTable, element);\n",
              "          const docLink = document.createElement('div');\n",
              "          docLink.innerHTML = docLinkHtml;\n",
              "          element.appendChild(docLink);\n",
              "        }\n",
              "      </script>\n",
              "    </div>\n",
              "  </div>\n",
              "  "
            ]
          },
          "metadata": {},
          "execution_count": 77
        }
      ]
    },
    {
      "cell_type": "markdown",
      "source": [
        "Tuning had very little effect on the F1 score Testing data. It did solve some of the overfit issues with the F1 Scores on the Decision Tree and Random Forest training data but actually made the Bagging Classifier F1 score overfit worse. Boosting data was largely unchanged by tuning and doesn't appear to have had much of the overfit issues we saw in earlier models on the list. It looks like our best model for this data is the untuned Gradient Classifier with and F1 score of 83% on Training and 82% on the Test data."
      ],
      "metadata": {
        "id": "I3EDMXMiIph8"
      },
      "id": "I3EDMXMiIph8"
    },
    {
      "cell_type": "code",
      "source": [
        "feature_names = X_train.columns\n",
        "importances = xgb_tuned.feature_importances_\n",
        "indices = np.argsort(importances)\n",
        "\n",
        "plt.figure(figsize=(12,12))\n",
        "plt.title('Feature Importances')\n",
        "plt.barh(range(len(indices)), importances[indices], color='violet', align='center')\n",
        "plt.yticks(range(len(indices)), [feature_names[i] for i in indices])\n",
        "plt.xlabel('Relative Importance')\n",
        "plt.show()"
      ],
      "metadata": {
        "colab": {
          "base_uri": "https://localhost:8080/",
          "height": 730
        },
        "id": "wknPiaatUv9-",
        "outputId": "cf14fb63-669b-4e3a-e447-41b6876ba554"
      },
      "id": "wknPiaatUv9-",
      "execution_count": null,
      "outputs": [
        {
          "output_type": "display_data",
          "data": {
            "text/plain": [
              "<Figure size 864x864 with 1 Axes>"
            ],
            "image/png": "[encoded data removed]"
          },
          "metadata": {
            "needs_background": "light"
          }
        }
      ]
    },
    {
      "cell_type": "markdown",
      "source": [
        "Education and Job experience are the obvious standouts here. Originating from Europe, Yearly wage and Prevailing wage also carry a fair amount of importance when weighing whether or not a visa will be certified. A lot of this makes sense as level of education and experience speak to how qualified an applicant is to do the job and Yearly wages are generally how skilled labor and white collar workers are paid."
      ],
      "metadata": {
        "id": "25_AAxdPKGqm"
      },
      "id": "25_AAxdPKGqm"
    },
    {
      "cell_type": "markdown",
      "id": "nasty-retailer",
      "metadata": {
        "id": "nasty-retailer"
      },
      "source": [
        "## Actionable Insights and Recommendations"
      ]
    },
    {
      "cell_type": "markdown",
      "source": [
        "**To ensure a higher level of Visa certification, the Office of Foreign Labor Certification (OFLC) should focus on candidates who are-**<br><br>\n",
        "* **Well educated**<br>\n",
        "  We saw in the data that the higher level of education an applicant had achieved, the greater their chances of having their visa certified became.<br><br>\n",
        "* **Have experience in the profession being applied for or something similar enough to be compatible**<br>\n",
        "  Experienced professionals held a distinct numerical advantage over inexperienced workers in receiving their visas.<br><br>\n",
        "* **Candidates whose salary expectations fall into line with the regional prevailing wage**<br>\n",
        "  Workers with realistic salary expectations in a given field had higher chance of getting their visas certifed. Having such expectations could also speak to level of experience in a given field.<br><br>\n",
        "\n",
        "* **Come from highly skilled or white collar positions that tend to measure compensation per anum.** <br>Typically, if a company is willing to go through the process of bringing someone in to fill a position from outside the country, it is because they possess a certain set and level of skills that are unavailable or difficult to obtain natively. Positions requiring that level of skill typically measure salary in yearly increments. Again, it all comes back to experience, education, and skill."
      ],
      "metadata": {
        "id": "OhmC2uZHPYqL"
      },
      "id": "OhmC2uZHPYqL"
    }
  ],
  "metadata": {
    "colab": {
      "provenance": [],
      "collapsed_sections": [
        "eH4jJWwQK0xg"
      ],
      "include_colab_link": true
    },
    "kernelspec": {
      "display_name": "Python 3",
      "language": "python",
      "name": "python3"
    },
    "language_info": {
      "codemirror_mode": {
        "name": "ipython",
        "version": 3
      },
      "file_extension": ".py",
      "mimetype": "text/x-python",
      "name": "python",
      "nbconvert_exporter": "python",
      "pygments_lexer": "ipython3",
      "version": "3.8.8"
    }
  },
  "nbformat": 4,
  "nbformat_minor": 5
}